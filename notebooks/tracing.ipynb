{
 "cells": [
  {
   "cell_type": "markdown",
   "source": [
    "Tracing experiment\n",
    "=================="
   ],
   "metadata": {
    "collapsed": false
   }
  },
  {
   "cell_type": "code",
   "execution_count": 1,
   "outputs": [
    {
     "name": "stdout",
     "output_type": "stream",
     "text": [
      "You can click the link below to view the UI\n"
     ]
    },
    {
     "data": {
      "text/plain": "LangChainPlusClient (API URL: http://localhost:1984)",
      "text/html": "<a href=\"http://localhost\", target=\"_blank\" rel=\"noopener\">LangChain+ Client</a>"
     },
     "execution_count": 1,
     "metadata": {},
     "output_type": "execute_result"
    }
   ],
   "source": [
    "import os\n",
    "from langchainplus_sdk import LangChainPlusClient\n",
    "\n",
    "os.environ[\"LANGCHAIN_TRACING_V2\"] = \"true\"\n",
    "os.environ[\"LANGCHAIN_SESSION\"] = \"Tracing Walkthrough\"\n",
    "# os.environ[\"LANGCHAIN_ENDPOINT\"] = \"https://api.langchain.plus\"  # Uncomment this line if you want to use the hosted version\n",
    "# os.environ[\"LANGCHAIN_API_KEY\"] = \"<YOUR-LANGCHAINPLUS-API-KEY>\"  # Uncomment this line if you want to use the hosted version.\n",
    "\n",
    "client = LangChainPlusClient()\n",
    "print(\"You can click the link below to view the UI\")\n",
    "client"
   ],
   "metadata": {
    "collapsed": false,
    "ExecuteTime": {
     "end_time": "2023-06-13T15:50:58.208802429Z",
     "start_time": "2023-06-13T15:50:58.022817699Z"
    }
   }
  },
  {
   "cell_type": "code",
   "execution_count": 2,
   "outputs": [
    {
     "name": "stdout",
     "output_type": "stream",
     "text": [
      "environment found at /home/antonkulaga/sources/longevity-genie/.env\n",
      "start tracing into default\n"
     ]
    }
   ],
   "source": [
    "from config import load_openai_key, start_tracing\n",
    "key = load_openai_key()\n",
    "start_tracing()"
   ],
   "metadata": {
    "collapsed": false,
    "ExecuteTime": {
     "end_time": "2023-06-13T15:50:58.318527861Z",
     "start_time": "2023-06-13T15:50:58.213138049Z"
    }
   }
  },
  {
   "cell_type": "code",
   "execution_count": 4,
   "outputs": [],
   "source": [
    "from langchain.chat_models import ChatOpenAI\n",
    "from langchain.agents import initialize_agent, load_tools\n",
    "from langchain.agents import AgentType\n",
    "\n",
    "llm = ChatOpenAI(temperature=0)\n",
    "tools = load_tools([\"serpapi\", \"llm-math\"], llm=llm)\n",
    "agent = initialize_agent(\n",
    "    tools, llm, agent=AgentType.ZERO_SHOT_REACT_DESCRIPTION, verbose=False\n",
    ")"
   ],
   "metadata": {
    "collapsed": false,
    "ExecuteTime": {
     "end_time": "2023-06-13T15:51:23.411749569Z",
     "start_time": "2023-06-13T15:51:20.451503937Z"
    }
   }
  },
  {
   "cell_type": "code",
   "execution_count": 5,
   "outputs": [
    {
     "name": "stderr",
     "output_type": "stream",
     "text": [
      "WARNING:root:Failed to load default session, using empty session: 1 validation error for TracerSessionV1\n",
      "id\n",
      "  value is not a valid integer (type=type_error.integer)\n",
      "WARNING:root:Failed to load default session, using empty session: 1 validation error for TracerSessionV1\n",
      "id\n",
      "  value is not a valid integer (type=type_error.integer)\n",
      "WARNING:root:Failed to load default session, using empty session: 1 validation error for TracerSessionV1\n",
      "id\n",
      "  value is not a valid integer (type=type_error.integer)\n",
      "WARNING:root:Failed to load default session, using empty session: 1 validation error for TracerSessionV1\n",
      "id\n",
      "  value is not a valid integer (type=type_error.integer)\n",
      "WARNING:root:Failed to load default session, using empty session: 1 validation error for TracerSessionV1\n",
      "id\n",
      "  value is not a valid integer (type=type_error.integer)\n",
      "WARNING:root:Failed to load default session, using empty session: 1 validation error for TracerSessionV1\n",
      "id\n",
      "  value is not a valid integer (type=type_error.integer)\n",
      "WARNING:root:Failed to load default session, using empty session: 1 validation error for TracerSessionV1\n",
      "id\n",
      "  value is not a valid integer (type=type_error.integer)\n",
      "WARNING:root:Failed to load default session, using empty session: 1 validation error for TracerSessionV1\n",
      "id\n",
      "  value is not a valid integer (type=type_error.integer)\n",
      "WARNING:root:Failed to load default session, using empty session: 1 validation error for TracerSessionV1\n",
      "id\n",
      "  value is not a valid integer (type=type_error.integer)\n",
      "WARNING:root:Failed to load default session, using empty session: 1 validation error for TracerSessionV1\n",
      "id\n",
      "  value is not a valid integer (type=type_error.integer)\n",
      "WARNING:root:Failed to persist run: {\"detail\":\"Not Found\"}\n",
      "WARNING:root:Failed to persist run: {\"detail\":\"Not Found\"}\n",
      "WARNING:root:Failed to persist run: {\"detail\":\"Not Found\"}\n",
      "WARNING:root:Failed to persist run: {\"detail\":\"Not Found\"}\n",
      "WARNING:root:Failed to persist run: {\"detail\":\"Not Found\"}\n",
      "WARNING:root:Failed to persist run: {\"detail\":\"Not Found\"}\n",
      "WARNING:root:Failed to persist run: {\"detail\":\"Not Found\"}\n",
      "WARNING:root:Failed to persist run: {\"detail\":\"Not Found\"}\n",
      "WARNING:root:Failed to persist run: {\"detail\":\"Not Found\"}\n",
      "WARNING:langchain.chat_models.openai:Retrying langchain.chat_models.openai.acompletion_with_retry.<locals>._completion_with_retry in 1.0 seconds as it raised RateLimitError: That model is currently overloaded with other requests. You can retry your request, or contact us through our help center at help.openai.com if the error persists. (Please include the request ID 2b267af7d333e0087525cb1bee3f74d0 in your message.).\n",
      "WARNING:langchain.chat_models.openai:Retrying langchain.chat_models.openai.acompletion_with_retry.<locals>._completion_with_retry in 1.0 seconds as it raised RateLimitError: That model is currently overloaded with other requests. You can retry your request, or contact us through our help center at help.openai.com if the error persists. (Please include the request ID 2a71fb96a579a472135913d9927556b6 in your message.).\n",
      "WARNING:root:Failed to persist run: {\"detail\":\"Not Found\"}\n"
     ]
    }
   ],
   "source": [
    "import asyncio\n",
    "\n",
    "inputs = [\n",
    "    \"How many people live in canada as of 2023?\",\n",
    "    \"who is dua lipa's boyfriend? what is his age raised to the .43 power?\",\n",
    "    \"what is dua lipa's boyfriend age raised to the .43 power?\",\n",
    "    \"how far is it from paris to boston in miles\",\n",
    "    \"what was the total number of points scored in the 2023 super bowl? what is that number raised to the .23 power?\",\n",
    "    \"what was the total number of points scored in the 2023 super bowl raised to the .23 power?\",\n",
    "    \"how many more points were scored in the 2023 super bowl than in the 2022 super bowl?\",\n",
    "    \"what is 153 raised to .1312 power?\",\n",
    "    \"who is kendall jenner's boyfriend? what is his height (in inches) raised to .13 power?\",\n",
    "    \"what is 1213 divided by 4345?\",\n",
    "]\n",
    "results = []\n",
    "\n",
    "\n",
    "async def arun(agent, input_example):\n",
    "    try:\n",
    "        return await agent.arun(input_example)\n",
    "    except Exception as e:\n",
    "        # The agent sometimes makes mistakes! These will be captured by the tracing.\n",
    "        return e\n",
    "\n",
    "\n",
    "for input_example in inputs:\n",
    "    results.append(arun(agent, input_example))\n",
    "results = await asyncio.gather(*results)"
   ],
   "metadata": {
    "collapsed": false,
    "ExecuteTime": {
     "end_time": "2023-06-13T15:52:51.588567501Z",
     "start_time": "2023-06-13T15:51:23.491511624Z"
    }
   }
  },
  {
   "cell_type": "code",
   "execution_count": null,
   "outputs": [],
   "source": [],
   "metadata": {
    "collapsed": false
   }
  }
 ],
 "metadata": {
  "kernelspec": {
   "display_name": "Python 3",
   "language": "python",
   "name": "python3"
  },
  "language_info": {
   "codemirror_mode": {
    "name": "ipython",
    "version": 2
   },
   "file_extension": ".py",
   "mimetype": "text/x-python",
   "name": "python",
   "nbconvert_exporter": "python",
   "pygments_lexer": "ipython2",
   "version": "2.7.6"
  }
 },
 "nbformat": 4,
 "nbformat_minor": 0
}
