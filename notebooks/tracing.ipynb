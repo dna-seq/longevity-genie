{
 "cells": [
  {
   "cell_type": "markdown",
   "source": [
    "Evaluation and tracing experiment\n",
    "=================="
   ],
   "metadata": {
    "collapsed": false
   }
  },
  {
   "cell_type": "code",
   "execution_count": 1,
   "outputs": [],
   "source": [
    "from pathlib import Path"
   ],
   "metadata": {
    "collapsed": false,
    "ExecuteTime": {
     "end_time": "2023-06-18T19:18:10.516302365Z",
     "start_time": "2023-06-18T19:18:10.511957448Z"
    }
   }
  },
  {
   "cell_type": "markdown",
   "source": [
    "# Import longevity genie modules and pathes"
   ],
   "metadata": {
    "collapsed": false
   }
  },
  {
   "cell_type": "code",
   "execution_count": 2,
   "outputs": [],
   "source": [
    "from genie.config import *"
   ],
   "metadata": {
    "collapsed": false,
    "ExecuteTime": {
     "end_time": "2023-06-18T19:18:11.988879077Z",
     "start_time": "2023-06-18T19:18:10.516951212Z"
    }
   }
  },
  {
   "cell_type": "code",
   "execution_count": 3,
   "outputs": [
    {
     "name": "stdout",
     "output_type": "stream",
     "text": [
      "/home/antonkulaga/sources/longevity-genie\n"
     ]
    }
   ],
   "source": [
    "base = Path(\"..\").absolute().resolve()\n",
    "print(base.absolute())"
   ],
   "metadata": {
    "collapsed": false,
    "ExecuteTime": {
     "end_time": "2023-06-18T19:18:11.993435946Z",
     "start_time": "2023-06-18T19:18:11.990657464Z"
    }
   }
  },
  {
   "cell_type": "code",
   "execution_count": 4,
   "outputs": [
    {
     "data": {
      "text/plain": "<genie.config.Locations at 0x7fde5a9b9300>"
     },
     "execution_count": 4,
     "metadata": {},
     "output_type": "execute_result"
    }
   ],
   "source": [
    "locations = Locations(base)\n",
    "locations"
   ],
   "metadata": {
    "collapsed": false,
    "ExecuteTime": {
     "end_time": "2023-06-18T19:18:12.042323255Z",
     "start_time": "2023-06-18T19:18:11.993205954Z"
    }
   }
  },
  {
   "cell_type": "code",
   "execution_count": 5,
   "outputs": [
    {
     "name": "stdout",
     "output_type": "stream",
     "text": [
      "environment found at /home/antonkulaga/sources/longevity-genie/.env\n"
     ]
    }
   ],
   "source": [
    "from config import load_environment_keys\n",
    "key = load_environment_keys()"
   ],
   "metadata": {
    "collapsed": false,
    "ExecuteTime": {
     "end_time": "2023-06-18T19:18:12.043206770Z",
     "start_time": "2023-06-18T19:18:12.018402380Z"
    }
   }
  },
  {
   "cell_type": "markdown",
   "source": [
    "## Langchain client"
   ],
   "metadata": {
    "collapsed": false
   }
  },
  {
   "cell_type": "code",
   "execution_count": 6,
   "outputs": [
    {
     "data": {
      "text/plain": "LangChainPlusClient (API URL: https://api.langchain.plus)",
      "text/html": "<a href=\"https://www.langchain.plus\", target=\"_blank\" rel=\"noopener\">LangChain+ Client</a>"
     },
     "execution_count": 6,
     "metadata": {},
     "output_type": "execute_result"
    }
   ],
   "source": [
    "from langchainplus_sdk import LangChainPlusClient\n",
    "client = LangChainPlusClient()\n",
    "client"
   ],
   "metadata": {
    "collapsed": false,
    "ExecuteTime": {
     "end_time": "2023-06-18T19:18:12.123373273Z",
     "start_time": "2023-06-18T19:18:12.070411093Z"
    }
   }
  },
  {
   "cell_type": "code",
   "execution_count": 16,
   "outputs": [
    {
     "data": {
      "text/plain": "polars.config.Config"
     },
     "execution_count": 16,
     "metadata": {},
     "output_type": "execute_result"
    }
   ],
   "source": [
    "import polars as pl\n",
    "from polars import Config\n",
    "Config.set_fmt_str_lengths(5000)"
   ],
   "metadata": {
    "collapsed": false,
    "ExecuteTime": {
     "end_time": "2023-06-18T20:06:21.655187915Z",
     "start_time": "2023-06-18T20:06:21.584619460Z"
    }
   }
  },
  {
   "cell_type": "code",
   "execution_count": 50,
   "outputs": [
    {
     "data": {
      "text/plain": "[Dataset(name='longevity_map_genetic_variants', description='This dataset is to evaluate if we can retrieve associations of longevity genetic variants', id=UUID('f2feb747-9715-4d86-a6c2-024d3708aec1'), created_at=datetime.datetime(2023, 6, 18, 21, 39, 43, 291629), modified_at=None)]"
     },
     "execution_count": 50,
     "metadata": {},
     "output_type": "execute_result"
    }
   ],
   "source": [
    "def show_datasets():\n",
    "    return [d for d in client.list_datasets()]\n",
    "show_datasets()"
   ],
   "metadata": {
    "collapsed": false,
    "ExecuteTime": {
     "end_time": "2023-06-18T22:00:21.456187556Z",
     "start_time": "2023-06-18T22:00:21.169360916Z"
    }
   }
  },
  {
   "cell_type": "markdown",
   "source": [
    "Evaluating the chain"
   ],
   "metadata": {
    "collapsed": false
   }
  },
  {
   "cell_type": "code",
   "execution_count": 52,
   "outputs": [
    {
     "name": "stderr",
     "output_type": "stream",
     "text": [
      "Using embedded DuckDB with persistence: data will be stored in: /home/antonkulaga/sources/longevity-genie/data/index/openai_6000_chunk/modules\n",
      "Using embedded DuckDB with persistence: data will be stored in: /home/antonkulaga/sources/longevity-genie/data/index/openai_6000_chunk/papers\n"
     ]
    },
    {
     "data": {
      "text/plain": "<genie.chains.Chains at 0x7fde0eb18c10>"
     },
     "execution_count": 52,
     "metadata": {},
     "output_type": "execute_result"
    }
   ],
   "source": [
    "from genie.chains import Chains\n",
    "logic = Chains(locations.index / \"openai_6000_chunk\")\n",
    "logic"
   ],
   "metadata": {
    "collapsed": false,
    "ExecuteTime": {
     "end_time": "2023-06-18T22:36:38.790564541Z",
     "start_time": "2023-06-18T22:36:38.496081624Z"
    }
   }
  },
  {
   "cell_type": "code",
   "execution_count": 58,
   "outputs": [
    {
     "data": {
      "text/plain": "'How is C4A genetic variatn connected with longevity? Assume significant association to be a connection with longevity, be careful about genetic variant identifiers with similar names'"
     },
     "execution_count": 58,
     "metadata": {},
     "output_type": "execute_result"
    }
   ],
   "source": [
    "q1 = \"How is C4A genetic variatn connected with longevity? Assume significant association to be a connection with longevity, be careful about genetic variant identifiers with similar names\"\n",
    "q1"
   ],
   "metadata": {
    "collapsed": false,
    "ExecuteTime": {
     "end_time": "2023-06-18T22:40:43.778637658Z",
     "start_time": "2023-06-18T22:40:43.735499809Z"
    }
   }
  },
  {
   "cell_type": "code",
   "execution_count": 59,
   "outputs": [
    {
     "data": {
      "text/plain": "{'question': 'How is C4A genetic variatn connected with longevity? Assume significant association to be a connection with longevity, be careful about genetic variant identifiers with similar names',\n 'answer': 'The C4A genetic variant in complement C4A (Rodgers blood group) is not significantly associated with longevity in the Russian (Novosibirsk) population. The study conducted in 1999 found that the frequencies of C4A alleles were similar in the studied cohorts. The study was published with PubMed ID 10219002 and can be found at http://doi.org/10.1093/gerona/54.4.b150.\\n\\n',\n 'sources': '\\n- http://doi.org/10.1093/gerona/54.4.b150#0'}"
     },
     "execution_count": 59,
     "metadata": {},
     "output_type": "execute_result"
    }
   ],
   "source": [
    "logic.modules(q1)"
   ],
   "metadata": {
    "collapsed": false,
    "ExecuteTime": {
     "end_time": "2023-06-18T22:40:52.335045309Z",
     "start_time": "2023-06-18T22:40:49.179856410Z"
    }
   }
  },
  {
   "cell_type": "code",
   "execution_count": null,
   "outputs": [],
   "source": [
    "from langchain.evaluation.run_evaluators import (\n",
    "    get_qa_evaluator,\n",
    "    get_criteria_evaluator,\n",
    ")\n",
    "from langchain.chat_models import ChatOpenAI\n",
    "\n",
    "\n",
    "eval_llm = ChatOpenAI(temperature=0)"
   ],
   "metadata": {
    "collapsed": false
   }
  }
 ],
 "metadata": {
  "kernelspec": {
   "display_name": "Python 3",
   "language": "python",
   "name": "python3"
  },
  "language_info": {
   "codemirror_mode": {
    "name": "ipython",
    "version": 2
   },
   "file_extension": ".py",
   "mimetype": "text/x-python",
   "name": "python",
   "nbconvert_exporter": "python",
   "pygments_lexer": "ipython2",
   "version": "2.7.6"
  }
 },
 "nbformat": 4,
 "nbformat_minor": 0
}
