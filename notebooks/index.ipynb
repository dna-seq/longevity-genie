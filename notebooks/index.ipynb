{
 "cells": [
  {
   "cell_type": "markdown",
   "metadata": {},
   "source": [
    "## Indexing genes with ChatGPT ##"
   ]
  },
  {
   "cell_type": "code",
   "execution_count": 1,
   "outputs": [
    {
     "name": "stdout",
     "output_type": "stream",
     "text": [
      "[PosixPath('/home/antonkulaga/sources/genes-gpt/genes'), '/home/antonkulaga/sources/genes-gpt/notebooks/..', '/home/antonkulaga/sources/genes-gpt/notebooks', '/home/antonkulaga/sources/genes-gpt', '/home/antonkulaga/micromamba/envs/genes-gpt/lib/python310.zip', '/home/antonkulaga/micromamba/envs/genes-gpt/lib/python3.10', '/home/antonkulaga/micromamba/envs/genes-gpt/lib/python3.10/lib-dynload', '', '/home/antonkulaga/.local/lib/python3.10/site-packages', '/home/antonkulaga/micromamba/envs/genes-gpt/lib/python3.10/site-packages']\n"
     ]
    }
   ],
   "source": [
    "import sys\n",
    "from pycomfort.files import *\n",
    "import polars as pl\n",
    "import pandas as pd\n",
    "\n",
    "base = Path(\"..\")\n",
    "local = (base / \"genes\").resolve()\n",
    "if local.exists():\n",
    "    sys.path.insert(0, Path(\"..\").absolute().as_posix())\n",
    "    sys.path.insert(0, local)\n",
    "    print(sys.path)\n",
    "else:\n",
    "    base = Path(\".\")\n",
    "%load_ext autoreload\n",
    "%autoreload 2"
   ],
   "metadata": {
    "collapsed": false
   }
  },
  {
   "cell_type": "code",
   "execution_count": 2,
   "outputs": [
    {
     "name": "stdout",
     "output_type": "stream",
     "text": [
      "cannot find sqlite database\n",
      "cannot find sqlite database\n",
      "cannot find sqlite database\n",
      "papers\n",
      "\t.gitignore\n",
      "\ttest.pdf\n",
      "\t10.1073\n",
      "\t\tpnas.0705467105.pdf\n",
      "\t\tpnas.2628028100.pdf\n",
      "\t\tpnas.1003540107.pdf\n",
      "\t\tpnas.1936249100.pdf\n",
      "\t\tpnas.0801030105.pdf\n",
      "\t\tpnas.022484299.pdf\n",
      "\t\tpnas.0906191106.pdf\n",
      "\t\tpnas.0408670102.pdf\n",
      "\t\tpnas.0809594106.pdf\n",
      "\t\tpnas.181337598.pdf\n",
      "\t10.1186\n",
      "\t\t1742-4933-2-13.pdf\n",
      "\t\t1471-2350-8-S1-S13.pdf\n",
      "\t\t1471-2318-9-57.pdf\n",
      "\t\t1756-0500-3-55.pdf\n",
      "\t10.1006\n",
      "\t\tbbrc.2001.4280.pdf\n",
      "\t10.1007\n",
      "\t\ts10522-006-9021-2.pdf\n",
      "\t\ts10522-005-4909-9.pdf\n",
      "\t\tBF03324487.pdf\n",
      "\t\ts004390050364.pdf\n",
      "\t\ts00109-003-0485-0.pdf\n",
      "\t\ts10522-010-9273-8.pdf\n",
      "\t\ts001090100192.pdf\n",
      "\t\ts11357-012-9416-8.pdf\n",
      "\t\ts00439-006-0148-7.pdf\n",
      "\t\ts00439-002-0826-z.pdf\n",
      "\t\ts11357-012-9408-8.pdf\n",
      "\t\ts11357-013-9559-2.pdf\n",
      "\t\ts11357-012-9447-1.pdf\n",
      "\t\ts00439-002-0843-y.pdf\n",
      "\t\ts10522-011-9360-5.pdf\n",
      "\t\ts10522-009-9246-y.pdf\n",
      "\t\ts001090000132.pdf\n",
      "\t\tBF03327391.pdf\n",
      "\t\ts10522-013-9470-3.pdf\n",
      "\t\ts10072-012-1188-5.pdf\n",
      "\t\ts11033-010-0546-8.pdf\n",
      "\t\ts10522-010-9266-7.pdf\n",
      "\t\ts11357-013-9513-3.pdf\n",
      "\t\ts11033-012-1784-8.pdf\n",
      "\t\ts11357-013-9593-0.pdf\n",
      "\t\tBF03324333.pdf\n",
      "\t\ts12603-011-0123-4.pdf\n",
      "\t\ts00109-002-0407-6.pdf\n",
      "\t\ts11357-011-9373-7.pdf\n",
      "\t\ts10522-013-9421-z.pdf\n",
      "\t\ts10522-006-9041-y.pdf\n",
      "\t\ts10522-006-9050-x.pdf\n",
      "\t\ts004390050735.pdf\n",
      "\t\ts10522-005-6042-1.pdf\n",
      "\t\ts11357-011-9210-z.pdf\n",
      "\t\ts10522-009-9229-z.pdf\n",
      "\t\ts11357-011-9340-3.pdf\n",
      "\t10.3233\n",
      "\t\tJAD-2011-101791.pdf\n",
      "\t\tJAD-2011-110743.pdf\n",
      "\t10.1016\n",
      "\t\tj.exger.2008.08.004.pdf\n",
      "\t\ts0047-6374(03)00149-0.pdf\n",
      "\t\tj.mrfmmm.2010.08.006.pdf\n",
      "\t\tj.mad.2013.01.005.pdf\n",
      "\t\tj.mad.2005.01.009.pdf\n",
      "\t\ts0735-1097(99)00337-x.pdf\n",
      "\t\tj.mad.2010.08.009.pdf\n",
      "\t\tj.exger.2003.08.014.pdf\n",
      "\t\tj.exger.2014.04.003.pdf\n",
      "\t\tj.mad.2004.10.001.pdf\n",
      "\t\tj.exger.2005.09.008.pdf\n",
      "\t\tj.cca.2010.06.030.pdf\n",
      "\t\ts0047-6374(03)00033-2.pdf\n",
      "\t\tj.exger.2004.05.007.pdf\n",
      "\t\tj.mad.2004.03.004.pdf\n",
      "\t\tj.mad.2009.08.004.pdf\n",
      "\t\tj.archger.2011.01.001.pdf\n",
      "\t\tj.trsl.2009.08.002.pdf\n",
      "\t\tj.mad.2010.04.001.pdf\n",
      "\t\tj.mad.2005.11.005.pdf\n",
      "\t\tj.toxlet.2004.01.025.pdf\n",
      "\t\tj.cyto.2011.12.021.pdf\n",
      "\t\ts0531-5565(01)00198-x.pdf\n",
      "\t\ts0047-6374(03)00037-x.pdf\n",
      "\t\tj.mad.2007.04.001.pdf\n",
      "\t\tj.mad.2004.08.025.pdf\n",
      "\t\tj.trsl.2014.09.008.pdf\n",
      "\t\tj.exger.2011.09.001.pdf\n",
      "\t\tj.exger.2010.04.007.pdf\n",
      "\t\tj.mad.2005.06.006.pdf\n",
      "\t\tj.ygeno.2004.11.003.pdf\n",
      "\t\tj.mad.2011.06.008.pdf\n",
      "\t\tj.exger.2009.02.004.pdf\n",
      "\t\tj.mad.2006.08.007.pdf\n",
      "\t\ts0047-6374(03)00032-0.pdf\n",
      "\t\tj.amjmed.2004.01.027.pdf\n",
      "\t\ts0047-6374(02)00081-7.pdf\n",
      "\t\ts0764-4469(00)01274-9.pdf\n",
      "\t\tS0140-6736(05)78211-8.pdf\n",
      "\t\tj.exger.2004.03.017.pdf\n",
      "\t\ts0531-5565(03)00209-2.pdf\n",
      "\t\tj.neurobiolaging.2007.05.003.pdf\n",
      "\t\tj.exger.2011.07.011.pdf\n",
      "\t\tj.mad.2006.08.002.pdf\n",
      "\t\ts0531-5565(01)00102-4.pdf\n",
      "\t\tj.exger.2014.01.014.pdf\n",
      "\t\tj.mad.2009.01.005.pdf\n",
      "\t\tj.cyto.2011.07.023.pdf\n",
      "\t\ts0531-5565(03)00006-8.pdf\n",
      "\t\tj.exger.2003.10.001.pdf\n",
      "\t\ts0047-6374(98)00067-0.pdf\n",
      "\t\ts0021-9150(97)00290-6.pdf\n",
      "\t\tj.exger.2011.01.003.pdf\n",
      "\t\ts0047-6374(01)00278-0.pdf\n",
      "\t\tj.mad.2012.06.004.pdf\n",
      "\t\tj.cca.2010.12.006.pdf\n",
      "\t\ts0140-6736(87)91015-4.pdf\n",
      "\t\ts0304-3940(98)00025-1.pdf\n",
      "\t\tj.exger.2014.02.004.pdf\n",
      "\t\tj.mad.2015.08.003.pdf\n",
      "\t\ts1047-2797(02)00254-5.pdf\n",
      "\t\ts0047-6374(01)00338-4.pdf\n",
      "\t\tj.exger.2004.05.003.pdf\n",
      "\t\tj.exger.2003.11.019.pdf\n",
      "\t\tj.exger.2013.03.009.pdf\n",
      "\t\ts0531-5565(01)00146-2.pdf\n",
      "\t\tj.exger.2004.03.034.pdf\n",
      "\t\tj.neurobiolaging.2011.05.026.pdf\n",
      "\t\tj.exger.2004.02.001.pdf\n",
      "\t\tj.archger.2006.10.011.pdf\n",
      "\t\tj.neurobiolaging.2012.02.014.pdf\n",
      "\t\ts0531-5565(01)00094-8.pdf\n",
      "\t\tj.exger.2004.03.037.pdf\n",
      "\t\ts0047-6374(03)00036-8.pdf\n",
      "\t\tj.arcmed.2006.04.001.pdf\n",
      "\t\ts0531-5565(03)00154-2.pdf\n",
      "\t\tj.neurobiolaging.2012.08.019.pdf\n",
      "\t\tj.mad.2006.02.003.pdf\n",
      "\t\ts0021-9150(96)06027-3.pdf\n",
      "\t\tj.mad.2004.08.026.pdf\n",
      "\t\tj.exger.2012.02.010.pdf\n",
      "\t\t0021-9150(94)90011-6.pdf\n",
      "\t\tj.neurobiolaging.2013.04.001.pdf\n",
      "\t\tj.atherosclerosis.2005.01.028.pdf\n",
      "\t10.1111\n",
      "\t\tj.1474-9726.2010.00600.x.pdf\n",
      "\t\tj.1744-313X.2010.00925.x.pdf\n",
      "\t\tj.1744-313X.2006.00613.x.pdf\n",
      "\t\tj.1399-0039.1997.tb02904.x.pdf\n",
      "\t\tj.1474-9726.2009.00493.x.pdf\n",
      "\t\tj.1474-9726.2011.00775.x.pdf\n",
      "\t\tacel.12186.pdf\n",
      "\t\tacel.12011.pdf\n",
      "\t\tacel.12015.pdf\n",
      "\t\tj.1474-9728.2005.00148.x.pdf\n",
      "\t\tj.1749-6632.1991.tb16970.x.pdf\n",
      "\t\tj.1474-9726.2011.00698.x.pdf\n",
      "\t\tj.1474-9726.2011.00705.x.pdf\n",
      "\t\tj.1474-9726.2010.00627.x.pdf\n",
      "\t\tj.1474-9726.2012.00808.x.pdf\n",
      "\t\tj.1749-6632.2001.tb05639.x.pdf\n",
      "\t\tacel.12039.pdf\n",
      "\t\tj.1532-5415.2004.52369.x.pdf\n",
      "\t\tj.1474-9728.2004.00129.x.pdf\n",
      "\t10.1196\n",
      "\t\tannals.1354.040.pdf\n",
      "\t10.1177\n",
      "\t\t0003319712475075.pdf\n",
      "\t10.1503\n",
      "\t\tcmaj.120233.pdf\n",
      "\t10.1161\n",
      "\t\tATVBAHA.112.300421.pdf\n",
      "\t\t01.atv.17.4.755.pdf\n",
      "\t\t01.RES.0000157171.04054.30.pdf\n",
      "\t\t01.atv.14.7.1084.pdf\n",
      "\t\tATVBAHA.113.301273.pdf\n",
      "\t10.1093\n",
      "\t\tgerona\n",
      "\t\t\tglp154.pdf\n",
      "\t\t\t58.9.m851.pdf\n",
      "\t\t\tglt082.pdf\n",
      "\t\t\t62.2.202.pdf\n",
      "\t\t\t63.5.454.pdf\n",
      "\t\t\tgls223.pdf\n",
      "\t\t\t63.5.447.pdf\n",
      "\t\t\tgls067.pdf\n",
      "\t\t\t61.6.547.pdf\n",
      "\t\t\t61.4.355.pdf\n",
      "\t\t\t61.12.1228.pdf\n",
      "\t\t\t62.1.73.pdf\n",
      "\t\t\t60.12.1525.pdf\n",
      "\t\t\t61.9.918.pdf\n",
      "\t\t\t54.4.b150.pdf\n",
      "\t\t\tglq156.pdf\n",
      "\t\t\t56.1.b27.pdf\n",
      "\t\t\t58.3.m227.pdf\n",
      "\t\t\tglq160.pdf\n",
      "\t\t\t56.2.m75.pdf\n",
      "\t\t\tglr117.pdf\n",
      "\t\t\t57.1.m57.pdf\n",
      "\t\t\tglu021.pdf\n",
      "\t\t\tgls192.pdf\n",
      "\t\t\t63.11.1235.pdf\n",
      "\t\t\tgls103.pdf\n",
      "\t\t\tglq028.pdf\n",
      "\t\tageing\n",
      "\t\t\t26.2.147.pdf\n",
      "\t\taje\n",
      "\t\t\tkwr015.pdf\n",
      "\t\thmg\n",
      "\t\t\tddp459.pdf\n",
      "\t\t\t7.2.187.pdf\n",
      "\t\t\tddu139.pdf\n",
      "\t10.1136\n",
      "\t\tjmg.40.2.146.pdf\n",
      "\t\tjmg.40.4.296.pdf\n",
      "\t10.3390\n",
      "\t\tijms141123203.pdf\n",
      "\t10.1371\n",
      "\t\tjournal.pone.0058636.pdf\n",
      "\t\tjournal.pone.0006423.pdf\n",
      "\t\tjournal.pone.0017558.pdf\n",
      "\t\tjournal.pbio.0040113.pdf\n",
      "\t\tjournal.pone.0002421.pdf\n",
      "\t\tjournal.pone.0045232.pdf\n",
      "\t\tjournal.pone.0042877.pdf\n",
      "\t\tjournal.pone.0008210.pdf\n",
      "\t\tjournal.pone.0029650.pdf\n",
      "\t\tjournal.pone.0034746.pdf\n",
      "\t\tjournal.pone.0012432.pdf\n",
      "\t\tjournal.pone.0029848.pdf\n",
      "\t10.1210\n",
      "\t\tjc.2009-0808.pdf\n",
      "\t\tjc.2002-021810.pdf\n",
      "\t10.1002\n",
      "\t\t1521-4141(200108)31:8&#60;2357::aid-immu2357&#62;3.0.co;2-x.pdf\n",
      "\t\tpmic.201900408.pdf\n",
      "\t10.1189\n",
      "\t\tjlb.0705416.pdf\n",
      "\t10.1046\n",
      "\t\tj.1365-2362.1999.00578.x.pdf\n",
      "\t\tj.1469-1809.2003.00008.x.pdf\n",
      "\t10.1523\n",
      "\t\tJNEUROSCI.3515-12.2013.pdf\n",
      "\t10.1038\n",
      "\t\tjhg.2009.111.pdf\n",
      "\t\tsj.ejhg.5200222.pdf\n",
      "\t\tejhg.2012.196.pdf\n",
      "\t\tejhg.2011.43.pdf\n",
      "\t\tsj.ejhg.5201235.pdf\n",
      "\t\tejhg.2013.299.pdf\n",
      "\t\tejhg.2009.54.pdf\n",
      "\t\tng0194-29.pdf\n",
      "\t\tsj.ejhg.5201468.pdf\n",
      "\t\tsj.gene.6363823.pdf\n",
      "\t\tsj.gene.6363827.pdf\n",
      "\t\tsj.cdd.4400964.pdf\n",
      "\t\tsj.ejhg.5200806.pdf\n",
      "\t10.1080\n",
      "\t\t13547500310001627519.pdf\n",
      "\t10.1089\n",
      "\t\trej.2009.0984.pdf\n",
      "\t\trej.2006.9.157.pdf\n",
      "\t\trej.2008.0827.pdf\n",
      "\t\trej.2006.9.153.pdf\n",
      "\t\trej.2012.1382.pdf\n",
      "\t\trej.2012.1365.pdf\n",
      "\t\trej.2010.1114.pdf\n",
      "\t\trej.2009.0970.pdf\n",
      "\t\trej.2011.1257.pdf\n",
      "\t10.1096\n",
      "\t\tfasebj.13.12.1532.pdf\n",
      "\t10.4161\n",
      "\t\tcc.7.2.5249.pdf\n",
      "\t\tpri.23903.pdf\n",
      "\t10.1590\n",
      "\t\ts0066-782x2002000600004.pdf\n",
      "\t10.1023\n",
      "\t\ta:1025182615693.pdf\n",
      "\t\tB:BGEN.0000031154.57176.4f.pdf\n",
      "\t10.3109\n",
      "\t\t13685538.2011.607521.pdf\n",
      "\t\t13685531003657800.pdf\n",
      "\t10.3858\n",
      "\t\temm.2009.41.11.083.pdf\n",
      "\t10.2174\n",
      "\t\t138161210790883499.pdf\n",
      "\t10.1001\n",
      "\t\tjama.290.15.2030.pdf\n",
      "\t\tjama.292.19.2339.pdf\n"
     ]
    }
   ],
   "source": [
    "from genes.config import Locations\n",
    "from pycomfort.files import *\n",
    "pl.Config.set_fmt_str_lengths(10000)\n",
    "pl.Config.set_tbl_width_chars(10000)\n",
    "locations = Locations(base)\n",
    "tprint(locations.papers)"
   ],
   "metadata": {
    "collapsed": false
   }
  },
  {
   "cell_type": "code",
   "execution_count": 3,
   "outputs": [],
   "source": [
    "#from genes.prepare import prepare_longevity_doi\n",
    "#dois = prepare_longevity_doi(locations)\n",
    "#dois"
   ],
   "metadata": {
    "collapsed": false
   }
  },
  {
   "cell_type": "code",
   "execution_count": 4,
   "outputs": [
    {
     "name": "stdout",
     "output_type": "stream",
     "text": [
      "getting df from /home/antonkulaga/.oakvar/modules/postaggregators/just_longevitymap/data/longevitymap.sqlite\n",
      "written to locations.longevity_map_text\n"
     ]
    },
    {
     "data": {
      "text/plain": "shape: (82, 9)\n┌────────────────────────────────────────────────┬────────────┬─────────────┬─────────────────────────────────────────────────────────────┬───┬──────────┬────────────────────────────────────┬───────────────────────────────────────────────────┬────────────────────────────────────────────────────────────────────────────────────────────────────────────────────────────────────────────────────────────────────────────────────────────────────────────────────────────────────────────────────────────────────────────────────────────────────────────────────────────────────────────────────────────────────────────────────────────────────────────────────────────────────────────────────────────────────────────────────────────────────────────────────────────────────────────────────────────────────────────────────────────────────────────────────────────────────────────────────────────────────────────────────────────────────────────────────────────────────────────────────────────────────────────────────────────────────────────────────────────────────────────────────────────────────────────────────────────────────────────────────────────────────────────────────────────────────────────────────────────┐\n│ id                                             ┆ identifier ┆ gene_symbol ┆ population                                                  ┆ … ┆ pubmed   ┆ doi                                ┆ source                                            ┆ text                                                                                                                                                                                                                                                                                                                                                                                                                                                                                                                                                                                                                                                                                                                                                                                                                                                                                                                                                                                       │\n│ ---                                            ┆ ---        ┆ ---         ┆ ---                                                         ┆   ┆ ---      ┆ ---                                ┆ ---                                               ┆ ---                                                                                                                                                                                                                                                                                                                                                                                                                                                                                                                                                                                                                                                                                                                                                                                                                                                                                                                                                                                        │\n│ str                                            ┆ str        ┆ str         ┆ str                                                         ┆   ┆ str      ┆ str                                ┆ str                                               ┆ str                                                                                                                                                                                                                                                                                                                                                                                                                                                                                                                                                                                                                                                                                                                                                                                                                                                                                                                                                                                        │\n╞════════════════════════════════════════════════╪════════════╪═════════════╪═════════════════════════════════════════════════════════════╪═══╪══════════╪════════════════════════════════════╪═══════════════════════════════════════════════════╪════════════════════════════════════════════════════════════════════════════════════════════════════════════════════════════════════════════════════════════════════════════════════════════════════════════════════════════════════════════════════════════════════════════════════════════════════════════════════════════════════════════════════════════════════════════════════════════════════════════════════════════════════════════════════════════════════════════════════════════════════════════════════════════════════════════════════════════════════════════════════════════════════════════════════════════════════════════════════════════════════════════════════════════════════════════════════════════════════════════════════════════════════════════════════════════════════════════════════════════════════════════════════════════════════════════════════════════════════════════════════════════════════════════════════════════════════════════════════════════╡\n│ HLA-DRB5_in_10.1111/j.1749-6632.1991.tb16970.x ┆ HLA-DRB5   ┆ HLA-DRB5    ┆ Dutch                                                       ┆ … ┆ 1859103  ┆ 10.1111/j.1749-6632.1991.tb16970.x ┆ http://doi.org/10.1111/j.1749-6632.1991.tb16970.x ┆ HLA-DRB5 variant in  major histocompatibility complex, class II, DR beta 5 (HLA-DRB5) with location 6p21.32 has non-significant association with longevity for male and femalein Dutch populationin a study conducted/published in 1991. The study had the following design 964 inhabitants aged 85 years and over and 2444 young controls, aged 20-35 years, with an identical ethnic and demographic background were examined. The study concludedWithout correcting for multiple testing, HLA-DR5 was higher in the group of 85 years and over, as compared to the control groupThe study was published with pubmed id1859103 with DOI http://doi.org/10.1111/j.1749-6632.1991.tb16970.x                                                                                                                                                                                                                                                                                                │\n│ HLA-B40_in_10.1111/j.1749-6632.1991.tb16970.x  ┆ HLA-B40    ┆ HLA-B       ┆ French                                                      ┆ … ┆ 1859103  ┆ 10.1111/j.1749-6632.1991.tb16970.x ┆ http://doi.org/10.1111/j.1749-6632.1991.tb16970.x ┆ HLA-B40 variant in  major histocompatibility complex, class I, B (HLA-B) with location 6p21.33 has non-significant association with longevity for male and femalein French populationin a study conducted/published in 1991. The study had the following design 964 inhabitants aged 85 years and over and 2444 young controls, aged 20-35 years, with an identical ethnic and demographic background were examined. The study concludedWithout correcting for multiple testing, HLA-B40 was lower in the group of 85 years and over, as compared to the control groupThe study was published with pubmed id1859103 with DOI http://doi.org/10.1111/j.1749-6632.1991.tb16970.x                                                                                                                                                                                                                                                                                                             │\n│ APOB_in_10.1161/01.atv.14.7.1084               ┆ APOB       ┆ APOB        ┆ Finnish                                                     ┆ … ┆ 8018664  ┆ 10.1161/01.atv.14.7.1084           ┆ http://doi.org/10.1161/01.atv.14.7.1084           ┆ APOB variant in  apolipoprotein B (APOB) with location 2p24.1 has non-significant association with longevity for male and femalein Finnish populationin a study conducted/published in 1994. The study had the following design The apolipoprotein B Xba I polymorphism was examined in 179 Finnish centenarians. The study concludedThe frequencies of the Xba I alleles among the centenarians and among the young Finns were not significantly differentThe study was published with pubmed id8018664 with DOI http://doi.org/10.1161/01.atv.14.7.1084                                                                                                                                                                                                                                                                                                                                                                                                                                  │\n│ APOC3_in_10.1161/01.atv.14.7.1084              ┆ APOC3      ┆ APOC3       ┆ Swedish                                                     ┆ … ┆ 8018664  ┆ 10.1161/01.atv.14.7.1084           ┆ http://doi.org/10.1161/01.atv.14.7.1084           ┆ APOC3 variant in  apolipoprotein C3 (APOC3) with location 11q23.3 has significant association with longevity for male and femalein Swedish populationin a study conducted/published in 1994. The study had the following design The Sst I polymorphism was examined in 179 Finnish centenarians. The study concludedThe S2 allele (Sst I restriction site present) occurred more often in the centenarians (frequency, 12.9%) than in the youngest reference population (frequency, 8.8%)The study was published with pubmed id8018664 with DOI http://doi.org/10.1161/01.atv.14.7.1084                                                                                                                                                                                                                                                                                                                                                                                                    │\n│ …                                              ┆ …          ┆ …           ┆ …                                                           ┆ … ┆ …        ┆ …                                  ┆ …                                                 ┆ …                                                                                                                                                                                                                                                                                                                                                                                                                                                                                                                                                                                                                                                                                                                                                                                                                                                                                                                                                                                          │\n│ rs2430561_in_10.1038/sj.gene.6363827           ┆ rs2430561  ┆ IFNG        ┆ American (Caucasian and African–American), Ashkenazi Jewish ┆ … ┆ 11857058 ┆ 10.1038/sj.gene.6363827            ┆ http://doi.org/10.1038/sj.gene.6363827            ┆ rs2430561 variant in  interferon gamma (IFNG) with location 12q15 has significant association with longevity for male and femalein American (Caucasian and African–American), Ashkenazi Jewish populationin a study conducted/published in 2002. The study had the following design The distribution of the 874T/A polymorphism was examined in 174 Italian centenarians (>99 years old, 142 women and 32 men) and 248 <60-year-old control subjects (90 women and 158 men). The study concludedThe +874T allele, known to be associated with low IFN-gamma production, was found less frequently in centenarian women than in centenarian men or in control women whereas no significant differences were observed in the distribution of the two alleles between male or female controls. Allele frequencies in centenarian men were not found significantly different from male controls.The study was published with pubmed id11857058 with DOI http://doi.org/10.1038/sj.gene.6363827 │\n│ rs1800896_in_10.1038/sj.gene.6363827           ┆ rs1800896  ┆ IL10        ┆ English (Oxford)                                            ┆ … ┆ 11857058 ┆ 10.1038/sj.gene.6363827            ┆ http://doi.org/10.1038/sj.gene.6363827            ┆ rs1800896 variant in  interleukin 10 (IL10) with location 1q32.1 has significant association with longevity for male and femalein English (Oxford) populationin a study conducted/published in 2002. The study had the following design The -1082G/A, -819C/T and -592C/A proximal promoter SNPs were examined in 190 centenarians (>99 years old, 159 women and 31 men) and in 260 control subjects (99 women and 161 men less than 60 years old). The study concludedThe -1082G homozygous genotype, associated with high IL-10 production, was increased in centenarian men but not in centenarian women. No difference was found between centenarians and control subjects regarding the other two SNPs.The study was published with pubmed id11857058 with DOI http://doi.org/10.1038/sj.gene.6363827                                                                                                                                                                                 │\n│ C282Y_in_10.1038/sj.gene.6363827               ┆ C282Y      ┆ HFE         ┆ American (Caucasian), French                                ┆ … ┆ 11857058 ┆ 10.1038/sj.gene.6363827            ┆ http://doi.org/10.1038/sj.gene.6363827            ┆ C282Y variant in  hemochromatosis (HFE) with location 6p22.2 has significant association with longevity for male and femalein American (Caucasian), French populationin a study conducted/published in 2002. The study had the following design C282Y, H63D and S65C polymorphisms were studied in 106 young controls (age range from 22 to 55 years; 40 men and 66 women) and 35 elderly subjects (age range from 91 to 105 years; seven men and 28 women). The study concludedA significant difference was observed only in women in frequencies of C282Y alleles between the young and the elderly subjects. Concerning H63D polymorphisms, no significant differences were observed, between old and young people.The study was published with pubmed id11857058 with DOI http://doi.org/10.1038/sj.gene.6363827                                                                                                                                                                       │\n│ FAS_in_10.1038/sj.cdd.4400964                  ┆ FAS        ┆ FAS         ┆ American (Caucasian and African-American)                   ┆ … ┆ 11965496 ┆ 10.1038/sj.cdd.4400964             ┆ http://doi.org/10.1038/sj.cdd.4400964             ┆ FAS variant in  Fas cell surface death receptor (FAS) with location 10q23.31 has non-significant association with longevity for male and femalein American (Caucasian and African-American) populationin a study conducted/published in 2002. The study had the following design The -670 and -1377 position SNPs were examined in 50 centenarians and 86 young controls. The study concludedGenotype and allele distribution for both polymorphisms were similar in controls and centenariansThe study was published with pubmed id11965496 with DOI http://doi.org/10.1038/sj.cdd.4400964                                                                                                                                                                                                                                                                                                                                                                                                │\n└────────────────────────────────────────────────┴────────────┴─────────────┴─────────────────────────────────────────────────────────────┴───┴──────────┴────────────────────────────────────┴───────────────────────────────────────────────────┴────────────────────────────────────────────────────────────────────────────────────────────────────────────────────────────────────────────────────────────────────────────────────────────────────────────────────────────────────────────────────────────────────────────────────────────────────────────────────────────────────────────────────────────────────────────────────────────────────────────────────────────────────────────────────────────────────────────────────────────────────────────────────────────────────────────────────────────────────────────────────────────────────────────────────────────────────────────────────────────────────────────────────────────────────────────────────────────────────────────────────────────────────────────────────────────────────────────────────────────────────────────────────────────────────────────────────────────────────────────────────────────────────────────────────────────────────────────────────────────┘",
      "text/html": "<div><style>\n.dataframe > thead > tr > th,\n.dataframe > tbody > tr > td {\n  text-align: right;\n}\n</style>\n<small>shape: (82, 9)</small><table border=\"1\" class=\"dataframe\"><thead><tr><th>id</th><th>identifier</th><th>gene_symbol</th><th>population</th><th>gender</th><th>pubmed</th><th>doi</th><th>source</th><th>text</th></tr><tr><td>str</td><td>str</td><td>str</td><td>str</td><td>str</td><td>str</td><td>str</td><td>str</td><td>str</td></tr></thead><tbody><tr><td>&quot;HLA-DRB5_in_10.1111/j.1749-6632.1991.tb16970.x&quot;</td><td>&quot;HLA-DRB5&quot;</td><td>&quot;HLA-DRB5&quot;</td><td>&quot;Dutch&quot;</td><td>&quot;male/female&quot;</td><td>&quot;1859103&quot;</td><td>&quot;10.1111/j.1749-6632.1991.tb16970.x&quot;</td><td>&quot;http://doi.org/10.1111/j.1749-6632.1991.tb16970.x&quot;</td><td>&quot;HLA-DRB5 variant in  major histocompatibility complex, class II, DR beta 5 (HLA-DRB5) with location 6p21.32 has non-significant association with longevity for male and femalein Dutch populationin a study conducted/published in 1991. The study had the following design 964 inhabitants aged 85 years and over and 2444 young controls, aged 20-35 years, with an identical ethnic and demographic background were examined. The study concludedWithout correcting for multiple testing, HLA-DR5 was higher in the group of 85 years and over, as compared to the control groupThe study was published with pubmed id1859103 with DOI http://doi.org/10.1111/j.1749-6632.1991.tb16970.x&quot;</td></tr><tr><td>&quot;HLA-B40_in_10.1111/j.1749-6632.1991.tb16970.x&quot;</td><td>&quot;HLA-B40&quot;</td><td>&quot;HLA-B&quot;</td><td>&quot;French&quot;</td><td>&quot;male/female&quot;</td><td>&quot;1859103&quot;</td><td>&quot;10.1111/j.1749-6632.1991.tb16970.x&quot;</td><td>&quot;http://doi.org/10.1111/j.1749-6632.1991.tb16970.x&quot;</td><td>&quot;HLA-B40 variant in  major histocompatibility complex, class I, B (HLA-B) with location 6p21.33 has non-significant association with longevity for male and femalein French populationin a study conducted/published in 1991. The study had the following design 964 inhabitants aged 85 years and over and 2444 young controls, aged 20-35 years, with an identical ethnic and demographic background were examined. The study concludedWithout correcting for multiple testing, HLA-B40 was lower in the group of 85 years and over, as compared to the control groupThe study was published with pubmed id1859103 with DOI http://doi.org/10.1111/j.1749-6632.1991.tb16970.x&quot;</td></tr><tr><td>&quot;APOB_in_10.1161/01.atv.14.7.1084&quot;</td><td>&quot;APOB&quot;</td><td>&quot;APOB&quot;</td><td>&quot;Finnish&quot;</td><td>&quot;male/female&quot;</td><td>&quot;8018664&quot;</td><td>&quot;10.1161/01.atv.14.7.1084&quot;</td><td>&quot;http://doi.org/10.1161/01.atv.14.7.1084&quot;</td><td>&quot;APOB variant in  apolipoprotein B (APOB) with location 2p24.1 has non-significant association with longevity for male and femalein Finnish populationin a study conducted/published in 1994. The study had the following design The apolipoprotein B Xba I polymorphism was examined in 179 Finnish centenarians. The study concludedThe frequencies of the Xba I alleles among the centenarians and among the young Finns were not significantly differentThe study was published with pubmed id8018664 with DOI http://doi.org/10.1161/01.atv.14.7.1084&quot;</td></tr><tr><td>&quot;APOC3_in_10.1161/01.atv.14.7.1084&quot;</td><td>&quot;APOC3&quot;</td><td>&quot;APOC3&quot;</td><td>&quot;Swedish&quot;</td><td>&quot;male/female&quot;</td><td>&quot;8018664&quot;</td><td>&quot;10.1161/01.atv.14.7.1084&quot;</td><td>&quot;http://doi.org/10.1161/01.atv.14.7.1084&quot;</td><td>&quot;APOC3 variant in  apolipoprotein C3 (APOC3) with location 11q23.3 has significant association with longevity for male and femalein Swedish populationin a study conducted/published in 1994. The study had the following design The Sst I polymorphism was examined in 179 Finnish centenarians. The study concludedThe S2 allele (Sst I restriction site present) occurred more often in the centenarians (frequency, 12.9%) than in the youngest reference population (frequency, 8.8%)The study was published with pubmed id8018664 with DOI http://doi.org/10.1161/01.atv.14.7.1084&quot;</td></tr><tr><td>&quot;rs7412_in_10.1161/01.atv.14.7.1084&quot;</td><td>&quot;rs7412&quot;</td><td>&quot;APOE&quot;</td><td>&quot;Italian&quot;</td><td>&quot;male/female&quot;</td><td>&quot;8018664&quot;</td><td>&quot;10.1161/01.atv.14.7.1084&quot;</td><td>&quot;http://doi.org/10.1161/01.atv.14.7.1084&quot;</td><td>&quot;rs7412 variant in  apolipoprotein E (APOE) with location 19q13.32 has significant association with longevity for male and femalein Italian populationin a study conducted/published in 1994. The study had the following design The common polymorphism of apolipoprotein E (E2, E3, and E4) was examined in 179 Finnish centenarians. The study concludedThe frequency of the E2 allele was higher and that of the E4 allele lower in the centenariansThe study was published with pubmed id8018664 with DOI http://doi.org/10.1161/01.atv.14.7.1084&quot;</td></tr><tr><td>&quot;rs1799752_in_10.1038/ng0194-29&quot;</td><td>&quot;rs1799752&quot;</td><td>&quot;ACE&quot;</td><td>&quot;English (Cambridge)&quot;</td><td>&quot;male/female&quot;</td><td>&quot;8136829&quot;</td><td>&quot;10.1038/ng0194-29&quot;</td><td>&quot;http://doi.org/10.1038/ng0194-29&quot;</td><td>&quot;rs1799752 variant in  angiotensin I converting enzyme (ACE) with location 17q23.3 has significant association with longevity for male and femalein English (Cambridge) populationin a study conducted/published in 1994. The study had the following design I/D polymorphism was examined in centenarians (n = 338) and in adults aged 20-70 years. The study concludedA variant of ACE which predisposes to coronary heart disease was more frequent in centenarians with a significant increase of the homozygous genotypeThe study was published with pubmed id8136829 with DOI http://doi.org/10.1038/ng0194-29&quot;</td></tr><tr><td>&quot;APOB_in_10.1016/0021-9150(94)90011-6&quot;</td><td>&quot;APOB&quot;</td><td>&quot;APOB&quot;</td><td>&quot;Danish&quot;</td><td>&quot;male/female&quot;</td><td>&quot;8155090&quot;</td><td>&quot;10.1016/0021-9150(94)90011-6&quot;</td><td>&quot;http://doi.org/10.1016/0021-9150(94)90011-6&quot;</td><td>&quot;APOB variant in  apolipoprotein B (APOB) with location 2p24.1 has significant association with longevity for male and femalein Danish populationin a study conducted/published in 1994. The study had the following design The apolipoprotein B EcoRI and Xba I polymorphisms were examined in Finnish nonagenarians. The study concludedThe frequency of the EcoRI allele R- was somewhat lower in the nonagenarians, particularly in women. The allele frequency for the Xba I polymorphism did not differ between the nonagenarians and the younger groups.The study was published with pubmed id8155090 with DOI http://doi.org/10.1016/0021-9150(94)90011-6&quot;</td></tr><tr><td>&quot;rs7412_in_10.1016/0021-9150(94)90011-6&quot;</td><td>&quot;rs7412&quot;</td><td>&quot;APOE&quot;</td><td>&quot;Spanish&quot;</td><td>&quot;male/female&quot;</td><td>&quot;8155090&quot;</td><td>&quot;10.1016/0021-9150(94)90011-6&quot;</td><td>&quot;http://doi.org/10.1016/0021-9150(94)90011-6&quot;</td><td>&quot;rs7412 variant in  apolipoprotein E (APOE) with location 19q13.32 has significant association with longevity for male and femalein Spanish populationin a study conducted/published in 1994. The study had the following design The common polymorphism of apolipoprotein E (E2, E3, and E4) was examined in Finnish nonagenarians. The study concludedThe frequency of the E4 allele was lower in the nonagenarians than in the middle-aged and young adultsThe study was published with pubmed id8155090 with DOI http://doi.org/10.1016/0021-9150(94)90011-6&quot;</td></tr><tr><td>&quot;rs7412_in_8403397&quot;</td><td>&quot;rs7412&quot;</td><td>&quot;APOE&quot;</td><td>&quot;English (Caucasian) and Nigerian&quot;</td><td>&quot;male/female&quot;</td><td>&quot;8403397&quot;</td><td>&quot;8403397&quot;</td><td>&quot;http://doi.org/8403397&quot;</td><td>&quot;rs7412 variant in  apolipoprotein E (APOE) with location 19q13.32 has significant association with longevity for male and femalein English (Caucasian) and Nigerian populationin a study conducted/published in 1993. The study had the following design Isoforms were examined in 407 healthy Swedish individuals, 244 men and 163 women, ages 17 to 86 years. The study concludedThe E4 frequency decreased with increasing age and was significantly lower in individuals &gt; 60 years of ageThe study was published with pubmed id8403397 with DOI http://doi.org/8403397&quot;</td></tr><tr><td>&quot;APOB_in_10.1007/s004390050364&quot;</td><td>&quot;APOB&quot;</td><td>&quot;APOB&quot;</td><td>&quot;Finnish, American, Mexican and Japanese&quot;</td><td>&quot;male/female&quot;</td><td>&quot;9050915&quot;</td><td>&quot;10.1007/s004390050364&quot;</td><td>&quot;http://doi.org/10.1007/s004390050364&quot;</td><td>&quot;APOB variant in  apolipoprotein B (APOB) with location 2p24.1 has significant association with longevity for male and femalein Finnish, American, Mexican and Japanese populationin a study conducted/published in 1997. The study had the following design A sample of 143 centenarians and a control sample of 158 individuals were examined for polymorphism in APOB restriction fragment length (RFLP) (XbaI2488 and EcoRI4154) and variable number of tandem repeat (VNTR) (3&#x27;APOB-VNTR) polymorphisms. The study concludedNeither the XbaI-RFLP nor the EcoRI-RFLP was able to discriminate between centenarians and controls, while the 3&#x27;APOB-VNTR multiallelic system revealed significant differences between the samples: the frequency of alleles with fewer than 35 repeats was lower in centenarians than in controlsThe study was published with pubmed id9050915 with DOI http://doi.org/10.1007/s004390050364&quot;</td></tr><tr><td>&quot;rs7412_in_10.1007/BF03324333&quot;</td><td>&quot;rs7412&quot;</td><td>&quot;APOE&quot;</td><td>&quot;Swiss&quot;</td><td>&quot;male/female&quot;</td><td>&quot;8541369&quot;</td><td>&quot;10.1007/BF03324333&quot;</td><td>&quot;http://doi.org/10.1007/BF03324333&quot;</td><td>&quot;rs7412 variant in  apolipoprotein E (APOE) with location 19q13.32 has non-significant association with longevity for male and femalein Swiss populationin a study conducted/published in 1995. The study had the following design APOE common polymorphism (E2, E3, and E4) was examined in a sample of 228 healthy Italian subjects (124 men and 104 women) aged 18-93. The study concludedThe frequency of E4 decreased with age and was not found in subjects aged 75 and olderThe study was published with pubmed id8541369 with DOI http://doi.org/10.1007/BF03324333&quot;</td></tr><tr><td>&quot;APOC1_in_10.1016/s0021-9150(96)06027-3&quot;</td><td>&quot;APOC1&quot;</td><td>&quot;APOC1&quot;</td><td>&quot;Italian (Northern)&quot;</td><td>&quot;male/female&quot;</td><td>&quot;9105559&quot;</td><td>&quot;10.1016/s0021-9150(96)06027-3&quot;</td><td>&quot;http://doi.org/10.1016/s0021-9150(96)06027-3&quot;</td><td>&quot;APOC1 variant in  apolipoprotein C1 (APOC1) with location 19q13.32 has significant association with longevity for male and femalein Italian (Northern) populationin a study conducted/published in 1997. The study had the following design Allele and genotype frequencies at Hpa1 RFLP were examined in 182 women and 100 men aged &gt;84 years and in 100 boys and 100 girls younger than 17 years. The study concludedAllele and genotype frequencies were significantly different in the elderly women compared to the younger sample. No difference was observed in the elderly men.The study was published with pubmed id9105559 with DOI http://doi.org/10.1016/s0021-9150(96)06027-3&quot;</td></tr><tr><td>&hellip;</td><td>&hellip;</td><td>&hellip;</td><td>&hellip;</td><td>&hellip;</td><td>&hellip;</td><td>&hellip;</td><td>&hellip;</td><td>&hellip;</td></tr><tr><td>&quot;-889C/T_in_10.1016/s0047-6374(01)00338-4&quot;</td><td>&quot;-889C/T&quot;</td><td>&quot;IL1A&quot;</td><td>&quot;Czechs (Bohemian), Americans (Baltimore Caucasians and African-Americans)&quot;</td><td>&quot;male/female&quot;</td><td>&quot;11640949&quot;</td><td>&quot;10.1016/s0047-6374(01)00338-4&quot;</td><td>&quot;http://doi.org/10.1016/s0047-6374(01)00338-4&quot;</td><td>&quot;-889C/T variant in  interleukin 1 alpha (IL1A) with location 2q14.1 has non-significant association with longevity for male and femalein Czechs (Bohemian), Americans (Baltimore Caucasians and African-Americans) populationin a study conducted/published in 2001. The study had the following design 250 (52 males and 198 females) nonagenarians and 400 healthy control group (18-60 years old) were examined for -889 SNP. The study concludedNo significant differences relative to longevity were foundThe study was published with pubmed id11640949 with DOI http://doi.org/10.1016/s0047-6374(01)00338-4&quot;</td></tr><tr><td>&quot;IL1RN_in_10.1016/s0047-6374(01)00338-4&quot;</td><td>&quot;IL1RN&quot;</td><td>&quot;IL1RN&quot;</td><td>&quot;Italian, Ashkenazi Jewish and Japanese&quot;</td><td>&quot;male/female&quot;</td><td>&quot;11640949&quot;</td><td>&quot;10.1016/s0047-6374(01)00338-4&quot;</td><td>&quot;http://doi.org/10.1016/s0047-6374(01)00338-4&quot;</td><td>&quot;IL1RN variant in  interleukin 1 receptor antagonist (IL1RN) with location 2q14.1 has non-significant association with longevity for male and femalein Italian, Ashkenazi Jewish and Japanese populationin a study conducted/published in 2001. The study had the following design 250 (52 males and 198 females) nonagenarians and 400 healthy control (18-60 years old) were examined for VNTR polymorphism in intron 2 (an 86 bp repeat sequence). The study concludedNo significant differences relative to longevity were foundThe study was published with pubmed id11640949 with DOI http://doi.org/10.1016/s0047-6374(01)00338-4&quot;</td></tr><tr><td>&quot;IL6_in_10.1016/s0047-6374(01)00338-4&quot;</td><td>&quot;IL6&quot;</td><td>&quot;IL6&quot;</td><td>&quot;American of Japanese origin&quot;</td><td>&quot;male/female&quot;</td><td>&quot;11640949&quot;</td><td>&quot;10.1016/s0047-6374(01)00338-4&quot;</td><td>&quot;http://doi.org/10.1016/s0047-6374(01)00338-4&quot;</td><td>&quot;IL6 variant in  interleukin 6 (IL6) with location 7p15.3 has non-significant association with longevity for male and femalein American of Japanese origin populationin a study conducted/published in 2001. The study had the following design 250 (52 males and 198 females) nonagenarians and 400 healthy control group (18-60 years old) were examined for -174, +3953 and -511 SNPs. The study concludedNo significant differences relative to longevity were foundThe study was published with pubmed id11640949 with DOI http://doi.org/10.1016/s0047-6374(01)00338-4&quot;</td></tr><tr><td>&quot;rs1800629_in_10.1016/s0047-6374(01)00338-4&quot;</td><td>&quot;rs1800629&quot;</td><td>&quot;TNF&quot;</td><td>&quot;European and American (Caucasian)&quot;</td><td>&quot;male/female&quot;</td><td>&quot;11640949&quot;</td><td>&quot;10.1016/s0047-6374(01)00338-4&quot;</td><td>&quot;http://doi.org/10.1016/s0047-6374(01)00338-4&quot;</td><td>&quot;rs1800629 variant in  tumor necrosis factor (TNF) with location 6p21.33 has non-significant association with longevity for male and femalein European and American (Caucasian) populationin a study conducted/published in 2001. The study had the following design 250 (52 males and 198 females) nonagenarians and 400 healthy control group (18-60 years old) were examined for -308 SNP. The study concludedNo significant differences relative to longevity were foundThe study was published with pubmed id11640949 with DOI http://doi.org/10.1016/s0047-6374(01)00338-4&quot;</td></tr><tr><td>&quot;IGF2_in_10.1016/s0531-5565(01)00146-2&quot;</td><td>&quot;IGF2&quot;</td><td>&quot;IGF2&quot;</td><td>&quot;American (Caucasians), Italian (Southern), French, Ashkenazi Jewish &quot;</td><td>&quot;male/female&quot;</td><td>&quot;11672987&quot;</td><td>&quot;10.1016/s0531-5565(01)00146-2&quot;</td><td>&quot;http://doi.org/10.1016/s0531-5565(01)00146-2&quot;</td><td>&quot;IGF2 variant in  insulin like growth factor 2 (IGF2) with location 11p15.5 has non-significant association with longevity for male and femalein American (Caucasians), Italian (Southern), French, Ashkenazi Jewish  populationin a study conducted/published in 2001. The study had the following design Exon 9 AvaII RFLP polymorphism was examined in 219 centenarians (72 males and 147 females) and 256 (controls 20-70 years, 119 males and 137 females). The study concludedNo significant difference between centenarians and controls was observedThe study was published with pubmed id11672987 with DOI http://doi.org/10.1016/s0531-5565(01)00146-2&quot;</td></tr><tr><td>&quot;FokI RFLP_in_10.1016/s0531-5565(01)00146-2&quot;</td><td>&quot;FokI RFLP&quot;</td><td>&quot;INS&quot;</td><td>&quot;Germany, Italian, Chinese (Han)&quot;</td><td>&quot;male/female&quot;</td><td>&quot;11672987&quot;</td><td>&quot;10.1016/s0531-5565(01)00146-2&quot;</td><td>&quot;http://doi.org/10.1016/s0531-5565(01)00146-2&quot;</td><td>&quot;FokI RFLP variant in  insulin (INS) with location 11p15.5 has non-significant association with longevity for male and femalein Germany, Italian, Chinese (Han) populationin a study conducted/published in 2001. The study had the following design FokI RFLP polymorphism was examined in 219 centenarians (72 males and 147 females) and 256 (controls 20-70 years, 119 males and 137 females). The study concludedNo significant difference between centenarians and controls was observedThe study was published with pubmed id11672987 with DOI http://doi.org/10.1016/s0531-5565(01)00146-2&quot;</td></tr><tr><td>&quot;BRCA1_in_10.1111/j.1749-6632.2001.tb05639.x&quot;</td><td>&quot;BRCA1&quot;</td><td>&quot;BRCA1&quot;</td><td>&quot;Italian (Northern) and Japanese&quot;</td><td>&quot;male/female&quot;</td><td>&quot;11795532&quot;</td><td>&quot;10.1111/j.1749-6632.2001.tb05639.x&quot;</td><td>&quot;http://doi.org/10.1111/j.1749-6632.2001.tb05639.x&quot;</td><td>&quot;BRCA1 variant in  BRCA1, DNA repair associated (BRCA1) with location 17q21.31 has non-significant association with longevity for male and femalein Italian (Northern) and Japanese populationin a study conducted/published in 2001. The study had the following design Polymorphisms were examined in 102 centenarians from the New England area and 84 centenarians from Italy. The control population consisted of 97 individuals from Italy.. The study concludedThe genotype a+a was more frequent in both centenarian groups compared to the control group whereas the genotype a+b was less frequent. The results however were not statistically significant.The study was published with pubmed id11795532 with DOI http://doi.org/10.1111/j.1749-6632.2001.tb05639.x&quot;</td></tr><tr><td>&quot;rs1799752_in_10.1093/gerona/57.1.m57&quot;</td><td>&quot;rs1799752&quot;</td><td>&quot;ACE&quot;</td><td>&quot;American (Caucasian), Ashkenazi Jewish&quot;</td><td>&quot;male/female&quot;</td><td>&quot;11773214&quot;</td><td>&quot;10.1093/gerona/57.1.m57&quot;</td><td>&quot;http://doi.org/10.1093/gerona/57.1.m57&quot;</td><td>&quot;rs1799752 variant in  angiotensin I converting enzyme (ACE) with location 17q23.3 has significant association with longevity for male and femalein American (Caucasian), Ashkenazi Jewish populationin a study conducted/published in 2002. The study had the following design I/D polymorphism was examined in 424 subjects comprising 227 Uighur individuals, 108 Kazakh individuals, and 89 Han individuals. All subjects in the latter two groups ranged in age from 65 to 70 years, whereas the Uighur subjects comprised two different age groups: those ranging in age from 59 to 70 years and those ranging in age from 90 to 113 years.. The study concludedWithin the Uighur group, frequency of the D allele was significantly higher in the group aged &gt;90 than in the group aged &lt;70. The overall distributions of alleles in the three groups did not differ significantly.The study was published with pubmed id11773214 with DOI http://doi.org/10.1093/gerona/57.1.m57&quot;</td></tr><tr><td>&quot;rs2430561_in_10.1038/sj.gene.6363827&quot;</td><td>&quot;rs2430561&quot;</td><td>&quot;IFNG&quot;</td><td>&quot;American (Caucasian and African–American), Ashkenazi Jewish&quot;</td><td>&quot;male/female&quot;</td><td>&quot;11857058&quot;</td><td>&quot;10.1038/sj.gene.6363827&quot;</td><td>&quot;http://doi.org/10.1038/sj.gene.6363827&quot;</td><td>&quot;rs2430561 variant in  interferon gamma (IFNG) with location 12q15 has significant association with longevity for male and femalein American (Caucasian and African–American), Ashkenazi Jewish populationin a study conducted/published in 2002. The study had the following design The distribution of the 874T/A polymorphism was examined in 174 Italian centenarians (&gt;99 years old, 142 women and 32 men) and 248 &lt;60-year-old control subjects (90 women and 158 men). The study concludedThe +874T allele, known to be associated with low IFN-gamma production, was found less frequently in centenarian women than in centenarian men or in control women whereas no significant differences were observed in the distribution of the two alleles between male or female controls. Allele frequencies in centenarian men were not found significantly different from male controls.The study was published with pubmed id11857058 with DOI http://doi.org/10.1038/sj.gene.6363827&quot;</td></tr><tr><td>&quot;rs1800896_in_10.1038/sj.gene.6363827&quot;</td><td>&quot;rs1800896&quot;</td><td>&quot;IL10&quot;</td><td>&quot;English (Oxford)&quot;</td><td>&quot;male/female&quot;</td><td>&quot;11857058&quot;</td><td>&quot;10.1038/sj.gene.6363827&quot;</td><td>&quot;http://doi.org/10.1038/sj.gene.6363827&quot;</td><td>&quot;rs1800896 variant in  interleukin 10 (IL10) with location 1q32.1 has significant association with longevity for male and femalein English (Oxford) populationin a study conducted/published in 2002. The study had the following design The -1082G/A, -819C/T and -592C/A proximal promoter SNPs were examined in 190 centenarians (&gt;99 years old, 159 women and 31 men) and in 260 control subjects (99 women and 161 men less than 60 years old). The study concludedThe -1082G homozygous genotype, associated with high IL-10 production, was increased in centenarian men but not in centenarian women. No difference was found between centenarians and control subjects regarding the other two SNPs.The study was published with pubmed id11857058 with DOI http://doi.org/10.1038/sj.gene.6363827&quot;</td></tr><tr><td>&quot;C282Y_in_10.1038/sj.gene.6363827&quot;</td><td>&quot;C282Y&quot;</td><td>&quot;HFE&quot;</td><td>&quot;American (Caucasian), French&quot;</td><td>&quot;male/female&quot;</td><td>&quot;11857058&quot;</td><td>&quot;10.1038/sj.gene.6363827&quot;</td><td>&quot;http://doi.org/10.1038/sj.gene.6363827&quot;</td><td>&quot;C282Y variant in  hemochromatosis (HFE) with location 6p22.2 has significant association with longevity for male and femalein American (Caucasian), French populationin a study conducted/published in 2002. The study had the following design C282Y, H63D and S65C polymorphisms were studied in 106 young controls (age range from 22 to 55 years; 40 men and 66 women) and 35 elderly subjects (age range from 91 to 105 years; seven men and 28 women). The study concludedA significant difference was observed only in women in frequencies of C282Y alleles between the young and the elderly subjects. Concerning H63D polymorphisms, no significant differences were observed, between old and young people.The study was published with pubmed id11857058 with DOI http://doi.org/10.1038/sj.gene.6363827&quot;</td></tr><tr><td>&quot;FAS_in_10.1038/sj.cdd.4400964&quot;</td><td>&quot;FAS&quot;</td><td>&quot;FAS&quot;</td><td>&quot;American (Caucasian and African-American)&quot;</td><td>&quot;male/female&quot;</td><td>&quot;11965496&quot;</td><td>&quot;10.1038/sj.cdd.4400964&quot;</td><td>&quot;http://doi.org/10.1038/sj.cdd.4400964&quot;</td><td>&quot;FAS variant in  Fas cell surface death receptor (FAS) with location 10q23.31 has non-significant association with longevity for male and femalein American (Caucasian and African-American) populationin a study conducted/published in 2002. The study had the following design The -670 and -1377 position SNPs were examined in 50 centenarians and 86 young controls. The study concludedGenotype and allele distribution for both polymorphisms were similar in controls and centenariansThe study was published with pubmed id11965496 with DOI http://doi.org/10.1038/sj.cdd.4400964&quot;</td></tr></tbody></table></div>"
     },
     "execution_count": 4,
     "metadata": {},
     "output_type": "execute_result"
    }
   ],
   "source": [
    "from genes.prepare import prepare_longevity\n",
    "long = prepare_longevity(locations)\n",
    "long"
   ],
   "metadata": {
    "collapsed": false
   }
  },
  {
   "cell_type": "code",
   "execution_count": 5,
   "outputs": [
    {
     "data": {
      "text/plain": "True"
     },
     "execution_count": 5,
     "metadata": {},
     "output_type": "execute_result"
    }
   ],
   "source": [
    "from dotenv import load_dotenv\n",
    "load_dotenv()"
   ],
   "metadata": {
    "collapsed": false
   }
  },
  {
   "cell_type": "markdown",
   "source": [
    "# Test"
   ],
   "metadata": {
    "collapsed": false
   }
  },
  {
   "cell_type": "markdown",
   "source": [
    "## LangChain ##"
   ],
   "metadata": {
    "collapsed": false
   }
  },
  {
   "cell_type": "code",
   "execution_count": 6,
   "outputs": [
    {
     "name": "stderr",
     "output_type": "stream",
     "text": [
      "Using embedded DuckDB with persistence: data will be stored in: /home/antonkulaga/sources/genes-gpt/data/index\n",
      "/home/antonkulaga/micromamba/envs/genes-gpt/lib/python3.10/site-packages/langchain/llms/openai.py:169: UserWarning: You are trying to use a chat model. This way of initializing it is no longer supported. Instead, please use: `from langchain.chat_models import ChatOpenAI`\n",
      "  warnings.warn(\n",
      "/home/antonkulaga/micromamba/envs/genes-gpt/lib/python3.10/site-packages/langchain/llms/openai.py:687: UserWarning: You are trying to use a chat model. This way of initializing it is no longer supported. Instead, please use: `from langchain.chat_models import ChatOpenAI`\n",
      "  warnings.warn(\n"
     ]
    },
    {
     "data": {
      "text/plain": "<genes.indexing.Index at 0x7f1734d2a380>"
     },
     "execution_count": 6,
     "metadata": {},
     "output_type": "execute_result"
    }
   ],
   "source": [
    "from genes.indexing import *\n",
    "index = Index(locations)\n",
    "index"
   ],
   "metadata": {
    "collapsed": false
   }
  },
  {
   "cell_type": "code",
   "execution_count": 7,
   "outputs": [
    {
     "name": "stdout",
     "output_type": "stream",
     "text": [
      "detected text for the following modules [PosixPath('/home/antonkulaga/sources/genes-gpt/data/modules/texts/longevity_map_text.tsv')]\n",
      "indexing 1 modules\n"
     ]
    },
    {
     "data": {
      "text/plain": "<genes.indexing.Index at 0x7f1734d2a380>"
     },
     "execution_count": 7,
     "metadata": {},
     "output_type": "execute_result"
    }
   ],
   "source": [
    "index.with_modules()"
   ],
   "metadata": {
    "collapsed": false
   }
  },
  {
   "cell_type": "code",
   "execution_count": 8,
   "outputs": [
    {
     "data": {
      "text/plain": "{'question': 'I have rs1801133, rs1799752, rs1799889, rs1800790, rs1799752 genetic variants in my genome. Can you summarize them?',\n 'answer': 'The genetic variants rs1801133, rs1799752, rs1799889, and rs1800790 are mentioned in the given content. rs1800790 variant has a non-significant association with longevity for males and females in Ashkenazi Jewish (Jerusalem) and Chinese (Uighur in Xinjiang) populations based on two studies published in 1997 and 1999. The studies concluded that alleles and genotypes were found with similar frequencies in centenarians and the control group. However, no information is provided about rs1801133, rs1799752, and rs1799889 in the given content. \\n',\n 'sources': 'http://doi.org/10494771, http://doi.org/10.1161/01.atv.17.4.755'}"
     },
     "execution_count": 8,
     "metadata": {},
     "output_type": "execute_result"
    }
   ],
   "source": [
    "index.query_with_sources(\"I have rs1801133, rs1799752, rs1799889, rs1800790, rs1799752 genetic variants in my genome. Can you summarize them?\")"
   ],
   "metadata": {
    "collapsed": false
   }
  },
  {
   "cell_type": "code",
   "execution_count": 32,
   "outputs": [
    {
     "data": {
      "text/plain": "shape: (10, 18)\n┌─────┬────────┬──────────────────────────────────────────────────────────────────────┬────────────┬───┬─────────────┬──────────┬──────────────────────────────────────────────────────────────────────────────────────────────────────────────────────────────────────────────────────────────────────────────────────────────────────────────────────────────────────────────────────────────────────────────────────────────────────────────────────────────────────────────────────────────────────────────────────────────────────────────────────────────────────────────────────────────────────────────────────────────────────────────────────────────────────────────────────────────────────────────────────────────────────────────────────────────────────────────────────────────────────────────────────────────────────────────────────────────────────────────────────────────────────────────────────────────────────────────────────────────────────────────────────────┬────────────────────┐\n│ id  ┆ weight ┆ population                                                           ┆ snp        ┆ … ┆ nucleotides ┆ priority ┆ ncbidesc                                                                                                                                                                                                                                                                                                                                                                                                                                                                                                                                                                                                                                                                                                                                                                                                                                                 ┆ category_name      │\n│ --- ┆ ---    ┆ ---                                                                  ┆ ---        ┆   ┆ ---         ┆ ---      ┆ ---                                                                                                                                                                                                                                                                                                                                                                                                                                                                                                                                                                                                                                                                                                                                                                                                                                                      ┆ ---                │\n│ i64 ┆ f64    ┆ str                                                                  ┆ str        ┆   ┆ str         ┆ f64      ┆ str                                                                                                                                                                                                                                                                                                                                                                                                                                                                                                                                                                                                                                                                                                                                                                                                                                                      ┆ str                │\n╞═════╪════════╪══════════════════════════════════════════════════════════════════════╪════════════╪═══╪═════════════╪══════════╪══════════════════════════════════════════════════════════════════════════════════════════════════════════════════════════════════════════════════════════════════════════════════════════════════════════════════════════════════════════════════════════════════════════════════════════════════════════════════════════════════════════════════════════════════════════════════════════════════════════════════════════════════════════════════════════════════════════════════════════════════════════════════════════════════════════════════════════════════════════════════════════════════════════════════════════════════════════════════════════════════════════════════════════════════════════════════════════════════════════════════════════════════════════════════════════════════════════════════════════════════════════════════════════╪════════════════════╡\n│ 1   ┆ 0.07   ┆ American (Caucasian)                                                 ┆ rs2032563  ┆ … ┆ A/G         ┆ 0.14     ┆ The protein encoded by this gene contains a CG1 DNA-binding domain, a transcription factor immunoglobulin domain, ankyrin repeats, and calmodulin-binding IQ motifs. The encoded protein is thought to be a transcription factor and may be a tumor suppressor. However, a translocation event is sometimes observed between this gene and the WWTR1 gene, with the resulting WWTR1-CAMTA1 oncoprotein leading to epithelioid hemangioendothelioma, a malignant vascular cancer. [provided by RefSeq, Mar 2017]                                                                                                                                                                                                                                                                                                                                          ┆ other              │\n│ 2   ┆ 0.07   ┆ American (Caucasian)                                                 ┆ rs10489436 ┆ … ┆ G/A         ┆ 0.14     ┆ null                                                                                                                                                                                                                                                                                                                                                                                                                                                                                                                                                                                                                                                                                                                                                                                                                                                     ┆ other              │\n│ 3   ┆ 0.24   ┆ American (Caucasian)                                                 ┆ rs3120819  ┆ … ┆ C/A         ┆ 0.48     ┆ null                                                                                                                                                                                                                                                                                                                                                                                                                                                                                                                                                                                                                                                                                                                                                                                                                                                     ┆ tumor-suppressor   │\n│ 4   ┆ 0.14   ┆ American (Caucasian)                                                 ┆ rs12129750 ┆ … ┆ G/G         ┆ 0.14     ┆ This gene encodes a protein belonging to the vacuolar-protein-sorting-13 gene family. In yeast, vacuolar-protein-sorting-13 proteins are involved in trafficking of membrane proteins between the trans-Golgi network and the prevacuolar compartment. While several transcript variants may exist for this gene, the full-length natures of only two have been described to date. These two represent the major variants of this gene and encode distinct isoforms. [provided by RefSeq, Jul 2008]                                                                                                                                                                                                                                                                                                                                                      ┆ other              │\n│ …   ┆ …      ┆ …                                                                    ┆ …          ┆ … ┆ …           ┆ …        ┆ …                                                                                                                                                                                                                                                                                                                                                                                                                                                                                                                                                                                                                                                                                                                                                                                                                                                        ┆ …                  │\n│ 7   ┆ 0.07   ┆ American (Caucasian)                                                 ┆ rs10923673 ┆ … ┆ G/T         ┆ 0.14     ┆ null                                                                                                                                                                                                                                                                                                                                                                                                                                                                                                                                                                                                                                                                                                                                                                                                                                                     ┆ other              │\n│ 8   ┆ -0.27  ┆ American (Caucasians), Italian (Southern), French, Ashkenazi Jewish  ┆ rs2485662  ┆ … ┆ C/C         ┆ 0.27     ┆ The protein encoded by this gene is part of the nuclear lamina, a two-dimensional matrix of proteins located next to the inner nuclear membrane. The lamin family of proteins make up the matrix and are highly conserved in evolution. During mitosis, the lamina matrix is reversibly disassembled as the lamin proteins are phosphorylated. Lamin proteins are thought to be involved in nuclear stability, chromatin structure and gene expression. Vertebrate lamins consist of two types, A and B. Alternative splicing results in multiple transcript variants. Mutations in this gene lead to several diseases: Emery-Dreifuss muscular dystrophy, familial partial lipodystrophy, limb girdle muscular dystrophy, dilated cardiomyopathy, Charcot-Marie-Tooth disease, and Hutchinson-Gilford progeria syndrome. [provided by RefSeq, May 2022] ┆ genome_maintenance │\n│ 9   ┆ 0.1    ┆ American (Caucasians), Italian (Southern), French, Ashkenazi Jewish  ┆ rs1468772  ┆ … ┆ G/G         ┆ 0.1      ┆ null                                                                                                                                                                                                                                                                                                                                                                                                                                                                                                                                                                                                                                                                                                                                                                                                                                                     ┆ other              │\n│ 10  ┆ 0.07   ┆ American (Caucasian)                                                 ┆ rs12043001 ┆ … ┆ C/T         ┆ 0.14     ┆ null                                                                                                                                                                                                                                                                                                                                                                                                                                                                                                                                                                                                                                                                                                                                                                                                                                                     ┆ other              │\n└─────┴────────┴──────────────────────────────────────────────────────────────────────┴────────────┴───┴─────────────┴──────────┴──────────────────────────────────────────────────────────────────────────────────────────────────────────────────────────────────────────────────────────────────────────────────────────────────────────────────────────────────────────────────────────────────────────────────────────────────────────────────────────────────────────────────────────────────────────────────────────────────────────────────────────────────────────────────────────────────────────────────────────────────────────────────────────────────────────────────────────────────────────────────────────────────────────────────────────────────────────────────────────────────────────────────────────────────────────────────────────────────────────────────────────────────────────────────────────────────────────────────────────────────────────────────────────┴────────────────────┘",
      "text/html": "<div><style>\n.dataframe > thead > tr > th,\n.dataframe > tbody > tr > td {\n  text-align: right;\n}\n</style>\n<small>shape: (10, 18)</small><table border=\"1\" class=\"dataframe\"><thead><tr><th>id</th><th>weight</th><th>population</th><th>snp</th><th>gene</th><th>conflicted_rows</th><th>description</th><th>coding</th><th>ref</th><th>alt</th><th>cdnachange</th><th>deseases</th><th>zegot</th><th>alelfreq</th><th>nucleotides</th><th>priority</th><th>ncbidesc</th><th>category_name</th></tr><tr><td>i64</td><td>f64</td><td>str</td><td>str</td><td>str</td><td>str</td><td>str</td><td>str</td><td>str</td><td>str</td><td>str</td><td>str</td><td>str</td><td>f64</td><td>str</td><td>f64</td><td>str</td><td>str</td></tr></thead><tbody><tr><td>1</td><td>0.07</td><td>&quot;American (Caucasian)&quot;</td><td>&quot;rs2032563&quot;</td><td>&quot;CAMTA1&quot;</td><td>&quot;[]&quot;</td><td>&quot;[{&quot;pubmedid&quot;: &quot;22279548&quot;, &quot;study_design&quot;: &quot;Genome-wide association study in 801 centenarians and 914 healthy controls&quot;, &quot;conclusions&quot;: &quot;281 SNPs were found to discriminate between cases and controls&quot;}]&quot;</td><td>null</td><td>&quot;G&quot;</td><td>&quot;A&quot;</td><td>&quot;c.4182+2746G&gt;A&quot;</td><td>null</td><td>&quot;het&quot;</td><td>0.149107</td><td>&quot;A/G&quot;</td><td>0.14</td><td>&quot;The protein encoded by this gene contains a CG1 DNA-binding domain, a transcription factor immunoglobulin domain, ankyrin repeats, and calmodulin-binding IQ motifs. The encoded protein is thought to be a transcription factor and may be a tumor suppressor. However, a translocation event is sometimes observed between this gene and the WWTR1 gene, with the resulting WWTR1-CAMTA1 oncoprotein leading to epithelioid hemangioendothelioma, a malignant vascular cancer. [provided by RefSeq, Mar 2017]&quot;</td><td>&quot;other&quot;</td></tr><tr><td>2</td><td>0.07</td><td>&quot;American (Caucasian)&quot;</td><td>&quot;rs10489436&quot;</td><td>&quot;&quot;</td><td>&quot;[]&quot;</td><td>&quot;[{&quot;pubmedid&quot;: &quot;22279548&quot;, &quot;study_design&quot;: &quot;Genome-wide association study in 801 centenarians and 914 healthy controls&quot;, &quot;conclusions&quot;: &quot;281 SNPs were found to discriminate between cases and controls&quot;}]&quot;</td><td>null</td><td>&quot;A&quot;</td><td>&quot;G&quot;</td><td>null</td><td>null</td><td>&quot;het&quot;</td><td>0.191576</td><td>&quot;G/A&quot;</td><td>0.14</td><td>null</td><td>&quot;other&quot;</td></tr><tr><td>3</td><td>0.24</td><td>&quot;American (Caucasian)&quot;</td><td>&quot;rs3120819&quot;</td><td>&quot;TP53&quot;</td><td>&quot;[]&quot;</td><td>&quot;[{&quot;pubmedid&quot;: &quot;22533364&quot;, &quot;study_design&quot;: &quot;Genome-wide association study using 1,471 genotyped participants from the Framingham Heart Study, of which 1,173 individuals had known lifespans, plus 517 individuals from the Offspring cohort for validating connections between longevity and genetic variants&quot;, &quot;conclusions&quot;: &quot;A total of 27 SNPs were identified at the intersection of various statistical procedures.&quot;}]&quot;</td><td>null</td><td>&quot;A&quot;</td><td>&quot;C&quot;</td><td>null</td><td>null</td><td>&quot;het&quot;</td><td>0.575929</td><td>&quot;C/A&quot;</td><td>0.48</td><td>null</td><td>&quot;tumor-suppressor&quot;</td></tr><tr><td>4</td><td>0.14</td><td>&quot;American (Caucasian)&quot;</td><td>&quot;rs12129750&quot;</td><td>&quot;&quot;</td><td>&quot;[]&quot;</td><td>&quot;[{&quot;pubmedid&quot;: &quot;22279548&quot;, &quot;study_design&quot;: &quot;Genome-wide association study in 801 centenarians and 914 healthy controls&quot;, &quot;conclusions&quot;: &quot;281 SNPs were found to discriminate between cases and controls&quot;}]&quot;</td><td>null</td><td>&quot;A&quot;</td><td>&quot;G&quot;</td><td>&quot;c.*4747A&gt;G&quot;</td><td>null</td><td>&quot;hom&quot;</td><td>null</td><td>&quot;G/G&quot;</td><td>0.14</td><td>&quot;This gene encodes a protein belonging to the vacuolar-protein-sorting-13 gene family. In yeast, vacuolar-protein-sorting-13 proteins are involved in trafficking of membrane proteins between the trans-Golgi network and the prevacuolar compartment. While several transcript variants may exist for this gene, the full-length natures of only two have been described to date. These two represent the major variants of this gene and encode distinct isoforms. [provided by RefSeq, Jul 2008]&quot;</td><td>&quot;other&quot;</td></tr><tr><td>5</td><td>0.08</td><td>&quot;American (Caucasian)&quot;</td><td>&quot;rs4648884&quot;</td><td>&quot;RUNX3&quot;</td><td>&quot;[]&quot;</td><td>&quot;[{&quot;pubmedid&quot;: &quot;22533364&quot;, &quot;study_design&quot;: &quot;Genome-wide association study using 1,471 genotyped participants from the Framingham Heart Study, of which 1,173 individuals had known lifespans, plus 517 individuals from the Offspring cohort for validating connections between longevity and genetic variants&quot;, &quot;conclusions&quot;: &quot;A total of 27 SNPs, including in CDH4, SVEP1, CACNA1C, CARS, STK24, C7orf50, PARVG, NCAM2, PPP2R2C, NLRC5, BTBD9, RAC2, TGFA, KIAA0649, ABCC4, CLSTN2, FAM19A5 and RUNX3, were identified at the intersection of various statistical procedures&quot;}]&quot;</td><td>null</td><td>&quot;T&quot;</td><td>&quot;C&quot;</td><td>null</td><td>null</td><td>&quot;het&quot;</td><td>0.514774</td><td>&quot;C/T&quot;</td><td>0.16</td><td>&quot;This gene encodes a member of the runt domain-containing family of transcription factors. A heterodimer of this protein and a beta subunit forms a complex that binds to the core DNA sequence 5&amp;apos;-PYGPYGGT-3&amp;apos; found in a number of enhancers and promoters, and can either activate or suppress transcription. It also interacts with other transcription factors. It functions as a tumor suppressor, and the gene is frequently deleted or transcriptionally silenced in cancer. Alternative splicing results in multiple transcript variants. [provided by RefSeq, Mar 2016]&quot;</td><td>&quot;inflammation&quot;</td></tr><tr><td>6</td><td>0.07</td><td>&quot;American (Caucasian)&quot;</td><td>&quot;rs11211037&quot;</td><td>&quot;BTBD19&quot;</td><td>&quot;[]&quot;</td><td>&quot;[{&quot;pubmedid&quot;: &quot;22279548&quot;, &quot;study_design&quot;: &quot;Genome-wide association study in 801 centenarians and 914 healthy controls&quot;, &quot;conclusions&quot;: &quot;281 SNPs were found to discriminate between cases and controls&quot;}]&quot;</td><td>null</td><td>&quot;A&quot;</td><td>&quot;C&quot;</td><td>&quot;c.87-334A&gt;C&quot;</td><td>null</td><td>&quot;het&quot;</td><td>0.452682</td><td>&quot;C/A&quot;</td><td>0.14</td><td>null</td><td>&quot;other&quot;</td></tr><tr><td>7</td><td>0.07</td><td>&quot;American (Caucasian)&quot;</td><td>&quot;rs10923673&quot;</td><td>&quot;&quot;</td><td>&quot;[]&quot;</td><td>&quot;[{&quot;pubmedid&quot;: &quot;22279548&quot;, &quot;study_design&quot;: &quot;Genome-wide association study in 801 centenarians and 914 healthy controls&quot;, &quot;conclusions&quot;: &quot;281 SNPs were found to discriminate between cases and controls&quot;}]&quot;</td><td>null</td><td>&quot;T&quot;</td><td>&quot;G&quot;</td><td>null</td><td>null</td><td>&quot;het&quot;</td><td>0.211086</td><td>&quot;G/T&quot;</td><td>0.14</td><td>null</td><td>&quot;other&quot;</td></tr><tr><td>8</td><td>-0.27</td><td>&quot;American (Caucasians), Italian (Southern), French, Ashkenazi Jewish &quot;</td><td>&quot;rs2485662&quot;</td><td>&quot;LMNA&quot;</td><td>&quot;[]&quot;</td><td>&quot;[{&quot;pubmedid&quot;: &quot;22340368&quot;, &quot;study_design&quot;: &quot;After 16 SNPs over LMNA gene were genotyped in 873 long-lived individuals and 443 controls for association with longevity, a haplotype was identified. Then, the result was tested in 3619 subjects from four independent samples (738 New England Centenarian Study samples, 905 Southern Italian Centenarian Study samples, 1103 France samples and 702 Einstein Ashkenazi Longevity Study). &quot;, &quot;conclusions&quot;: &quot;A meta-analysis combining results from 5 sets of samples showed the haplotype based on 4 SNPs (rs915179, rs2485662, rs4641, rs1468772) from LMNA was significantly associated with longevity (P=7.5 \\u00d7 10(-4), multiple-testing-adjusted P=0.037)&quot;}]&quot;</td><td>null</td><td>&quot;T&quot;</td><td>&quot;C&quot;</td><td>&quot;c.-1242T&gt;C&quot;</td><td>null</td><td>&quot;hom&quot;</td><td>0.650333</td><td>&quot;C/C&quot;</td><td>0.27</td><td>&quot;The protein encoded by this gene is part of the nuclear lamina, a two-dimensional matrix of proteins located next to the inner nuclear membrane. The lamin family of proteins make up the matrix and are highly conserved in evolution. During mitosis, the lamina matrix is reversibly disassembled as the lamin proteins are phosphorylated. Lamin proteins are thought to be involved in nuclear stability, chromatin structure and gene expression. Vertebrate lamins consist of two types, A and B. Alternative splicing results in multiple transcript variants. Mutations in this gene lead to several diseases: Emery-Dreifuss muscular dystrophy, familial partial lipodystrophy, limb girdle muscular dystrophy, dilated cardiomyopathy, Charcot-Marie-Tooth disease, and Hutchinson-Gilford progeria syndrome. [provided by RefSeq, May 2022]&quot;</td><td>&quot;genome_maintenance&quot;</td></tr><tr><td>9</td><td>0.1</td><td>&quot;American (Caucasians), Italian (Southern), French, Ashkenazi Jewish &quot;</td><td>&quot;rs1468772&quot;</td><td>&quot;SEMA4A&quot;</td><td>&quot;[]&quot;</td><td>&quot;[{&quot;pubmedid&quot;: &quot;22340368&quot;, &quot;study_design&quot;: &quot;After 16 SNPs over LMNA gene were genotyped in 873 long-lived individuals and 443 controls for association with longevity, a haplotype was identified. Then, the result was tested in 3619 subjects from four independent samples (738 New England Centenarian Study samples, 905 Southern Italian Centenarian Study samples, 1103 France samples and 702 Einstein Ashkenazi Longevity Study). &quot;, &quot;conclusions&quot;: &quot;A meta-analysis combining results from 5 sets of samples showed the haplotype based on 4 SNPs (rs915179, rs2485662, rs4641, rs1468772) from LMNA was significantly associated with longevity (P=7.5 \\u00d7 10(-4), multiple-testing-adjusted P=0.037)&quot;}]&quot;</td><td>null</td><td>&quot;T&quot;</td><td>&quot;G&quot;</td><td>null</td><td>null</td><td>&quot;hom&quot;</td><td>0.21959</td><td>&quot;G/G&quot;</td><td>0.1</td><td>null</td><td>&quot;other&quot;</td></tr><tr><td>10</td><td>0.07</td><td>&quot;American (Caucasian)&quot;</td><td>&quot;rs12043001&quot;</td><td>&quot;&quot;</td><td>&quot;[]&quot;</td><td>&quot;[{&quot;pubmedid&quot;: &quot;22279548&quot;, &quot;study_design&quot;: &quot;Genome-wide association study in 801 centenarians and 914 healthy controls&quot;, &quot;conclusions&quot;: &quot;281 SNPs were found to discriminate between cases and controls&quot;}]&quot;</td><td>null</td><td>&quot;T&quot;</td><td>&quot;C&quot;</td><td>null</td><td>null</td><td>&quot;het&quot;</td><td>0.131477</td><td>&quot;C/T&quot;</td><td>0.14</td><td>null</td><td>&quot;other&quot;</td></tr></tbody></table></div>"
     },
     "execution_count": 32,
     "metadata": {},
     "output_type": "execute_result"
    }
   ],
   "source": [
    "rep = pl.read_csv(locations.data / \"reports\" / \"report_Anton.tsv\", sep=\"\\t\")\n",
    "rep.head(10)"
   ],
   "metadata": {
    "collapsed": false
   }
  },
  {
   "cell_type": "code",
   "execution_count": null,
   "outputs": [],
   "source": [],
   "metadata": {
    "collapsed": false
   }
  },
  {
   "cell_type": "code",
   "execution_count": 10,
   "outputs": [
    {
     "data": {
      "text/plain": "{'question': 'what do you know about R353Q substitution?',\n 'answer': 'The R353Q substitution is a variant in coagulation factor VII (F7) and has non-significant association with longevity in American (Caucasian) population and Italian (Sardinia) population. C1367R variant in Werner syndrome RecQ like helicase (WRN), and 401C/T variant in superoxide dismutase 2 (SOD2) also have non-significant association with longevity in American and Italian, French, and Danish population respectively. \\n',\n 'sources': 'DOI http://doi.org/10.1161/01.atv.17.4.755, DOI http://doi.org/10494771, DOI http://doi.org/10069711, and DOI http://doi.org/10.1038/sj.ejhg.5200222'}"
     },
     "execution_count": 10,
     "metadata": {},
     "output_type": "execute_result"
    }
   ],
   "source": [
    "index.query_with_sources(\"what do you know about R353Q substitution?\")"
   ],
   "metadata": {
    "collapsed": false
   }
  },
  {
   "cell_type": "code",
   "execution_count": null,
   "outputs": [],
   "source": [
    "pffin"
   ],
   "metadata": {
    "collapsed": false
   }
  }
 ],
 "metadata": {
  "kernelspec": {
   "display_name": "Python 3 (ipykernel)",
   "language": "python",
   "name": "python3"
  },
  "language_info": {
   "codemirror_mode": {
    "name": "ipython",
    "version": 3
   },
   "file_extension": ".py",
   "mimetype": "text/x-python",
   "name": "python",
   "nbconvert_exporter": "python",
   "pygments_lexer": "ipython3",
   "version": "3.10.10"
  }
 },
 "nbformat": 4,
 "nbformat_minor": 4
}
