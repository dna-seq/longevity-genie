{
 "cells": [
  {
   "cell_type": "markdown",
   "metadata": {},
   "source": [
    "## Indexing genes with ChatGPT ##"
   ]
  },
  {
   "cell_type": "code",
   "execution_count": 1,
   "outputs": [
    {
     "name": "stdout",
     "output_type": "stream",
     "text": [
      "[PosixPath('/home/antonkulaga/sources/genes-gpt/genes'), '/home/antonkulaga/sources/genes-gpt/notebooks/..', '/home/antonkulaga/sources/genes-gpt/notebooks', '/home/antonkulaga/sources/genes-gpt', '/home/antonkulaga/micromamba/envs/genes-gpt/lib/python310.zip', '/home/antonkulaga/micromamba/envs/genes-gpt/lib/python3.10', '/home/antonkulaga/micromamba/envs/genes-gpt/lib/python3.10/lib-dynload', '', '/home/antonkulaga/.local/lib/python3.10/site-packages', '/home/antonkulaga/micromamba/envs/genes-gpt/lib/python3.10/site-packages']\n"
     ]
    }
   ],
   "source": [
    "import sys\n",
    "from pycomfort.files import *\n",
    "import polars as pl\n",
    "import pandas as pd\n",
    "\n",
    "base = Path(\"..\")\n",
    "local = (base / \"genes\").resolve()\n",
    "if local.exists():\n",
    "    sys.path.insert(0, Path(\"..\").absolute().as_posix())\n",
    "    sys.path.insert(0, local)\n",
    "    print(sys.path)\n",
    "else:\n",
    "    base = Path(\".\")\n",
    "%load_ext autoreload\n",
    "%autoreload 2"
   ],
   "metadata": {
    "collapsed": false
   }
  },
  {
   "cell_type": "code",
   "execution_count": 2,
   "outputs": [
    {
     "name": "stdout",
     "output_type": "stream",
     "text": [
      "cannot find sqlite database\n",
      "cannot find sqlite database\n",
      "cannot find sqlite database\n",
      "papers\n",
      "\t.gitignore\n",
      "\ttest.pdf\n",
      "\t10.1073\n",
      "\t\tpnas.0705467105.pdf\n",
      "\t\tpnas.2628028100.pdf\n",
      "\t\tpnas.1003540107.pdf\n",
      "\t\tpnas.1936249100.pdf\n",
      "\t\tpnas.0801030105.pdf\n",
      "\t\tpnas.022484299.pdf\n",
      "\t\tpnas.0906191106.pdf\n",
      "\t\tpnas.0408670102.pdf\n",
      "\t\tpnas.0809594106.pdf\n",
      "\t\tpnas.181337598.pdf\n",
      "\t10.1186\n",
      "\t\t1742-4933-2-13.pdf\n",
      "\t\t1471-2350-8-S1-S13.pdf\n",
      "\t\t1471-2318-9-57.pdf\n",
      "\t\t1756-0500-3-55.pdf\n",
      "\t10.1006\n",
      "\t\tbbrc.2001.4280.pdf\n",
      "\t10.1007\n",
      "\t\ts10522-006-9021-2.pdf\n",
      "\t\ts10522-005-4909-9.pdf\n",
      "\t\tBF03324487.pdf\n",
      "\t\ts004390050364.pdf\n",
      "\t\ts00109-003-0485-0.pdf\n",
      "\t\ts10522-010-9273-8.pdf\n",
      "\t\ts001090100192.pdf\n",
      "\t\ts11357-012-9416-8.pdf\n",
      "\t\ts00439-006-0148-7.pdf\n",
      "\t\ts00439-002-0826-z.pdf\n",
      "\t\ts11357-012-9408-8.pdf\n",
      "\t\ts11357-013-9559-2.pdf\n",
      "\t\ts11357-012-9447-1.pdf\n",
      "\t\ts00439-002-0843-y.pdf\n",
      "\t\ts10522-011-9360-5.pdf\n",
      "\t\ts10522-009-9246-y.pdf\n",
      "\t\ts001090000132.pdf\n",
      "\t\tBF03327391.pdf\n",
      "\t\ts10522-013-9470-3.pdf\n",
      "\t\ts10072-012-1188-5.pdf\n",
      "\t\ts11033-010-0546-8.pdf\n",
      "\t\ts10522-010-9266-7.pdf\n",
      "\t\ts11357-013-9513-3.pdf\n",
      "\t\ts11033-012-1784-8.pdf\n",
      "\t\ts11357-013-9593-0.pdf\n",
      "\t\tBF03324333.pdf\n",
      "\t\ts12603-011-0123-4.pdf\n",
      "\t\ts00109-002-0407-6.pdf\n",
      "\t\ts11357-011-9373-7.pdf\n",
      "\t\ts10522-013-9421-z.pdf\n",
      "\t\ts10522-006-9041-y.pdf\n",
      "\t\ts10522-006-9050-x.pdf\n",
      "\t\ts004390050735.pdf\n",
      "\t\ts10522-005-6042-1.pdf\n",
      "\t\ts11357-011-9210-z.pdf\n",
      "\t\ts10522-009-9229-z.pdf\n",
      "\t\ts11357-011-9340-3.pdf\n",
      "\t10.3233\n",
      "\t\tJAD-2011-101791.pdf\n",
      "\t\tJAD-2011-110743.pdf\n",
      "\t10.1016\n",
      "\t\tj.exger.2008.08.004.pdf\n",
      "\t\ts0047-6374(03)00149-0.pdf\n",
      "\t\tj.mrfmmm.2010.08.006.pdf\n",
      "\t\tj.mad.2013.01.005.pdf\n",
      "\t\tj.mad.2005.01.009.pdf\n",
      "\t\ts0735-1097(99)00337-x.pdf\n",
      "\t\tj.mad.2010.08.009.pdf\n",
      "\t\tj.exger.2003.08.014.pdf\n",
      "\t\tj.exger.2014.04.003.pdf\n",
      "\t\tj.mad.2004.10.001.pdf\n",
      "\t\tj.exger.2005.09.008.pdf\n",
      "\t\tj.cca.2010.06.030.pdf\n",
      "\t\ts0047-6374(03)00033-2.pdf\n",
      "\t\tj.exger.2004.05.007.pdf\n",
      "\t\tj.mad.2004.03.004.pdf\n",
      "\t\tj.mad.2009.08.004.pdf\n",
      "\t\tj.archger.2011.01.001.pdf\n",
      "\t\tj.trsl.2009.08.002.pdf\n",
      "\t\tj.mad.2010.04.001.pdf\n",
      "\t\tj.mad.2005.11.005.pdf\n",
      "\t\tj.toxlet.2004.01.025.pdf\n",
      "\t\tj.cyto.2011.12.021.pdf\n",
      "\t\ts0531-5565(01)00198-x.pdf\n",
      "\t\ts0047-6374(03)00037-x.pdf\n",
      "\t\tj.mad.2007.04.001.pdf\n",
      "\t\tj.mad.2004.08.025.pdf\n",
      "\t\tj.trsl.2014.09.008.pdf\n",
      "\t\tj.exger.2011.09.001.pdf\n",
      "\t\tj.exger.2010.04.007.pdf\n",
      "\t\tj.mad.2005.06.006.pdf\n",
      "\t\tj.ygeno.2004.11.003.pdf\n",
      "\t\tj.mad.2011.06.008.pdf\n",
      "\t\tj.exger.2009.02.004.pdf\n",
      "\t\tj.mad.2006.08.007.pdf\n",
      "\t\ts0047-6374(03)00032-0.pdf\n",
      "\t\tj.amjmed.2004.01.027.pdf\n",
      "\t\ts0047-6374(02)00081-7.pdf\n",
      "\t\ts0764-4469(00)01274-9.pdf\n",
      "\t\tS0140-6736(05)78211-8.pdf\n",
      "\t\tj.exger.2004.03.017.pdf\n",
      "\t\ts0531-5565(03)00209-2.pdf\n",
      "\t\tj.neurobiolaging.2007.05.003.pdf\n",
      "\t\tj.exger.2011.07.011.pdf\n",
      "\t\tj.mad.2006.08.002.pdf\n",
      "\t\ts0531-5565(01)00102-4.pdf\n",
      "\t\tj.exger.2014.01.014.pdf\n",
      "\t\tj.mad.2009.01.005.pdf\n",
      "\t\tj.cyto.2011.07.023.pdf\n",
      "\t\ts0531-5565(03)00006-8.pdf\n",
      "\t\tj.exger.2003.10.001.pdf\n",
      "\t\ts0047-6374(98)00067-0.pdf\n",
      "\t\ts0021-9150(97)00290-6.pdf\n",
      "\t\tj.exger.2011.01.003.pdf\n",
      "\t\ts0047-6374(01)00278-0.pdf\n",
      "\t\tj.mad.2012.06.004.pdf\n",
      "\t\tj.cca.2010.12.006.pdf\n",
      "\t\ts0140-6736(87)91015-4.pdf\n",
      "\t\ts0304-3940(98)00025-1.pdf\n",
      "\t\tj.exger.2014.02.004.pdf\n",
      "\t\tj.mad.2015.08.003.pdf\n",
      "\t\ts1047-2797(02)00254-5.pdf\n",
      "\t\ts0047-6374(01)00338-4.pdf\n",
      "\t\tj.exger.2004.05.003.pdf\n",
      "\t\tj.exger.2003.11.019.pdf\n",
      "\t\tj.exger.2013.03.009.pdf\n",
      "\t\ts0531-5565(01)00146-2.pdf\n",
      "\t\tj.exger.2004.03.034.pdf\n",
      "\t\tj.neurobiolaging.2011.05.026.pdf\n",
      "\t\tj.exger.2004.02.001.pdf\n",
      "\t\tj.archger.2006.10.011.pdf\n",
      "\t\tj.neurobiolaging.2012.02.014.pdf\n",
      "\t\ts0531-5565(01)00094-8.pdf\n",
      "\t\tj.exger.2004.03.037.pdf\n",
      "\t\ts0047-6374(03)00036-8.pdf\n",
      "\t\tj.arcmed.2006.04.001.pdf\n",
      "\t\ts0531-5565(03)00154-2.pdf\n",
      "\t\tj.neurobiolaging.2012.08.019.pdf\n",
      "\t\tj.mad.2006.02.003.pdf\n",
      "\t\ts0021-9150(96)06027-3.pdf\n",
      "\t\tj.mad.2004.08.026.pdf\n",
      "\t\tj.exger.2012.02.010.pdf\n",
      "\t\t0021-9150(94)90011-6.pdf\n",
      "\t\tj.neurobiolaging.2013.04.001.pdf\n",
      "\t\tj.atherosclerosis.2005.01.028.pdf\n",
      "\t10.1111\n",
      "\t\tj.1474-9726.2010.00600.x.pdf\n",
      "\t\tj.1744-313X.2010.00925.x.pdf\n",
      "\t\tj.1744-313X.2006.00613.x.pdf\n",
      "\t\tj.1399-0039.1997.tb02904.x.pdf\n",
      "\t\tj.1474-9726.2009.00493.x.pdf\n",
      "\t\tj.1474-9726.2011.00775.x.pdf\n",
      "\t\tacel.12186.pdf\n",
      "\t\tacel.12011.pdf\n",
      "\t\tacel.12015.pdf\n",
      "\t\tj.1474-9728.2005.00148.x.pdf\n",
      "\t\tj.1749-6632.1991.tb16970.x.pdf\n",
      "\t\tj.1474-9726.2011.00698.x.pdf\n",
      "\t\tj.1474-9726.2011.00705.x.pdf\n",
      "\t\tj.1474-9726.2010.00627.x.pdf\n",
      "\t\tj.1474-9726.2012.00808.x.pdf\n",
      "\t\tj.1749-6632.2001.tb05639.x.pdf\n",
      "\t\tacel.12039.pdf\n",
      "\t\tj.1532-5415.2004.52369.x.pdf\n",
      "\t\tj.1474-9728.2004.00129.x.pdf\n",
      "\t10.1196\n",
      "\t\tannals.1354.040.pdf\n",
      "\t10.1177\n",
      "\t\t0003319712475075.pdf\n",
      "\t10.1503\n",
      "\t\tcmaj.120233.pdf\n",
      "\t10.1161\n",
      "\t\tATVBAHA.112.300421.pdf\n",
      "\t\t01.atv.17.4.755.pdf\n",
      "\t\t01.RES.0000157171.04054.30.pdf\n",
      "\t\t01.atv.14.7.1084.pdf\n",
      "\t\tATVBAHA.113.301273.pdf\n",
      "\t10.1093\n",
      "\t\tgerona\n",
      "\t\t\tglp154.pdf\n",
      "\t\t\t58.9.m851.pdf\n",
      "\t\t\tglt082.pdf\n",
      "\t\t\t62.2.202.pdf\n",
      "\t\t\t63.5.454.pdf\n",
      "\t\t\tgls223.pdf\n",
      "\t\t\t63.5.447.pdf\n",
      "\t\t\tgls067.pdf\n",
      "\t\t\t61.6.547.pdf\n",
      "\t\t\t61.4.355.pdf\n",
      "\t\t\t61.12.1228.pdf\n",
      "\t\t\t62.1.73.pdf\n",
      "\t\t\t60.12.1525.pdf\n",
      "\t\t\t61.9.918.pdf\n",
      "\t\t\t54.4.b150.pdf\n",
      "\t\t\tglq156.pdf\n",
      "\t\t\t56.1.b27.pdf\n",
      "\t\t\t58.3.m227.pdf\n",
      "\t\t\tglq160.pdf\n",
      "\t\t\t56.2.m75.pdf\n",
      "\t\t\tglr117.pdf\n",
      "\t\t\t57.1.m57.pdf\n",
      "\t\t\tglu021.pdf\n",
      "\t\t\tgls192.pdf\n",
      "\t\t\t63.11.1235.pdf\n",
      "\t\t\tgls103.pdf\n",
      "\t\t\tglq028.pdf\n",
      "\t\tageing\n",
      "\t\t\t26.2.147.pdf\n",
      "\t\taje\n",
      "\t\t\tkwr015.pdf\n",
      "\t\thmg\n",
      "\t\t\tddp459.pdf\n",
      "\t\t\t7.2.187.pdf\n",
      "\t\t\tddu139.pdf\n",
      "\t10.1136\n",
      "\t\tjmg.40.2.146.pdf\n",
      "\t\tjmg.40.4.296.pdf\n",
      "\t10.3390\n",
      "\t\tijms141123203.pdf\n",
      "\t10.1371\n",
      "\t\tjournal.pone.0058636.pdf\n",
      "\t\tjournal.pone.0006423.pdf\n",
      "\t\tjournal.pone.0017558.pdf\n",
      "\t\tjournal.pbio.0040113.pdf\n",
      "\t\tjournal.pone.0002421.pdf\n",
      "\t\tjournal.pone.0045232.pdf\n",
      "\t\tjournal.pone.0042877.pdf\n",
      "\t\tjournal.pone.0008210.pdf\n",
      "\t\tjournal.pone.0029650.pdf\n",
      "\t\tjournal.pone.0034746.pdf\n",
      "\t\tjournal.pone.0012432.pdf\n",
      "\t\tjournal.pone.0029848.pdf\n",
      "\t10.1210\n",
      "\t\tjc.2009-0808.pdf\n",
      "\t\tjc.2002-021810.pdf\n",
      "\t10.1002\n",
      "\t\t1521-4141(200108)31:8&#60;2357::aid-immu2357&#62;3.0.co;2-x.pdf\n",
      "\t\tpmic.201900408.pdf\n",
      "\t10.1189\n",
      "\t\tjlb.0705416.pdf\n",
      "\t10.1046\n",
      "\t\tj.1365-2362.1999.00578.x.pdf\n",
      "\t\tj.1469-1809.2003.00008.x.pdf\n",
      "\t10.1523\n",
      "\t\tJNEUROSCI.3515-12.2013.pdf\n",
      "\t10.1038\n",
      "\t\tjhg.2009.111.pdf\n",
      "\t\tsj.ejhg.5200222.pdf\n",
      "\t\tejhg.2012.196.pdf\n",
      "\t\tejhg.2011.43.pdf\n",
      "\t\tsj.ejhg.5201235.pdf\n",
      "\t\tejhg.2013.299.pdf\n",
      "\t\tejhg.2009.54.pdf\n",
      "\t\tng0194-29.pdf\n",
      "\t\tsj.ejhg.5201468.pdf\n",
      "\t\tsj.gene.6363823.pdf\n",
      "\t\tsj.gene.6363827.pdf\n",
      "\t\tsj.cdd.4400964.pdf\n",
      "\t\tsj.ejhg.5200806.pdf\n",
      "\t10.1080\n",
      "\t\t13547500310001627519.pdf\n",
      "\t10.1089\n",
      "\t\trej.2009.0984.pdf\n",
      "\t\trej.2006.9.157.pdf\n",
      "\t\trej.2008.0827.pdf\n",
      "\t\trej.2006.9.153.pdf\n",
      "\t\trej.2012.1382.pdf\n",
      "\t\trej.2012.1365.pdf\n",
      "\t\trej.2010.1114.pdf\n",
      "\t\trej.2009.0970.pdf\n",
      "\t\trej.2011.1257.pdf\n",
      "\t10.1096\n",
      "\t\tfasebj.13.12.1532.pdf\n",
      "\t10.4161\n",
      "\t\tcc.7.2.5249.pdf\n",
      "\t\tpri.23903.pdf\n",
      "\t10.1590\n",
      "\t\ts0066-782x2002000600004.pdf\n",
      "\t10.1023\n",
      "\t\ta:1025182615693.pdf\n",
      "\t\tB:BGEN.0000031154.57176.4f.pdf\n",
      "\t10.3109\n",
      "\t\t13685538.2011.607521.pdf\n",
      "\t\t13685531003657800.pdf\n",
      "\t10.3858\n",
      "\t\temm.2009.41.11.083.pdf\n",
      "\t10.2174\n",
      "\t\t138161210790883499.pdf\n",
      "\t10.1001\n",
      "\t\tjama.290.15.2030.pdf\n",
      "\t\tjama.292.19.2339.pdf\n"
     ]
    }
   ],
   "source": [
    "from genes.config import Locations\n",
    "from pycomfort.files import *\n",
    "pl.Config.set_fmt_str_lengths(10000)\n",
    "pl.Config.set_tbl_width_chars(10000)\n",
    "locations = Locations(base)\n",
    "tprint(locations.papers)"
   ],
   "metadata": {
    "collapsed": false
   }
  },
  {
   "cell_type": "code",
   "execution_count": 3,
   "outputs": [],
   "source": [
    "#from genes.prepare import prepare_longevity_doi\n",
    "#dois = prepare_longevity_doi(locations)\n",
    "#dois"
   ],
   "metadata": {
    "collapsed": false
   }
  },
  {
   "cell_type": "code",
   "execution_count": 4,
   "outputs": [
    {
     "name": "stdout",
     "output_type": "stream",
     "text": [
      "getting df from /home/antonkulaga/.oakvar/modules/postaggregators/just_longevitymap/data/longevitymap.sqlite\n",
      "written to locations.longevity_map_text\n"
     ]
    },
    {
     "data": {
      "text/plain": "shape: (82, 9)\n┌────────────────────────────────────────────────┬────────────┬─────────────┬─────────────────────────────────────────────────────────────┬───┬──────────┬────────────────────────────────────┬───────────────────────────────────────────────────┬────────────────────────────────────────────────────────────────────────────────────────────────────────────────────────────────────────────────────────────────────────────────────────────────────────────────────────────────────────────────────────────────────────────────────────────────────────────────────────────────────────────────────────────────────────────────────────────────────────────────────────────────────────────────────────────────────────────────────────────────────────────────────────────────────────────────────────────────────────────────────────────────────────────────────────────────────────────────────────────────────────────────────────────────────────────────────────────────────────────────────────────────────────────────────────────────────────────────────────────────────────────────────────────────────────────────────────────────────────────────────────────────────────────────────────────────────────────────────────────┐\n│ id                                             ┆ identifier ┆ gene_symbol ┆ population                                                  ┆ … ┆ pubmed   ┆ doi                                ┆ source                                            ┆ text                                                                                                                                                                                                                                                                                                                                                                                                                                                                                                                                                                                                                                                                                                                                                                                                                                                                                                                                                                                       │\n│ ---                                            ┆ ---        ┆ ---         ┆ ---                                                         ┆   ┆ ---      ┆ ---                                ┆ ---                                               ┆ ---                                                                                                                                                                                                                                                                                                                                                                                                                                                                                                                                                                                                                                                                                                                                                                                                                                                                                                                                                                                        │\n│ str                                            ┆ str        ┆ str         ┆ str                                                         ┆   ┆ str      ┆ str                                ┆ str                                               ┆ str                                                                                                                                                                                                                                                                                                                                                                                                                                                                                                                                                                                                                                                                                                                                                                                                                                                                                                                                                                                        │\n╞════════════════════════════════════════════════╪════════════╪═════════════╪═════════════════════════════════════════════════════════════╪═══╪══════════╪════════════════════════════════════╪═══════════════════════════════════════════════════╪════════════════════════════════════════════════════════════════════════════════════════════════════════════════════════════════════════════════════════════════════════════════════════════════════════════════════════════════════════════════════════════════════════════════════════════════════════════════════════════════════════════════════════════════════════════════════════════════════════════════════════════════════════════════════════════════════════════════════════════════════════════════════════════════════════════════════════════════════════════════════════════════════════════════════════════════════════════════════════════════════════════════════════════════════════════════════════════════════════════════════════════════════════════════════════════════════════════════════════════════════════════════════════════════════════════════════════════════════════════════════════════════════════════════════════════════════════════════════════════╡\n│ HLA-DRB5_in_10.1111/j.1749-6632.1991.tb16970.x ┆ HLA-DRB5   ┆ HLA-DRB5    ┆ Dutch                                                       ┆ … ┆ 1859103  ┆ 10.1111/j.1749-6632.1991.tb16970.x ┆ http://doi.org/10.1111/j.1749-6632.1991.tb16970.x ┆ HLA-DRB5 variant in  major histocompatibility complex, class II, DR beta 5 (HLA-DRB5) with location 6p21.32 has non-significant association with longevity for male and femalein Dutch populationin a study conducted/published in 1991. The study had the following design 964 inhabitants aged 85 years and over and 2444 young controls, aged 20-35 years, with an identical ethnic and demographic background were examined. The study concludedWithout correcting for multiple testing, HLA-DR5 was higher in the group of 85 years and over, as compared to the control groupThe study was published with pubmed id1859103 with DOI http://doi.org/10.1111/j.1749-6632.1991.tb16970.x                                                                                                                                                                                                                                                                                                │\n│ HLA-B40_in_10.1111/j.1749-6632.1991.tb16970.x  ┆ HLA-B40    ┆ HLA-B       ┆ French                                                      ┆ … ┆ 1859103  ┆ 10.1111/j.1749-6632.1991.tb16970.x ┆ http://doi.org/10.1111/j.1749-6632.1991.tb16970.x ┆ HLA-B40 variant in  major histocompatibility complex, class I, B (HLA-B) with location 6p21.33 has non-significant association with longevity for male and femalein French populationin a study conducted/published in 1991. The study had the following design 964 inhabitants aged 85 years and over and 2444 young controls, aged 20-35 years, with an identical ethnic and demographic background were examined. The study concludedWithout correcting for multiple testing, HLA-B40 was lower in the group of 85 years and over, as compared to the control groupThe study was published with pubmed id1859103 with DOI http://doi.org/10.1111/j.1749-6632.1991.tb16970.x                                                                                                                                                                                                                                                                                                             │\n│ APOB_in_10.1161/01.atv.14.7.1084               ┆ APOB       ┆ APOB        ┆ Finnish                                                     ┆ … ┆ 8018664  ┆ 10.1161/01.atv.14.7.1084           ┆ http://doi.org/10.1161/01.atv.14.7.1084           ┆ APOB variant in  apolipoprotein B (APOB) with location 2p24.1 has non-significant association with longevity for male and femalein Finnish populationin a study conducted/published in 1994. The study had the following design The apolipoprotein B Xba I polymorphism was examined in 179 Finnish centenarians. The study concludedThe frequencies of the Xba I alleles among the centenarians and among the young Finns were not significantly differentThe study was published with pubmed id8018664 with DOI http://doi.org/10.1161/01.atv.14.7.1084                                                                                                                                                                                                                                                                                                                                                                                                                                  │\n│ APOC3_in_10.1161/01.atv.14.7.1084              ┆ APOC3      ┆ APOC3       ┆ Swedish                                                     ┆ … ┆ 8018664  ┆ 10.1161/01.atv.14.7.1084           ┆ http://doi.org/10.1161/01.atv.14.7.1084           ┆ APOC3 variant in  apolipoprotein C3 (APOC3) with location 11q23.3 has significant association with longevity for male and femalein Swedish populationin a study conducted/published in 1994. The study had the following design The Sst I polymorphism was examined in 179 Finnish centenarians. The study concludedThe S2 allele (Sst I restriction site present) occurred more often in the centenarians (frequency, 12.9%) than in the youngest reference population (frequency, 8.8%)The study was published with pubmed id8018664 with DOI http://doi.org/10.1161/01.atv.14.7.1084                                                                                                                                                                                                                                                                                                                                                                                                    │\n│ …                                              ┆ …          ┆ …           ┆ …                                                           ┆ … ┆ …        ┆ …                                  ┆ …                                                 ┆ …                                                                                                                                                                                                                                                                                                                                                                                                                                                                                                                                                                                                                                                                                                                                                                                                                                                                                                                                                                                          │\n│ rs2430561_in_10.1038/sj.gene.6363827           ┆ rs2430561  ┆ IFNG        ┆ American (Caucasian and African–American), Ashkenazi Jewish ┆ … ┆ 11857058 ┆ 10.1038/sj.gene.6363827            ┆ http://doi.org/10.1038/sj.gene.6363827            ┆ rs2430561 variant in  interferon gamma (IFNG) with location 12q15 has significant association with longevity for male and femalein American (Caucasian and African–American), Ashkenazi Jewish populationin a study conducted/published in 2002. The study had the following design The distribution of the 874T/A polymorphism was examined in 174 Italian centenarians (>99 years old, 142 women and 32 men) and 248 <60-year-old control subjects (90 women and 158 men). The study concludedThe +874T allele, known to be associated with low IFN-gamma production, was found less frequently in centenarian women than in centenarian men or in control women whereas no significant differences were observed in the distribution of the two alleles between male or female controls. Allele frequencies in centenarian men were not found significantly different from male controls.The study was published with pubmed id11857058 with DOI http://doi.org/10.1038/sj.gene.6363827 │\n│ rs1800896_in_10.1038/sj.gene.6363827           ┆ rs1800896  ┆ IL10        ┆ English (Oxford)                                            ┆ … ┆ 11857058 ┆ 10.1038/sj.gene.6363827            ┆ http://doi.org/10.1038/sj.gene.6363827            ┆ rs1800896 variant in  interleukin 10 (IL10) with location 1q32.1 has significant association with longevity for male and femalein English (Oxford) populationin a study conducted/published in 2002. The study had the following design The -1082G/A, -819C/T and -592C/A proximal promoter SNPs were examined in 190 centenarians (>99 years old, 159 women and 31 men) and in 260 control subjects (99 women and 161 men less than 60 years old). The study concludedThe -1082G homozygous genotype, associated with high IL-10 production, was increased in centenarian men but not in centenarian women. No difference was found between centenarians and control subjects regarding the other two SNPs.The study was published with pubmed id11857058 with DOI http://doi.org/10.1038/sj.gene.6363827                                                                                                                                                                                 │\n│ C282Y_in_10.1038/sj.gene.6363827               ┆ C282Y      ┆ HFE         ┆ American (Caucasian), French                                ┆ … ┆ 11857058 ┆ 10.1038/sj.gene.6363827            ┆ http://doi.org/10.1038/sj.gene.6363827            ┆ C282Y variant in  hemochromatosis (HFE) with location 6p22.2 has significant association with longevity for male and femalein American (Caucasian), French populationin a study conducted/published in 2002. The study had the following design C282Y, H63D and S65C polymorphisms were studied in 106 young controls (age range from 22 to 55 years; 40 men and 66 women) and 35 elderly subjects (age range from 91 to 105 years; seven men and 28 women). The study concludedA significant difference was observed only in women in frequencies of C282Y alleles between the young and the elderly subjects. Concerning H63D polymorphisms, no significant differences were observed, between old and young people.The study was published with pubmed id11857058 with DOI http://doi.org/10.1038/sj.gene.6363827                                                                                                                                                                       │\n│ FAS_in_10.1038/sj.cdd.4400964                  ┆ FAS        ┆ FAS         ┆ American (Caucasian and African-American)                   ┆ … ┆ 11965496 ┆ 10.1038/sj.cdd.4400964             ┆ http://doi.org/10.1038/sj.cdd.4400964             ┆ FAS variant in  Fas cell surface death receptor (FAS) with location 10q23.31 has non-significant association with longevity for male and femalein American (Caucasian and African-American) populationin a study conducted/published in 2002. The study had the following design The -670 and -1377 position SNPs were examined in 50 centenarians and 86 young controls. The study concludedGenotype and allele distribution for both polymorphisms were similar in controls and centenariansThe study was published with pubmed id11965496 with DOI http://doi.org/10.1038/sj.cdd.4400964                                                                                                                                                                                                                                                                                                                                                                                                │\n└────────────────────────────────────────────────┴────────────┴─────────────┴─────────────────────────────────────────────────────────────┴───┴──────────┴────────────────────────────────────┴───────────────────────────────────────────────────┴────────────────────────────────────────────────────────────────────────────────────────────────────────────────────────────────────────────────────────────────────────────────────────────────────────────────────────────────────────────────────────────────────────────────────────────────────────────────────────────────────────────────────────────────────────────────────────────────────────────────────────────────────────────────────────────────────────────────────────────────────────────────────────────────────────────────────────────────────────────────────────────────────────────────────────────────────────────────────────────────────────────────────────────────────────────────────────────────────────────────────────────────────────────────────────────────────────────────────────────────────────────────────────────────────────────────────────────────────────────────────────────────────────────────────────────────────────────────────────────┘",
      "text/html": "<div><style>\n.dataframe > thead > tr > th,\n.dataframe > tbody > tr > td {\n  text-align: right;\n}\n</style>\n<small>shape: (82, 9)</small><table border=\"1\" class=\"dataframe\"><thead><tr><th>id</th><th>identifier</th><th>gene_symbol</th><th>population</th><th>gender</th><th>pubmed</th><th>doi</th><th>source</th><th>text</th></tr><tr><td>str</td><td>str</td><td>str</td><td>str</td><td>str</td><td>str</td><td>str</td><td>str</td><td>str</td></tr></thead><tbody><tr><td>&quot;HLA-DRB5_in_10.1111/j.1749-6632.1991.tb16970.x&quot;</td><td>&quot;HLA-DRB5&quot;</td><td>&quot;HLA-DRB5&quot;</td><td>&quot;Dutch&quot;</td><td>&quot;male/female&quot;</td><td>&quot;1859103&quot;</td><td>&quot;10.1111/j.1749-6632.1991.tb16970.x&quot;</td><td>&quot;http://doi.org/10.1111/j.1749-6632.1991.tb16970.x&quot;</td><td>&quot;HLA-DRB5 variant in  major histocompatibility complex, class II, DR beta 5 (HLA-DRB5) with location 6p21.32 has non-significant association with longevity for male and femalein Dutch populationin a study conducted/published in 1991. The study had the following design 964 inhabitants aged 85 years and over and 2444 young controls, aged 20-35 years, with an identical ethnic and demographic background were examined. The study concludedWithout correcting for multiple testing, HLA-DR5 was higher in the group of 85 years and over, as compared to the control groupThe study was published with pubmed id1859103 with DOI http://doi.org/10.1111/j.1749-6632.1991.tb16970.x&quot;</td></tr><tr><td>&quot;HLA-B40_in_10.1111/j.1749-6632.1991.tb16970.x&quot;</td><td>&quot;HLA-B40&quot;</td><td>&quot;HLA-B&quot;</td><td>&quot;French&quot;</td><td>&quot;male/female&quot;</td><td>&quot;1859103&quot;</td><td>&quot;10.1111/j.1749-6632.1991.tb16970.x&quot;</td><td>&quot;http://doi.org/10.1111/j.1749-6632.1991.tb16970.x&quot;</td><td>&quot;HLA-B40 variant in  major histocompatibility complex, class I, B (HLA-B) with location 6p21.33 has non-significant association with longevity for male and femalein French populationin a study conducted/published in 1991. The study had the following design 964 inhabitants aged 85 years and over and 2444 young controls, aged 20-35 years, with an identical ethnic and demographic background were examined. The study concludedWithout correcting for multiple testing, HLA-B40 was lower in the group of 85 years and over, as compared to the control groupThe study was published with pubmed id1859103 with DOI http://doi.org/10.1111/j.1749-6632.1991.tb16970.x&quot;</td></tr><tr><td>&quot;APOB_in_10.1161/01.atv.14.7.1084&quot;</td><td>&quot;APOB&quot;</td><td>&quot;APOB&quot;</td><td>&quot;Finnish&quot;</td><td>&quot;male/female&quot;</td><td>&quot;8018664&quot;</td><td>&quot;10.1161/01.atv.14.7.1084&quot;</td><td>&quot;http://doi.org/10.1161/01.atv.14.7.1084&quot;</td><td>&quot;APOB variant in  apolipoprotein B (APOB) with location 2p24.1 has non-significant association with longevity for male and femalein Finnish populationin a study conducted/published in 1994. The study had the following design The apolipoprotein B Xba I polymorphism was examined in 179 Finnish centenarians. The study concludedThe frequencies of the Xba I alleles among the centenarians and among the young Finns were not significantly differentThe study was published with pubmed id8018664 with DOI http://doi.org/10.1161/01.atv.14.7.1084&quot;</td></tr><tr><td>&quot;APOC3_in_10.1161/01.atv.14.7.1084&quot;</td><td>&quot;APOC3&quot;</td><td>&quot;APOC3&quot;</td><td>&quot;Swedish&quot;</td><td>&quot;male/female&quot;</td><td>&quot;8018664&quot;</td><td>&quot;10.1161/01.atv.14.7.1084&quot;</td><td>&quot;http://doi.org/10.1161/01.atv.14.7.1084&quot;</td><td>&quot;APOC3 variant in  apolipoprotein C3 (APOC3) with location 11q23.3 has significant association with longevity for male and femalein Swedish populationin a study conducted/published in 1994. The study had the following design The Sst I polymorphism was examined in 179 Finnish centenarians. The study concludedThe S2 allele (Sst I restriction site present) occurred more often in the centenarians (frequency, 12.9%) than in the youngest reference population (frequency, 8.8%)The study was published with pubmed id8018664 with DOI http://doi.org/10.1161/01.atv.14.7.1084&quot;</td></tr><tr><td>&quot;rs7412_in_10.1161/01.atv.14.7.1084&quot;</td><td>&quot;rs7412&quot;</td><td>&quot;APOE&quot;</td><td>&quot;Italian&quot;</td><td>&quot;male/female&quot;</td><td>&quot;8018664&quot;</td><td>&quot;10.1161/01.atv.14.7.1084&quot;</td><td>&quot;http://doi.org/10.1161/01.atv.14.7.1084&quot;</td><td>&quot;rs7412 variant in  apolipoprotein E (APOE) with location 19q13.32 has significant association with longevity for male and femalein Italian populationin a study conducted/published in 1994. The study had the following design The common polymorphism of apolipoprotein E (E2, E3, and E4) was examined in 179 Finnish centenarians. The study concludedThe frequency of the E2 allele was higher and that of the E4 allele lower in the centenariansThe study was published with pubmed id8018664 with DOI http://doi.org/10.1161/01.atv.14.7.1084&quot;</td></tr><tr><td>&quot;rs1799752_in_10.1038/ng0194-29&quot;</td><td>&quot;rs1799752&quot;</td><td>&quot;ACE&quot;</td><td>&quot;English (Cambridge)&quot;</td><td>&quot;male/female&quot;</td><td>&quot;8136829&quot;</td><td>&quot;10.1038/ng0194-29&quot;</td><td>&quot;http://doi.org/10.1038/ng0194-29&quot;</td><td>&quot;rs1799752 variant in  angiotensin I converting enzyme (ACE) with location 17q23.3 has significant association with longevity for male and femalein English (Cambridge) populationin a study conducted/published in 1994. The study had the following design I/D polymorphism was examined in centenarians (n = 338) and in adults aged 20-70 years. The study concludedA variant of ACE which predisposes to coronary heart disease was more frequent in centenarians with a significant increase of the homozygous genotypeThe study was published with pubmed id8136829 with DOI http://doi.org/10.1038/ng0194-29&quot;</td></tr><tr><td>&quot;APOB_in_10.1016/0021-9150(94)90011-6&quot;</td><td>&quot;APOB&quot;</td><td>&quot;APOB&quot;</td><td>&quot;Danish&quot;</td><td>&quot;male/female&quot;</td><td>&quot;8155090&quot;</td><td>&quot;10.1016/0021-9150(94)90011-6&quot;</td><td>&quot;http://doi.org/10.1016/0021-9150(94)90011-6&quot;</td><td>&quot;APOB variant in  apolipoprotein B (APOB) with location 2p24.1 has significant association with longevity for male and femalein Danish populationin a study conducted/published in 1994. The study had the following design The apolipoprotein B EcoRI and Xba I polymorphisms were examined in Finnish nonagenarians. The study concludedThe frequency of the EcoRI allele R- was somewhat lower in the nonagenarians, particularly in women. The allele frequency for the Xba I polymorphism did not differ between the nonagenarians and the younger groups.The study was published with pubmed id8155090 with DOI http://doi.org/10.1016/0021-9150(94)90011-6&quot;</td></tr><tr><td>&quot;rs7412_in_10.1016/0021-9150(94)90011-6&quot;</td><td>&quot;rs7412&quot;</td><td>&quot;APOE&quot;</td><td>&quot;Spanish&quot;</td><td>&quot;male/female&quot;</td><td>&quot;8155090&quot;</td><td>&quot;10.1016/0021-9150(94)90011-6&quot;</td><td>&quot;http://doi.org/10.1016/0021-9150(94)90011-6&quot;</td><td>&quot;rs7412 variant in  apolipoprotein E (APOE) with location 19q13.32 has significant association with longevity for male and femalein Spanish populationin a study conducted/published in 1994. The study had the following design The common polymorphism of apolipoprotein E (E2, E3, and E4) was examined in Finnish nonagenarians. The study concludedThe frequency of the E4 allele was lower in the nonagenarians than in the middle-aged and young adultsThe study was published with pubmed id8155090 with DOI http://doi.org/10.1016/0021-9150(94)90011-6&quot;</td></tr><tr><td>&quot;rs7412_in_8403397&quot;</td><td>&quot;rs7412&quot;</td><td>&quot;APOE&quot;</td><td>&quot;English (Caucasian) and Nigerian&quot;</td><td>&quot;male/female&quot;</td><td>&quot;8403397&quot;</td><td>&quot;8403397&quot;</td><td>&quot;http://doi.org/8403397&quot;</td><td>&quot;rs7412 variant in  apolipoprotein E (APOE) with location 19q13.32 has significant association with longevity for male and femalein English (Caucasian) and Nigerian populationin a study conducted/published in 1993. The study had the following design Isoforms were examined in 407 healthy Swedish individuals, 244 men and 163 women, ages 17 to 86 years. The study concludedThe E4 frequency decreased with increasing age and was significantly lower in individuals &gt; 60 years of ageThe study was published with pubmed id8403397 with DOI http://doi.org/8403397&quot;</td></tr><tr><td>&quot;APOB_in_10.1007/s004390050364&quot;</td><td>&quot;APOB&quot;</td><td>&quot;APOB&quot;</td><td>&quot;Finnish, American, Mexican and Japanese&quot;</td><td>&quot;male/female&quot;</td><td>&quot;9050915&quot;</td><td>&quot;10.1007/s004390050364&quot;</td><td>&quot;http://doi.org/10.1007/s004390050364&quot;</td><td>&quot;APOB variant in  apolipoprotein B (APOB) with location 2p24.1 has significant association with longevity for male and femalein Finnish, American, Mexican and Japanese populationin a study conducted/published in 1997. The study had the following design A sample of 143 centenarians and a control sample of 158 individuals were examined for polymorphism in APOB restriction fragment length (RFLP) (XbaI2488 and EcoRI4154) and variable number of tandem repeat (VNTR) (3&#x27;APOB-VNTR) polymorphisms. The study concludedNeither the XbaI-RFLP nor the EcoRI-RFLP was able to discriminate between centenarians and controls, while the 3&#x27;APOB-VNTR multiallelic system revealed significant differences between the samples: the frequency of alleles with fewer than 35 repeats was lower in centenarians than in controlsThe study was published with pubmed id9050915 with DOI http://doi.org/10.1007/s004390050364&quot;</td></tr><tr><td>&quot;rs7412_in_10.1007/BF03324333&quot;</td><td>&quot;rs7412&quot;</td><td>&quot;APOE&quot;</td><td>&quot;Swiss&quot;</td><td>&quot;male/female&quot;</td><td>&quot;8541369&quot;</td><td>&quot;10.1007/BF03324333&quot;</td><td>&quot;http://doi.org/10.1007/BF03324333&quot;</td><td>&quot;rs7412 variant in  apolipoprotein E (APOE) with location 19q13.32 has non-significant association with longevity for male and femalein Swiss populationin a study conducted/published in 1995. The study had the following design APOE common polymorphism (E2, E3, and E4) was examined in a sample of 228 healthy Italian subjects (124 men and 104 women) aged 18-93. The study concludedThe frequency of E4 decreased with age and was not found in subjects aged 75 and olderThe study was published with pubmed id8541369 with DOI http://doi.org/10.1007/BF03324333&quot;</td></tr><tr><td>&quot;APOC1_in_10.1016/s0021-9150(96)06027-3&quot;</td><td>&quot;APOC1&quot;</td><td>&quot;APOC1&quot;</td><td>&quot;Italian (Northern)&quot;</td><td>&quot;male/female&quot;</td><td>&quot;9105559&quot;</td><td>&quot;10.1016/s0021-9150(96)06027-3&quot;</td><td>&quot;http://doi.org/10.1016/s0021-9150(96)06027-3&quot;</td><td>&quot;APOC1 variant in  apolipoprotein C1 (APOC1) with location 19q13.32 has significant association with longevity for male and femalein Italian (Northern) populationin a study conducted/published in 1997. The study had the following design Allele and genotype frequencies at Hpa1 RFLP were examined in 182 women and 100 men aged &gt;84 years and in 100 boys and 100 girls younger than 17 years. The study concludedAllele and genotype frequencies were significantly different in the elderly women compared to the younger sample. No difference was observed in the elderly men.The study was published with pubmed id9105559 with DOI http://doi.org/10.1016/s0021-9150(96)06027-3&quot;</td></tr><tr><td>&hellip;</td><td>&hellip;</td><td>&hellip;</td><td>&hellip;</td><td>&hellip;</td><td>&hellip;</td><td>&hellip;</td><td>&hellip;</td><td>&hellip;</td></tr><tr><td>&quot;-889C/T_in_10.1016/s0047-6374(01)00338-4&quot;</td><td>&quot;-889C/T&quot;</td><td>&quot;IL1A&quot;</td><td>&quot;Czechs (Bohemian), Americans (Baltimore Caucasians and African-Americans)&quot;</td><td>&quot;male/female&quot;</td><td>&quot;11640949&quot;</td><td>&quot;10.1016/s0047-6374(01)00338-4&quot;</td><td>&quot;http://doi.org/10.1016/s0047-6374(01)00338-4&quot;</td><td>&quot;-889C/T variant in  interleukin 1 alpha (IL1A) with location 2q14.1 has non-significant association with longevity for male and femalein Czechs (Bohemian), Americans (Baltimore Caucasians and African-Americans) populationin a study conducted/published in 2001. The study had the following design 250 (52 males and 198 females) nonagenarians and 400 healthy control group (18-60 years old) were examined for -889 SNP. The study concludedNo significant differences relative to longevity were foundThe study was published with pubmed id11640949 with DOI http://doi.org/10.1016/s0047-6374(01)00338-4&quot;</td></tr><tr><td>&quot;IL1RN_in_10.1016/s0047-6374(01)00338-4&quot;</td><td>&quot;IL1RN&quot;</td><td>&quot;IL1RN&quot;</td><td>&quot;Italian, Ashkenazi Jewish and Japanese&quot;</td><td>&quot;male/female&quot;</td><td>&quot;11640949&quot;</td><td>&quot;10.1016/s0047-6374(01)00338-4&quot;</td><td>&quot;http://doi.org/10.1016/s0047-6374(01)00338-4&quot;</td><td>&quot;IL1RN variant in  interleukin 1 receptor antagonist (IL1RN) with location 2q14.1 has non-significant association with longevity for male and femalein Italian, Ashkenazi Jewish and Japanese populationin a study conducted/published in 2001. The study had the following design 250 (52 males and 198 females) nonagenarians and 400 healthy control (18-60 years old) were examined for VNTR polymorphism in intron 2 (an 86 bp repeat sequence). The study concludedNo significant differences relative to longevity were foundThe study was published with pubmed id11640949 with DOI http://doi.org/10.1016/s0047-6374(01)00338-4&quot;</td></tr><tr><td>&quot;IL6_in_10.1016/s0047-6374(01)00338-4&quot;</td><td>&quot;IL6&quot;</td><td>&quot;IL6&quot;</td><td>&quot;American of Japanese origin&quot;</td><td>&quot;male/female&quot;</td><td>&quot;11640949&quot;</td><td>&quot;10.1016/s0047-6374(01)00338-4&quot;</td><td>&quot;http://doi.org/10.1016/s0047-6374(01)00338-4&quot;</td><td>&quot;IL6 variant in  interleukin 6 (IL6) with location 7p15.3 has non-significant association with longevity for male and femalein American of Japanese origin populationin a study conducted/published in 2001. The study had the following design 250 (52 males and 198 females) nonagenarians and 400 healthy control group (18-60 years old) were examined for -174, +3953 and -511 SNPs. The study concludedNo significant differences relative to longevity were foundThe study was published with pubmed id11640949 with DOI http://doi.org/10.1016/s0047-6374(01)00338-4&quot;</td></tr><tr><td>&quot;rs1800629_in_10.1016/s0047-6374(01)00338-4&quot;</td><td>&quot;rs1800629&quot;</td><td>&quot;TNF&quot;</td><td>&quot;European and American (Caucasian)&quot;</td><td>&quot;male/female&quot;</td><td>&quot;11640949&quot;</td><td>&quot;10.1016/s0047-6374(01)00338-4&quot;</td><td>&quot;http://doi.org/10.1016/s0047-6374(01)00338-4&quot;</td><td>&quot;rs1800629 variant in  tumor necrosis factor (TNF) with location 6p21.33 has non-significant association with longevity for male and femalein European and American (Caucasian) populationin a study conducted/published in 2001. The study had the following design 250 (52 males and 198 females) nonagenarians and 400 healthy control group (18-60 years old) were examined for -308 SNP. The study concludedNo significant differences relative to longevity were foundThe study was published with pubmed id11640949 with DOI http://doi.org/10.1016/s0047-6374(01)00338-4&quot;</td></tr><tr><td>&quot;IGF2_in_10.1016/s0531-5565(01)00146-2&quot;</td><td>&quot;IGF2&quot;</td><td>&quot;IGF2&quot;</td><td>&quot;American (Caucasians), Italian (Southern), French, Ashkenazi Jewish &quot;</td><td>&quot;male/female&quot;</td><td>&quot;11672987&quot;</td><td>&quot;10.1016/s0531-5565(01)00146-2&quot;</td><td>&quot;http://doi.org/10.1016/s0531-5565(01)00146-2&quot;</td><td>&quot;IGF2 variant in  insulin like growth factor 2 (IGF2) with location 11p15.5 has non-significant association with longevity for male and femalein American (Caucasians), Italian (Southern), French, Ashkenazi Jewish  populationin a study conducted/published in 2001. The study had the following design Exon 9 AvaII RFLP polymorphism was examined in 219 centenarians (72 males and 147 females) and 256 (controls 20-70 years, 119 males and 137 females). The study concludedNo significant difference between centenarians and controls was observedThe study was published with pubmed id11672987 with DOI http://doi.org/10.1016/s0531-5565(01)00146-2&quot;</td></tr><tr><td>&quot;FokI RFLP_in_10.1016/s0531-5565(01)00146-2&quot;</td><td>&quot;FokI RFLP&quot;</td><td>&quot;INS&quot;</td><td>&quot;Germany, Italian, Chinese (Han)&quot;</td><td>&quot;male/female&quot;</td><td>&quot;11672987&quot;</td><td>&quot;10.1016/s0531-5565(01)00146-2&quot;</td><td>&quot;http://doi.org/10.1016/s0531-5565(01)00146-2&quot;</td><td>&quot;FokI RFLP variant in  insulin (INS) with location 11p15.5 has non-significant association with longevity for male and femalein Germany, Italian, Chinese (Han) populationin a study conducted/published in 2001. The study had the following design FokI RFLP polymorphism was examined in 219 centenarians (72 males and 147 females) and 256 (controls 20-70 years, 119 males and 137 females). The study concludedNo significant difference between centenarians and controls was observedThe study was published with pubmed id11672987 with DOI http://doi.org/10.1016/s0531-5565(01)00146-2&quot;</td></tr><tr><td>&quot;BRCA1_in_10.1111/j.1749-6632.2001.tb05639.x&quot;</td><td>&quot;BRCA1&quot;</td><td>&quot;BRCA1&quot;</td><td>&quot;Italian (Northern) and Japanese&quot;</td><td>&quot;male/female&quot;</td><td>&quot;11795532&quot;</td><td>&quot;10.1111/j.1749-6632.2001.tb05639.x&quot;</td><td>&quot;http://doi.org/10.1111/j.1749-6632.2001.tb05639.x&quot;</td><td>&quot;BRCA1 variant in  BRCA1, DNA repair associated (BRCA1) with location 17q21.31 has non-significant association with longevity for male and femalein Italian (Northern) and Japanese populationin a study conducted/published in 2001. The study had the following design Polymorphisms were examined in 102 centenarians from the New England area and 84 centenarians from Italy. The control population consisted of 97 individuals from Italy.. The study concludedThe genotype a+a was more frequent in both centenarian groups compared to the control group whereas the genotype a+b was less frequent. The results however were not statistically significant.The study was published with pubmed id11795532 with DOI http://doi.org/10.1111/j.1749-6632.2001.tb05639.x&quot;</td></tr><tr><td>&quot;rs1799752_in_10.1093/gerona/57.1.m57&quot;</td><td>&quot;rs1799752&quot;</td><td>&quot;ACE&quot;</td><td>&quot;American (Caucasian), Ashkenazi Jewish&quot;</td><td>&quot;male/female&quot;</td><td>&quot;11773214&quot;</td><td>&quot;10.1093/gerona/57.1.m57&quot;</td><td>&quot;http://doi.org/10.1093/gerona/57.1.m57&quot;</td><td>&quot;rs1799752 variant in  angiotensin I converting enzyme (ACE) with location 17q23.3 has significant association with longevity for male and femalein American (Caucasian), Ashkenazi Jewish populationin a study conducted/published in 2002. The study had the following design I/D polymorphism was examined in 424 subjects comprising 227 Uighur individuals, 108 Kazakh individuals, and 89 Han individuals. All subjects in the latter two groups ranged in age from 65 to 70 years, whereas the Uighur subjects comprised two different age groups: those ranging in age from 59 to 70 years and those ranging in age from 90 to 113 years.. The study concludedWithin the Uighur group, frequency of the D allele was significantly higher in the group aged &gt;90 than in the group aged &lt;70. The overall distributions of alleles in the three groups did not differ significantly.The study was published with pubmed id11773214 with DOI http://doi.org/10.1093/gerona/57.1.m57&quot;</td></tr><tr><td>&quot;rs2430561_in_10.1038/sj.gene.6363827&quot;</td><td>&quot;rs2430561&quot;</td><td>&quot;IFNG&quot;</td><td>&quot;American (Caucasian and African–American), Ashkenazi Jewish&quot;</td><td>&quot;male/female&quot;</td><td>&quot;11857058&quot;</td><td>&quot;10.1038/sj.gene.6363827&quot;</td><td>&quot;http://doi.org/10.1038/sj.gene.6363827&quot;</td><td>&quot;rs2430561 variant in  interferon gamma (IFNG) with location 12q15 has significant association with longevity for male and femalein American (Caucasian and African–American), Ashkenazi Jewish populationin a study conducted/published in 2002. The study had the following design The distribution of the 874T/A polymorphism was examined in 174 Italian centenarians (&gt;99 years old, 142 women and 32 men) and 248 &lt;60-year-old control subjects (90 women and 158 men). The study concludedThe +874T allele, known to be associated with low IFN-gamma production, was found less frequently in centenarian women than in centenarian men or in control women whereas no significant differences were observed in the distribution of the two alleles between male or female controls. Allele frequencies in centenarian men were not found significantly different from male controls.The study was published with pubmed id11857058 with DOI http://doi.org/10.1038/sj.gene.6363827&quot;</td></tr><tr><td>&quot;rs1800896_in_10.1038/sj.gene.6363827&quot;</td><td>&quot;rs1800896&quot;</td><td>&quot;IL10&quot;</td><td>&quot;English (Oxford)&quot;</td><td>&quot;male/female&quot;</td><td>&quot;11857058&quot;</td><td>&quot;10.1038/sj.gene.6363827&quot;</td><td>&quot;http://doi.org/10.1038/sj.gene.6363827&quot;</td><td>&quot;rs1800896 variant in  interleukin 10 (IL10) with location 1q32.1 has significant association with longevity for male and femalein English (Oxford) populationin a study conducted/published in 2002. The study had the following design The -1082G/A, -819C/T and -592C/A proximal promoter SNPs were examined in 190 centenarians (&gt;99 years old, 159 women and 31 men) and in 260 control subjects (99 women and 161 men less than 60 years old). The study concludedThe -1082G homozygous genotype, associated with high IL-10 production, was increased in centenarian men but not in centenarian women. No difference was found between centenarians and control subjects regarding the other two SNPs.The study was published with pubmed id11857058 with DOI http://doi.org/10.1038/sj.gene.6363827&quot;</td></tr><tr><td>&quot;C282Y_in_10.1038/sj.gene.6363827&quot;</td><td>&quot;C282Y&quot;</td><td>&quot;HFE&quot;</td><td>&quot;American (Caucasian), French&quot;</td><td>&quot;male/female&quot;</td><td>&quot;11857058&quot;</td><td>&quot;10.1038/sj.gene.6363827&quot;</td><td>&quot;http://doi.org/10.1038/sj.gene.6363827&quot;</td><td>&quot;C282Y variant in  hemochromatosis (HFE) with location 6p22.2 has significant association with longevity for male and femalein American (Caucasian), French populationin a study conducted/published in 2002. The study had the following design C282Y, H63D and S65C polymorphisms were studied in 106 young controls (age range from 22 to 55 years; 40 men and 66 women) and 35 elderly subjects (age range from 91 to 105 years; seven men and 28 women). The study concludedA significant difference was observed only in women in frequencies of C282Y alleles between the young and the elderly subjects. Concerning H63D polymorphisms, no significant differences were observed, between old and young people.The study was published with pubmed id11857058 with DOI http://doi.org/10.1038/sj.gene.6363827&quot;</td></tr><tr><td>&quot;FAS_in_10.1038/sj.cdd.4400964&quot;</td><td>&quot;FAS&quot;</td><td>&quot;FAS&quot;</td><td>&quot;American (Caucasian and African-American)&quot;</td><td>&quot;male/female&quot;</td><td>&quot;11965496&quot;</td><td>&quot;10.1038/sj.cdd.4400964&quot;</td><td>&quot;http://doi.org/10.1038/sj.cdd.4400964&quot;</td><td>&quot;FAS variant in  Fas cell surface death receptor (FAS) with location 10q23.31 has non-significant association with longevity for male and femalein American (Caucasian and African-American) populationin a study conducted/published in 2002. The study had the following design The -670 and -1377 position SNPs were examined in 50 centenarians and 86 young controls. The study concludedGenotype and allele distribution for both polymorphisms were similar in controls and centenariansThe study was published with pubmed id11965496 with DOI http://doi.org/10.1038/sj.cdd.4400964&quot;</td></tr></tbody></table></div>"
     },
     "execution_count": 4,
     "metadata": {},
     "output_type": "execute_result"
    }
   ],
   "source": [
    "from genes.prepare import prepare_longevity\n",
    "long = prepare_longevity(locations)\n",
    "long"
   ],
   "metadata": {
    "collapsed": false
   }
  },
  {
   "cell_type": "code",
   "execution_count": 5,
   "outputs": [
    {
     "data": {
      "text/plain": "True"
     },
     "execution_count": 5,
     "metadata": {},
     "output_type": "execute_result"
    }
   ],
   "source": [
    "from dotenv import load_dotenv\n",
    "load_dotenv()"
   ],
   "metadata": {
    "collapsed": false
   }
  },
  {
   "cell_type": "markdown",
   "source": [
    "# Test"
   ],
   "metadata": {
    "collapsed": false
   }
  },
  {
   "cell_type": "markdown",
   "source": [
    "## LangChain ##"
   ],
   "metadata": {
    "collapsed": false
   }
  },
  {
   "cell_type": "code",
   "execution_count": 6,
   "outputs": [
    {
     "name": "stderr",
     "output_type": "stream",
     "text": [
      "Using embedded DuckDB with persistence: data will be stored in: /home/antonkulaga/sources/genes-gpt/data/index\n",
      "/home/antonkulaga/micromamba/envs/genes-gpt/lib/python3.10/site-packages/langchain/llms/openai.py:169: UserWarning: You are trying to use a chat model. This way of initializing it is no longer supported. Instead, please use: `from langchain.chat_models import ChatOpenAI`\n",
      "  warnings.warn(\n",
      "/home/antonkulaga/micromamba/envs/genes-gpt/lib/python3.10/site-packages/langchain/llms/openai.py:687: UserWarning: You are trying to use a chat model. This way of initializing it is no longer supported. Instead, please use: `from langchain.chat_models import ChatOpenAI`\n",
      "  warnings.warn(\n"
     ]
    },
    {
     "data": {
      "text/plain": "<genes.indexing.Index at 0x7f7370392f80>"
     },
     "execution_count": 6,
     "metadata": {},
     "output_type": "execute_result"
    }
   ],
   "source": [
    "from genes.indexing import *\n",
    "index = Index(locations)\n",
    "index"
   ],
   "metadata": {
    "collapsed": false
   }
  },
  {
   "cell_type": "code",
   "execution_count": 7,
   "outputs": [
    {
     "name": "stdout",
     "output_type": "stream",
     "text": [
      "detected text for the following modules [PosixPath('/home/antonkulaga/sources/genes-gpt/data/modules/texts/longevity_map_text.tsv')]\n",
      "indexing 1 modules\n",
      "module indexing finished!\n",
      "ADD TEXT: HLA-DRB5 variant in  major histocompatibility complex, class II, DR beta 5 (HLA-DRB5) with location 6p21.32 has non-significant association with longevity for male and femalein Dutch populationin a study conducted/published in 1991. The study had the following design 964 inhabitants aged 85 years and over and 2444 young controls, aged 20-35 years, with an identical ethnic and demographic background were examined. The study concludedWithout correcting for multiple testing, HLA-DR5 was higher in the group of 85 years and over, as compared to the control groupThe study was published with pubmed id1859103 with DOI http://doi.org/10.1111/j.1749-6632.1991.tb16970.x\n",
      "f ADD METADATA {'id': 'HLA-DRB5_in_10.1111/j.1749-6632.1991.tb16970.x', 'identifier': 'HLA-DRB5', 'gene_symbol': 'HLA-DRB5', 'population': 'Dutch', 'gender': 'male/female', 'pubmed': 1859103, 'doi': '10.1111/j.1749-6632.1991.tb16970.x', 'source': 'http://doi.org/10.1111/j.1749-6632.1991.tb16970.x'}\n",
      "ADD TEXT: HLA-B40 variant in  major histocompatibility complex, class I, B (HLA-B) with location 6p21.33 has non-significant association with longevity for male and femalein French populationin a study conducted/published in 1991. The study had the following design 964 inhabitants aged 85 years and over and 2444 young controls, aged 20-35 years, with an identical ethnic and demographic background were examined. The study concludedWithout correcting for multiple testing, HLA-B40 was lower in the group of 85 years and over, as compared to the control groupThe study was published with pubmed id1859103 with DOI http://doi.org/10.1111/j.1749-6632.1991.tb16970.x\n",
      "f ADD METADATA {'id': 'HLA-B40_in_10.1111/j.1749-6632.1991.tb16970.x', 'identifier': 'HLA-B40', 'gene_symbol': 'HLA-B', 'population': 'French', 'gender': 'male/female', 'pubmed': 1859103, 'doi': '10.1111/j.1749-6632.1991.tb16970.x', 'source': 'http://doi.org/10.1111/j.1749-6632.1991.tb16970.x'}\n",
      "ADD TEXT: APOB variant in  apolipoprotein B (APOB) with location 2p24.1 has non-significant association with longevity for male and femalein Finnish populationin a study conducted/published in 1994. The study had the following design The apolipoprotein B Xba I polymorphism was examined in 179 Finnish centenarians. The study concludedThe frequencies of the Xba I alleles among the centenarians and among the young Finns were not significantly differentThe study was published with pubmed id8018664 with DOI http://doi.org/10.1161/01.atv.14.7.1084\n",
      "f ADD METADATA {'id': 'APOB_in_10.1161/01.atv.14.7.1084', 'identifier': 'APOB', 'gene_symbol': 'APOB', 'population': 'Finnish', 'gender': 'male/female', 'pubmed': 8018664, 'doi': '10.1161/01.atv.14.7.1084', 'source': 'http://doi.org/10.1161/01.atv.14.7.1084'}\n",
      "ADD TEXT: APOC3 variant in  apolipoprotein C3 (APOC3) with location 11q23.3 has significant association with longevity for male and femalein Swedish populationin a study conducted/published in 1994. The study had the following design The Sst I polymorphism was examined in 179 Finnish centenarians. The study concludedThe S2 allele (Sst I restriction site present) occurred more often in the centenarians (frequency, 12.9%) than in the youngest reference population (frequency, 8.8%)The study was published with pubmed id8018664 with DOI http://doi.org/10.1161/01.atv.14.7.1084\n",
      "f ADD METADATA {'id': 'APOC3_in_10.1161/01.atv.14.7.1084', 'identifier': 'APOC3', 'gene_symbol': 'APOC3', 'population': 'Swedish', 'gender': 'male/female', 'pubmed': 8018664, 'doi': '10.1161/01.atv.14.7.1084', 'source': 'http://doi.org/10.1161/01.atv.14.7.1084'}\n",
      "ADD TEXT: rs7412 variant in  apolipoprotein E (APOE) with location 19q13.32 has significant association with longevity for male and femalein Italian populationin a study conducted/published in 1994. The study had the following design The common polymorphism of apolipoprotein E (E2, E3, and E4) was examined in 179 Finnish centenarians. The study concludedThe frequency of the E2 allele was higher and that of the E4 allele lower in the centenariansThe study was published with pubmed id8018664 with DOI http://doi.org/10.1161/01.atv.14.7.1084\n",
      "f ADD METADATA {'id': 'rs7412_in_10.1161/01.atv.14.7.1084', 'identifier': 'rs7412', 'gene_symbol': 'APOE', 'population': 'Italian', 'gender': 'male/female', 'pubmed': 8018664, 'doi': '10.1161/01.atv.14.7.1084', 'source': 'http://doi.org/10.1161/01.atv.14.7.1084'}\n",
      "ADD TEXT: rs1799752 variant in  angiotensin I converting enzyme (ACE) with location 17q23.3 has significant association with longevity for male and femalein English (Cambridge) populationin a study conducted/published in 1994. The study had the following design I/D polymorphism was examined in centenarians (n = 338) and in adults aged 20-70 years. The study concludedA variant of ACE which predisposes to coronary heart disease was more frequent in centenarians with a significant increase of the homozygous genotypeThe study was published with pubmed id8136829 with DOI http://doi.org/10.1038/ng0194-29\n",
      "f ADD METADATA {'id': 'rs1799752_in_10.1038/ng0194-29', 'identifier': 'rs1799752', 'gene_symbol': 'ACE', 'population': 'English (Cambridge)', 'gender': 'male/female', 'pubmed': 8136829, 'doi': '10.1038/ng0194-29', 'source': 'http://doi.org/10.1038/ng0194-29'}\n",
      "ADD TEXT: APOB variant in  apolipoprotein B (APOB) with location 2p24.1 has significant association with longevity for male and femalein Danish populationin a study conducted/published in 1994. The study had the following design The apolipoprotein B EcoRI and Xba I polymorphisms were examined in Finnish nonagenarians. The study concludedThe frequency of the EcoRI allele R- was somewhat lower in the nonagenarians, particularly in women. The allele frequency for the Xba I polymorphism did not differ between the nonagenarians and the younger groups.The study was published with pubmed id8155090 with DOI http://doi.org/10.1016/0021-9150(94)90011-6\n",
      "f ADD METADATA {'id': 'APOB_in_10.1016/0021-9150(94)90011-6', 'identifier': 'APOB', 'gene_symbol': 'APOB', 'population': 'Danish', 'gender': 'male/female', 'pubmed': 8155090, 'doi': '10.1016/0021-9150(94)90011-6', 'source': 'http://doi.org/10.1016/0021-9150(94)90011-6'}\n",
      "ADD TEXT: rs7412 variant in  apolipoprotein E (APOE) with location 19q13.32 has significant association with longevity for male and femalein Spanish populationin a study conducted/published in 1994. The study had the following design The common polymorphism of apolipoprotein E (E2, E3, and E4) was examined in Finnish nonagenarians. The study concludedThe frequency of the E4 allele was lower in the nonagenarians than in the middle-aged and young adultsThe study was published with pubmed id8155090 with DOI http://doi.org/10.1016/0021-9150(94)90011-6\n",
      "f ADD METADATA {'id': 'rs7412_in_10.1016/0021-9150(94)90011-6', 'identifier': 'rs7412', 'gene_symbol': 'APOE', 'population': 'Spanish', 'gender': 'male/female', 'pubmed': 8155090, 'doi': '10.1016/0021-9150(94)90011-6', 'source': 'http://doi.org/10.1016/0021-9150(94)90011-6'}\n",
      "ADD TEXT: rs7412 variant in  apolipoprotein E (APOE) with location 19q13.32 has significant association with longevity for male and femalein English (Caucasian) and Nigerian populationin a study conducted/published in 1993. The study had the following design Isoforms were examined in 407 healthy Swedish individuals, 244 men and 163 women, ages 17 to 86 years. The study concludedThe E4 frequency decreased with increasing age and was significantly lower in individuals > 60 years of ageThe study was published with pubmed id8403397 with DOI http://doi.org/8403397\n",
      "f ADD METADATA {'id': 'rs7412_in_8403397', 'identifier': 'rs7412', 'gene_symbol': 'APOE', 'population': 'English (Caucasian) and Nigerian', 'gender': 'male/female', 'pubmed': 8403397, 'doi': '8403397', 'source': 'http://doi.org/8403397'}\n",
      "ADD TEXT: APOB variant in  apolipoprotein B (APOB) with location 2p24.1 has significant association with longevity for male and femalein Finnish, American, Mexican and Japanese populationin a study conducted/published in 1997. The study had the following design A sample of 143 centenarians and a control sample of 158 individuals were examined for polymorphism in APOB restriction fragment length (RFLP) (XbaI2488 and EcoRI4154) and variable number of tandem repeat (VNTR) (3'APOB-VNTR) polymorphisms. The study concludedNeither the XbaI-RFLP nor the EcoRI-RFLP was able to discriminate between centenarians and controls, while the 3'APOB-VNTR multiallelic system revealed significant differences between the samples: the frequency of alleles with fewer than 35 repeats was lower in centenarians than in controlsThe study was published with pubmed id9050915 with DOI http://doi.org/10.1007/s004390050364\n",
      "f ADD METADATA {'id': 'APOB_in_10.1007/s004390050364', 'identifier': 'APOB', 'gene_symbol': 'APOB', 'population': 'Finnish, American, Mexican and Japanese', 'gender': 'male/female', 'pubmed': 9050915, 'doi': '10.1007/s004390050364', 'source': 'http://doi.org/10.1007/s004390050364'}\n",
      "ADD TEXT: rs7412 variant in  apolipoprotein E (APOE) with location 19q13.32 has non-significant association with longevity for male and femalein Swiss populationin a study conducted/published in 1995. The study had the following design APOE common polymorphism (E2, E3, and E4) was examined in a sample of 228 healthy Italian subjects (124 men and 104 women) aged 18-93. The study concludedThe frequency of E4 decreased with age and was not found in subjects aged 75 and olderThe study was published with pubmed id8541369 with DOI http://doi.org/10.1007/BF03324333\n",
      "f ADD METADATA {'id': 'rs7412_in_10.1007/BF03324333', 'identifier': 'rs7412', 'gene_symbol': 'APOE', 'population': 'Swiss', 'gender': 'male/female', 'pubmed': 8541369, 'doi': '10.1007/BF03324333', 'source': 'http://doi.org/10.1007/BF03324333'}\n",
      "ADD TEXT: APOC1 variant in  apolipoprotein C1 (APOC1) with location 19q13.32 has significant association with longevity for male and femalein Italian (Northern) populationin a study conducted/published in 1997. The study had the following design Allele and genotype frequencies at Hpa1 RFLP were examined in 182 women and 100 men aged >84 years and in 100 boys and 100 girls younger than 17 years. The study concludedAllele and genotype frequencies were significantly different in the elderly women compared to the younger sample. No difference was observed in the elderly men.The study was published with pubmed id9105559 with DOI http://doi.org/10.1016/s0021-9150(96)06027-3\n",
      "f ADD METADATA {'id': 'APOC1_in_10.1016/s0021-9150(96)06027-3', 'identifier': 'APOC1', 'gene_symbol': 'APOC1', 'population': 'Italian (Northern)', 'gender': 'male/female', 'pubmed': 9105559, 'doi': '10.1016/s0021-9150(96)06027-3', 'source': 'http://doi.org/10.1016/s0021-9150(96)06027-3'}\n",
      "ADD TEXT: rs1799752 variant in  angiotensin I converting enzyme (ACE) with location 17q23.3 has significant association with longevity for male and femalein Russian populationin a study conducted/published in 1997. The study had the following design I/D polymorphism was examined in 182 women and 100 men aged >84 years and in 100 boys and 100 girls younger than 17 years. The study concludedThe I/I polymorphism was depleted in the elderly males but not in the elderly females. Furthermore, significant differences were observed between ACE genotypes in elderly men and elderly women.The study was published with pubmed id9105559 with DOI http://doi.org/10.1016/s0021-9150(96)06027-3\n",
      "f ADD METADATA {'id': 'rs1799752_in_10.1016/s0021-9150(96)06027-3', 'identifier': 'rs1799752', 'gene_symbol': 'ACE', 'population': 'Russian', 'gender': 'male/female', 'pubmed': 9105559, 'doi': '10.1016/s0021-9150(96)06027-3', 'source': 'http://doi.org/10.1016/s0021-9150(96)06027-3'}\n",
      "ADD TEXT: rs7412 variant in  apolipoprotein E (APOE) with location 19q13.32 has non-significant association with longevity for male and femalein German  populationin a study conducted/published in 1997. The study had the following design Common polymorphism was examined in 182 women and 100 men aged > 84 years and in 100 boys and 100 girls younger than 17 years. The study concludedDifference between genotypes in the elderly women and the young sample was observed. However, this did not retain significance when the genotype frequencies of the young sample were adjusted to values expected from the allele frequencies on the basis of Hardy-Weinberg equilibrium and compared to observed genotypes in elderly men and women.The study was published with pubmed id9105559 with DOI http://doi.org/10.1016/s0021-9150(96)06027-3\n",
      "f ADD METADATA {'id': 'rs7412_in_10.1016/s0021-9150(96)06027-3', 'identifier': 'rs7412', 'gene_symbol': 'APOE', 'population': 'German ', 'gender': 'male/female', 'pubmed': 9105559, 'doi': '10.1016/s0021-9150(96)06027-3', 'source': 'http://doi.org/10.1016/s0021-9150(96)06027-3'}\n",
      "ADD TEXT: rs1801133 variant in  methylenetetrahydrofolate reductase (MTHFR) with location 1p36.22 has non-significant association with longevity for male and femalein Chinese (Uighur, Kazakh and Han in Xinjiang) populationin a study conducted/published in 1997. The study had the following design The 677C/T SNP was examined in 182 women and 100 men aged > 84 years and in 100 boys and 100 girls younger than 17 years. The study concludedMTHFR allele and genotype frequencies were similar in the elderly and young populationsThe study was published with pubmed id9105559 with DOI http://doi.org/10.1016/s0021-9150(96)06027-3\n",
      "f ADD METADATA {'id': 'rs1801133_in_10.1016/s0021-9150(96)06027-3', 'identifier': 'rs1801133', 'gene_symbol': 'MTHFR', 'population': 'Chinese (Uighur, Kazakh and Han in Xinjiang)', 'gender': 'male/female', 'pubmed': 9105559, 'doi': '10.1016/s0021-9150(96)06027-3', 'source': 'http://doi.org/10.1016/s0021-9150(96)06027-3'}\n",
      "ADD TEXT: R353Q variant in  coagulation factor VII (F7) with location 13q34 has non-significant association with longevity for male and femalein American (Caucasian) populationin a study conducted/published in 1997. The study had the following design The R353Q substitution polymorphism in exon 8 was examined in 124 healthy individuals over 100 years of age and 130 young, healthy individuals. The study concludedNo significant differences relative to longevity were foundThe study was published with pubmed id9108791 with DOI http://doi.org/10.1161/01.atv.17.4.755\n",
      "f ADD METADATA {'id': 'R353Q_in_10.1161/01.atv.17.4.755', 'identifier': 'R353Q', 'gene_symbol': 'F7', 'population': 'American (Caucasian)', 'gender': 'male/female', 'pubmed': 9108791, 'doi': '10.1161/01.atv.17.4.755', 'source': 'http://doi.org/10.1161/01.atv.17.4.755'}\n",
      "ADD TEXT: rs1800790 variant in  fibrinogen beta chain (FGB) with location 4q31.3 has non-significant association with longevity for male and femalein Chinese (Uighur in Xinjiang) populationin a study conducted/published in 1997. The study had the following design The G/A-455 SNP was examined in 124 healthy individuals over 100 years old and 130 young, healthy individuals. The study concludedAlleles and genotypes were found with similar frequencies in centenarians and in the control groupThe study was published with pubmed id9108791 with DOI http://doi.org/10.1161/01.atv.17.4.755\n",
      "f ADD METADATA {'id': 'rs1800790_in_10.1161/01.atv.17.4.755', 'identifier': 'rs1800790', 'gene_symbol': 'FGB', 'population': 'Chinese (Uighur in Xinjiang)', 'gender': 'male/female', 'pubmed': 9108791, 'doi': '10.1161/01.atv.17.4.755', 'source': 'http://doi.org/10.1161/01.atv.17.4.755'}\n",
      "ADD TEXT: rs1799889 variant in  serpin family E member 1 (SERPINE1) with location 7q22.1 has significant association with longevity for male and femalein Italian (Sicily) populationin a study conducted/published in 1997. The study had the following design The 1-bp guanine deletion/insertion (4G/5G) polymorphism in the promoter region was examined in 124 healthy individuals >100 years old and 130 young, healthy individuals. The study concludedIn centenarians there was a significantly higher frequency of the 4G allele and of the homozygous 4G4G genotype associated with high PAI-1 (SERPINE1) levelsThe study was published with pubmed id9108791 with DOI http://doi.org/10.1161/01.atv.17.4.755\n",
      "f ADD METADATA {'id': 'rs1799889_in_10.1161/01.atv.17.4.755', 'identifier': 'rs1799889', 'gene_symbol': 'SERPINE1', 'population': 'Italian (Sicily)', 'gender': 'male/female', 'pubmed': 9108791, 'doi': '10.1161/01.atv.17.4.755', 'source': 'http://doi.org/10.1161/01.atv.17.4.755'}\n",
      "ADD TEXT: rs1799752 variant in  angiotensin I converting enzyme (ACE) with location 17q23.3 has non-significant association with longevity for male and femalein American (Caucasians) and Italian populationin a study conducted/published in 1997. The study had the following design ACE (I/D) polymorphism was examined in 10,150 subjects from 20 to >80 years-old. The study concludedThe relative frequency of the D allele did not change as a function of ageThe study was published with pubmed id9170397 with DOI http://doi.org/10.1161/01.cir.95.10.2358\n",
      "f ADD METADATA {'id': 'rs1799752_in_10.1161/01.cir.95.10.2358', 'identifier': 'rs1799752', 'gene_symbol': 'ACE', 'population': 'American (Caucasians) and Italian', 'gender': 'male/female', 'pubmed': 9170397, 'doi': '10.1161/01.cir.95.10.2358', 'source': 'http://doi.org/10.1161/01.cir.95.10.2358'}\n",
      "ADD TEXT: CYP2D6 variant in  cytochrome P450 family 2 subfamily D member 6 (CYP2D6) with location 22q13.2 has non-significant association with longevity for male and femalein Polish populationin a study conducted/published in 1997. The study had the following design The enzymatic polymorphism was examined in 41 nonagenarians (10 males, mean age 92.2 years, range 90-98) free of known malignancies or neurodegenerative diseases and in control groups comprised of 217 healthy volunteers (128 males, mean age 36.3 years). The study concludedNo association with longevity was foundThe study was published with pubmed id9177672 with DOI http://doi.org/10.1093/ageing/26.2.147\n",
      "f ADD METADATA {'id': 'CYP2D6_in_10.1093/ageing/26.2.147', 'identifier': 'CYP2D6', 'gene_symbol': 'CYP2D6', 'population': 'Polish', 'gender': 'male/female', 'pubmed': 9177672, 'doi': '10.1093/ageing/26.2.147', 'source': 'http://doi.org/10.1093/ageing/26.2.147'}\n",
      "ADD TEXT: CYP2E1 variant in  cytochrome P450 family 2 subfamily E member 1 (CYP2E1) with location 10q26.3 has non-significant association with longevity for male and femalein Chinese populationin a study conducted/published in 1997. The study had the following design The enzymatic polymorphism was examined in 41 nonagenarians (10 males, mean age 92.2 years, range 90-98) free of known malignancies or neurodegenerative diseases and in control groups comprised of 137 (116 males, mean age 32 years). The study concludedNo association with longevity was foundThe study was published with pubmed id9177672 with DOI http://doi.org/10.1093/ageing/26.2.147\n",
      "f ADD METADATA {'id': 'CYP2E1_in_10.1093/ageing/26.2.147', 'identifier': 'CYP2E1', 'gene_symbol': 'CYP2E1', 'population': 'Chinese', 'gender': 'male/female', 'pubmed': 9177672, 'doi': '10.1093/ageing/26.2.147', 'source': 'http://doi.org/10.1093/ageing/26.2.147'}\n",
      "ADD TEXT: NAT2 variant in  N-acetyltransferase 2 (NAT2) with location 8p22 has non-significant association with longevity for male and femalein Italian (Southern) populationin a study conducted/published in 1997. The study had the following design The enzymatic polymorphism was examined in 41 nonagenarians (10 males, mean age 92.2 years, range 90-98) free of known malignancies or neurodegenerative diseases and in control groups comprised of 217 healthy volunteers (128 males, mean age 36.3 years). The study concludedNo association with longevity was foundThe study was published with pubmed id9177672 with DOI http://doi.org/10.1093/ageing/26.2.147\n",
      "f ADD METADATA {'id': 'NAT2_in_10.1093/ageing/26.2.147', 'identifier': 'NAT2', 'gene_symbol': 'NAT2', 'population': 'Italian (Southern)', 'gender': 'male/female', 'pubmed': 9177672, 'doi': '10.1093/ageing/26.2.147', 'source': 'http://doi.org/10.1093/ageing/26.2.147'}\n",
      "ADD TEXT: HLA-DRB1 variant in  major histocompatibility complex, class II, DR beta 1 (HLA-DRB1) with location 6p21.32 has significant association with longevity for male and femalein Brazilian populationin a study conducted/published in 1998. The study had the following design The longevous groups included two independent cohorts totalling 533 centenarians and 163 nonagenarian siblings. Control group included 2950 subjects.. The study concludedDR7 frequency was elevated in longevous men and DR13 frequency was increased in centenarians. DR11's influence on longevity displayed a significant interaction with sex, with an increase in women from longevous sibships. HLA-DR homozygotes were more frequent in centenarians than in controls.The study was published with pubmed id9425225 with DOI http://doi.org/10.1093/hmg/7.2.187\n",
      "f ADD METADATA {'id': 'HLA-DRB1_in_10.1093/hmg/7.2.187', 'identifier': 'HLA-DRB1', 'gene_symbol': 'HLA-DRB1', 'population': 'Brazilian', 'gender': 'male/female', 'pubmed': 9425225, 'doi': '10.1093/hmg/7.2.187', 'source': 'http://doi.org/10.1093/hmg/7.2.187'}\n",
      "ADD TEXT: APOA4 variant in  apolipoprotein A4 (APOA4) with location 11q23.3 has non-significant association with longevity for male and femalein Japanese populationin a study conducted/published in 1998. The study had the following design Glutamine (CAG) to histidine (CAT) substitution at codon 360 was examined in 120 Alzheimer patients (88 females, 32 males) and 119 presumed-healthy elderly subjects (62 females, 57 males). The study concludedThe frequency of apoAIV alleles was not significantly different between Alzheimer patients and the elderly control group. However, in both groups, apoAIV (360:His) allele frequency was higher than in the general population.The study was published with pubmed id9533408 with DOI http://doi.org/10.1016/s0304-3940(98)00025-1\n",
      "f ADD METADATA {'id': 'APOA4_in_10.1016/s0304-3940(98)00025-1', 'identifier': 'APOA4', 'gene_symbol': 'APOA4', 'population': 'Japanese', 'gender': 'male/female', 'pubmed': 9533408, 'doi': '10.1016/s0304-3940(98)00025-1', 'source': 'http://doi.org/10.1016/s0304-3940(98)00025-1'}\n",
      "ADD TEXT: GSTM1 variant in  glutathione S-transferase mu 1 (GSTM1) with location 1p13.3 has non-significant association with longevity for male and femalein Korean populationin a study conducted/published in 1998. The study had the following design The GSTM1 deletion was examined in 552 centenarians and 243 controls aged 20-70 years. The study concludedNo significant difference was found between centenarian and control subjectsThe study was published with pubmed id9654200 with DOI http://doi.org/10.1007/s004390050735\n",
      "f ADD METADATA {'id': 'GSTM1_in_10.1007/s004390050735', 'identifier': 'GSTM1', 'gene_symbol': 'GSTM1', 'population': 'Korean', 'gender': 'male/female', 'pubmed': 9654200, 'doi': '10.1007/s004390050735', 'source': 'http://doi.org/10.1007/s004390050735'}\n",
      "ADD TEXT: 638G/A variant in  sulfotransferase family 1A member 1 (SULT1A1) with location 16p11.2 has significant association with longevity for male and femalein Italian (Northern and Central) populationin a study conducted/published in 1999. The study had the following design 638G/A (Arg 213 to His) SNP was examined in Caucasian (n=293; 12-99 years old) and African (Nigerian, n=52) populations. The study concludedA significant age-related difference in genotype was observed within Caucasian population, with increasing incidence of SULT1A11 homozygosity and decreasing incidence of SULT1A12 homozygosity with increasing ageThe study was published with pubmed id9854023 with DOI http://doi.org/9854023\n",
      "f ADD METADATA {'id': '638G/A_in_9854023', 'identifier': '638G/A', 'gene_symbol': 'SULT1A1', 'population': 'Italian (Northern and Central)', 'gender': 'male/female', 'pubmed': 9854023, 'doi': '9854023', 'source': 'http://doi.org/9854023'}\n",
      "ADD TEXT: PARP1 variant in  poly(ADP-ribose) polymerase 1 (PARP1) with location 1q42.12 has non-significant association with longevity for male and femalein Italian (Nothern and Central) populationin a study conducted/published in 1998. The study had the following design Polymorphic repeats in exon 1 were examined in 196 centenarians (143 females and 53 males) and 358 controls (196 females and 162 male; 10-85 years old). The study concludedNo significant difference in genotypic frequencies was found between centenarians and controlsThe study was published with pubmed id9887369 with DOI http://doi.org/10.1038/sj.ejhg.5200222\n",
      "f ADD METADATA {'id': 'PARP1_in_10.1038/sj.ejhg.5200222', 'identifier': 'PARP1', 'gene_symbol': 'PARP1', 'population': 'Italian (Nothern and Central)', 'gender': 'male/female', 'pubmed': 9887369, 'doi': '10.1038/sj.ejhg.5200222', 'source': 'http://doi.org/10.1038/sj.ejhg.5200222'}\n",
      "ADD TEXT: REN variant in  renin (REN) with location 1q32.1 has non-significant association with longevity for male and femalein Irish populationin a study conducted/published in 1998. The study had the following design Polymorphic repeats in intron 7 (Short and Long alleles) were examined in 196 centenarians (143 females and 53 males) and 358 controls (196 females and 162 male; 10-85 years old). The study concludedNo significant difference in genotypic frequencies was found between centenarians and controlsThe study was published with pubmed id9887369 with DOI http://doi.org/10.1038/sj.ejhg.5200222\n",
      "f ADD METADATA {'id': 'REN_in_10.1038/sj.ejhg.5200222', 'identifier': 'REN', 'gene_symbol': 'REN', 'population': 'Irish', 'gender': 'male/female', 'pubmed': 9887369, 'doi': '10.1038/sj.ejhg.5200222', 'source': 'http://doi.org/10.1038/sj.ejhg.5200222'}\n",
      "ADD TEXT: TH variant in  tyrosine hydroxylase (TH) with location 11p15.5 has significant association with longevity for male and femalein Irish (Belfast) populationin a study conducted/published in 1998. The study had the following design Polymorphic repeats in intron 1 (Short and Long alleles) were examined in 196 centenarians (143 females and 53 males) and 358 controls (196 females and 162 male; 10-85 years old). The study concludedA significant loss of LL homozygous genotypes was found at the THO locus in male but not in female centenarians with respect to matched controlsThe study was published with pubmed id9887369 with DOI http://doi.org/10.1038/sj.ejhg.5200222\n",
      "f ADD METADATA {'id': 'TH_in_10.1038/sj.ejhg.5200222', 'identifier': 'TH', 'gene_symbol': 'TH', 'population': 'Irish (Belfast)', 'gender': 'male/female', 'pubmed': 9887369, 'doi': '10.1038/sj.ejhg.5200222', 'source': 'http://doi.org/10.1038/sj.ejhg.5200222'}\n",
      "ADD TEXT: 401C/T variant in  superoxide dismutase 2 (SOD2) with location 6q25.3 has non-significant association with longevity for male and femalein Italian, French and Danish populationin a study conducted/published in 1998. The study had the following design 401C/T SNP was examined in 196 centenarians (143 females and 53 males) and 358 controls (196 females and 162 male; 10-85 years old). The study concludedNo significant difference in genotypic frequencies was found between centenarians and controlsThe study was published with pubmed id9887369 with DOI http://doi.org/10.1038/sj.ejhg.5200222\n",
      "f ADD METADATA {'id': '401C/T_in_10.1038/sj.ejhg.5200222', 'identifier': '401C/T', 'gene_symbol': 'SOD2', 'population': 'Italian, French and Danish', 'gender': 'male/female', 'pubmed': 9887369, 'doi': '10.1038/sj.ejhg.5200222', 'source': 'http://doi.org/10.1038/sj.ejhg.5200222'}\n",
      "ADD TEXT: rs1799752 variant in  angiotensin I converting enzyme (ACE) with location 17q23.3 has significant association with longevity for male and femalein Irish (Northern) populationin a study conducted/published in 1998. The study had the following design I/D polymorphism was examined in 394 French centenarians (13% men and 87% women) and controls (238) from 20 to 70 years of age (140 men and 98 women). The study concludedBoth the ACE D allele and ACE D/D genotype were more frequent in centenarians in comparison with controls, without sex-related differences nor a significant correlation with cardiovascular pathologyThe study was published with pubmed id9761238 with DOI http://doi.org/9761238\n",
      "f ADD METADATA {'id': 'rs1799752_in_9761238', 'identifier': 'rs1799752', 'gene_symbol': 'ACE', 'population': 'Irish (Northern)', 'gender': 'male/female', 'pubmed': 9761238, 'doi': '9761238', 'source': 'http://doi.org/9761238'}\n",
      "ADD TEXT: C1367R variant in  Werner syndrome RecQ like helicase (WRN) with location 8p12 has non-significant association with longevity for male and femalein American populationin a study conducted/published in 1999. The study had the following design The 1367 Cys/Arg polymorphism was examined during aging in 175 Finnish centenarians and 178 newborns, 169 Mexican newborns, 23 North American adults and 198 Japanese adults. The study concludedWhen newborns and centenarians were compared within the Finnish population no differences were observed in the proportions of 1367 Cys/Arg across age groups. The frequency of the 1367 Arg allele, thought to be protective against myocardial infarction in a Japanese population, was approximately three times higher in the North American and Finnish adult populations.The study was published with pubmed id10069711 with DOI http://doi.org/10069711\n",
      "f ADD METADATA {'id': 'C1367R_in_10069711', 'identifier': 'C1367R', 'gene_symbol': 'WRN', 'population': 'American', 'gender': 'male/female', 'pubmed': 10069711, 'doi': '10069711', 'source': 'http://doi.org/10069711'}\n",
      "ADD TEXT: C3 variant in  complement C3 (C3) with location 19p13.3 has non-significant association with longevity for male and femalein Brazilian of European and Japanese origin populationin a study conducted/published in 1999. The study had the following design C3 alleles were examined in healthy aged people (77 centenarians and 89 elderly subjects). The study concludedThe frequencies of C3 alleles were similar in the studied cohortsThe study was published with pubmed id10219002 with DOI http://doi.org/10.1093/gerona/54.4.b150\n",
      "f ADD METADATA {'id': 'C3_in_10.1093/gerona/54.4.b150', 'identifier': 'C3', 'gene_symbol': 'C3', 'population': 'Brazilian of European and Japanese origin', 'gender': 'male/female', 'pubmed': 10219002, 'doi': '10.1093/gerona/54.4.b150', 'source': 'http://doi.org/10.1093/gerona/54.4.b150'}\n",
      "ADD TEXT: CFB variant in  complement factor B (CFB) with location 6p21.33 has non-significant association with longevity for male and femalein Ashkenazi Jewish  populationin a study conducted/published in 1999. The study had the following design Alleles were examined in healthy aged people (77 centenarians and 89 elderly subjects). The study concludedThe frequencies of the alleles were similar in the studied cohortsThe study was published with pubmed id10219002 with DOI http://doi.org/10.1093/gerona/54.4.b150\n",
      "f ADD METADATA {'id': 'CFB_in_10.1093/gerona/54.4.b150', 'identifier': 'CFB', 'gene_symbol': 'CFB', 'population': 'Ashkenazi Jewish ', 'gender': 'male/female', 'pubmed': 10219002, 'doi': '10.1093/gerona/54.4.b150', 'source': 'http://doi.org/10.1093/gerona/54.4.b150'}\n",
      "ADD TEXT: C4A variant in  complement C4A (Rodgers blood group) (C4A) with location 6p21.33 has non-significant association with longevity for male and femalein Russian (Novosibirsk) populationin a study conducted/published in 1999. The study had the following design C4 alleles were examined in healthy aged people (77 centenarians and 89 elderly subjects). The study concludedThe frequencies of C4A alleles were similar in the studied cohorts. For C4B null allele (C4BQ0) a trend toward an increase in the older cohort was observed, although the differences were not statistically significant after correction for multiple testing.The study was published with pubmed id10219002 with DOI http://doi.org/10.1093/gerona/54.4.b150\n",
      "f ADD METADATA {'id': 'C4A_in_10.1093/gerona/54.4.b150', 'identifier': 'C4A', 'gene_symbol': 'C4A', 'population': 'Russian (Novosibirsk)', 'gender': 'male/female', 'pubmed': 10219002, 'doi': '10.1093/gerona/54.4.b150', 'source': 'http://doi.org/10.1093/gerona/54.4.b150'}\n",
      "ADD TEXT: M/T235 variant in  angiotensinogen (AGT) with location 1q42.2 has non-significant association with longevity for male and femalein Russian (Novosibirsk) populationin a study conducted/published in 1999. The study had the following design M/T235 SNP was examined in 187 centenarians and 201 controls (20-64 years). The study concludedNo significant differences relative to longevity were foundThe study was published with pubmed id10494771 with DOI http://doi.org/10494771\n",
      "f ADD METADATA {'id': 'M/T235_in_10494771', 'identifier': 'M/T235', 'gene_symbol': 'AGT', 'population': 'Russian (Novosibirsk)', 'gender': 'male/female', 'pubmed': 10494771, 'doi': '10494771', 'source': 'http://doi.org/10494771'}\n",
      "ADD TEXT: rs1799752 variant in  angiotensin I converting enzyme (ACE) with location 17q23.3 has non-significant association with longevity for male and femalein Italian and N. Irish populationin a study conducted/published in 1999. The study had the following design I/D polymorphism was examined in 187 centenarians and 201 controls (20-64 years). The study concludedNo significant differences relative to longevity were foundThe study was published with pubmed id10494771 with DOI http://doi.org/10494771\n",
      "f ADD METADATA {'id': 'rs1799752_in_10494771', 'identifier': 'rs1799752', 'gene_symbol': 'ACE', 'population': 'Italian and N. Irish', 'gender': 'male/female', 'pubmed': 10494771, 'doi': '10494771', 'source': 'http://doi.org/10494771'}\n",
      "ADD TEXT: rs1799963 variant in  coagulation factor II, thrombin (F2) with location 11p11.2 has non-significant association with longevity for male and femalein Bulgarian populationin a study conducted/published in 1999. The study had the following design F2 20210 G/A SNP was examined in 187 centenarians and 201 controls (20-64 years). The study concludedNo association with longevity was foundThe study was published with pubmed id10494771 with DOI http://doi.org/10494771\n",
      "f ADD METADATA {'id': 'rs1799963_in_10494771', 'identifier': 'rs1799963', 'gene_symbol': 'F2', 'population': 'Bulgarian', 'gender': 'male/female', 'pubmed': 10494771, 'doi': '10494771', 'source': 'http://doi.org/10494771'}\n",
      "ADD TEXT: R353Q variant in  coagulation factor VII (F7) with location 13q34 has non-significant association with longevity for male and femalein Italian (Sardinia) populationin a study conducted/published in 1999. The study had the following design The R353Q substitution, intron 7 (37bp)n, and -323ins10 polymorphisms were examined in 187 centenarians and 201 healthy controls, aged 20-64 years (mean age 42 years).. The study concludedThe genotype frequencies in the centenarians and in the controls were similarThe study was published with pubmed id10494771 with DOI http://doi.org/10494771\n",
      "f ADD METADATA {'id': 'R353Q_in_10494771', 'identifier': 'R353Q', 'gene_symbol': 'F7', 'population': 'Italian (Sardinia)', 'gender': 'male/female', 'pubmed': 10494771, 'doi': '10494771', 'source': 'http://doi.org/10494771'}\n",
      "ADD TEXT: rs1800790 variant in  fibrinogen beta chain (FGB) with location 4q31.3 has non-significant association with longevity for male and femalein Ashkenazi Jewish (Jerusalem) populationin a study conducted/published in 1999. The study had the following design The -455G/A SNP was examined in 187 centenarians and 201 healthy controls aged 20-64 years (mean age 42 years). The study concludedThe genotype frequencies in the centenarians and the controls were similarThe study was published with pubmed id10494771 with DOI http://doi.org/10494771\n",
      "f ADD METADATA {'id': 'rs1800790_in_10494771', 'identifier': 'rs1800790', 'gene_symbol': 'FGB', 'population': 'Ashkenazi Jewish (Jerusalem)', 'gender': 'male/female', 'pubmed': 10494771, 'doi': '10494771', 'source': 'http://doi.org/10494771'}\n",
      "ADD TEXT: 33L/P variant in  integrin subunit beta 3 (ITGB3) with location 17q21.32 has non-significant association with longevity for male and femalein Mexican populationin a study conducted/published in 1999. The study had the following design L/P33 SNP was examined in 187 Danish centenarians and 201 healthy controls aged 20-64 years (mean age 42 years). The study concludedNo significant association with longevity was foundThe study was published with pubmed id10494771 with DOI http://doi.org/10494771\n",
      "f ADD METADATA {'id': '33L/P_in_10494771', 'identifier': '33L/P', 'gene_symbol': 'ITGB3', 'population': 'Mexican', 'gender': 'male/female', 'pubmed': 10494771, 'doi': '10494771', 'source': 'http://doi.org/10494771'}\n",
      "ADD TEXT: PLAT variant in  plasminogen activator, tissue type (PLAT) with location 8p11.21 has non-significant association with longevity for male and femalein Italian (Central and Southern) populationin a study conducted/published in 1999. The study had the following design Intron 8 insertion 311 polymorphism was examined in 187 Danish centenarians, and 201 healthy Danish blood donors, aged 20-64 years (mean age 42 years). The study concludedNo significant differences relative to longevity were foundThe study was published with pubmed id10494771 with DOI http://doi.org/10494771\n",
      "f ADD METADATA {'id': 'PLAT_in_10494771', 'identifier': 'PLAT', 'gene_symbol': 'PLAT', 'population': 'Italian (Central and Southern)', 'gender': 'male/female', 'pubmed': 10494771, 'doi': '10494771', 'source': 'http://doi.org/10494771'}\n",
      "ADD TEXT: 114A/V variant in  methylenetetrahydrofolate reductase (MTHFR) with location 1p36.22 has non-significant association with longevity for male and femalein English populationin a study conducted/published in 1999. The study had the following design A/V114 SNP was examined in 187 unselected centenarians, and 201 healthy controls aged 20-64 years (mean age 42 years). The study concludedNo significant association with longevity was foundThe study was published with pubmed id10494771 with DOI http://doi.org/10494771\n",
      "f ADD METADATA {'id': '114A/V_in_10494771', 'identifier': '114A/V', 'gene_symbol': 'MTHFR', 'population': 'English', 'gender': 'male/female', 'pubmed': 10494771, 'doi': '10494771', 'source': 'http://doi.org/10494771'}\n",
      "ADD TEXT: rs1799889 variant in  serpin family E member 1 (SERPINE1) with location 7q22.1 has non-significant association with longevity for male and femalein Columbian populationin a study conducted/published in 1999. The study had the following design The 1-bp guanine deletion/insertion (4G/5G) polymorphism was examined in 187 centenarians and 201 healthy controls aged 20-64 years (mean age 42 years). The study concludedNo significant differences relative to longevity were foundThe study was published with pubmed id10494771 with DOI http://doi.org/10494771\n",
      "f ADD METADATA {'id': 'rs1799889_in_10494771', 'identifier': 'rs1799889', 'gene_symbol': 'SERPINE1', 'population': 'Columbian', 'gender': 'male/female', 'pubmed': 10494771, 'doi': '10494771', 'source': 'http://doi.org/10494771'}\n",
      "ADD TEXT: rs1799752 variant in  angiotensin I converting enzyme (ACE) with location 17q23.3 has non-significant association with longevity for male and femalein Greek populationin a study conducted/published in 1999. The study had the following design I/D polymorphism was determined in 648 subjects >85 years-old. Genotype distributions in a subset of 356 elderly subjects were compared to 250 young subjects. Mortality of elderly subjects was also followed for 10 years.. The study concludedThe ACE genotype distributions were similar in elderly and young subjects. No associations with mortality were found.The study was published with pubmed id10520809 with DOI http://doi.org/10.1016/s0735-1097(99)00337-x\n",
      "f ADD METADATA {'id': 'rs1799752_in_10.1016/s0735-1097(99)00337-x', 'identifier': 'rs1799752', 'gene_symbol': 'ACE', 'population': 'Greek', 'gender': 'male/female', 'pubmed': 10520809, 'doi': '10.1016/s0735-1097(99)00337-x', 'source': 'http://doi.org/10.1016/s0735-1097(99)00337-x'}\n",
      "ADD TEXT: rs1799889 variant in  serpin family E member 1 (SERPINE1) with location 7q22.1 has non-significant association with longevity for male and femalein Mediterranean (Italian, Greek and Tunisian) populationin a study conducted/published in 1999. The study had the following design The 1-bp guanine deletion/insertion (4G/5G) polymorphism in the promoter region was examined in 648 subjects >85 years old. The study concludedIn the cross-sectional analysis, the genotype distributions were similar in elderly and young subjectsThe study was published with pubmed id10520809 with DOI http://doi.org/10.1016/s0735-1097(99)00337-x\n",
      "f ADD METADATA {'id': 'rs1799889_in_10.1016/s0735-1097(99)00337-x', 'identifier': 'rs1799889', 'gene_symbol': 'SERPINE1', 'population': 'Mediterranean (Italian, Greek and Tunisian)', 'gender': 'male/female', 'pubmed': 10520809, 'doi': '10.1016/s0735-1097(99)00337-x', 'source': 'http://doi.org/10.1016/s0735-1097(99)00337-x'}\n",
      "ADD TEXT: rs1801133 variant in  methylenetetrahydrofolate reductase (MTHFR) with location 1p36.22 has non-significant association with longevity for male and femalein Chinese (Han) populationin a study conducted/published in 1999. The study had the following design C677T SNP was examined in healthy subjects (n=118; age<65), older healthy subjects (n=106; age>65), patients with coronary artery disease (n=75), and patients with peripheral arterial occlusive disease (n=63). The study concludedNo difference in either genotype distribution or allele frequencies between patients and controls was foundThe study was published with pubmed id10583447 with DOI http://doi.org/10.1046/j.1365-2362.1999.00578.x\n",
      "f ADD METADATA {'id': 'rs1801133_in_10.1046/j.1365-2362.1999.00578.x', 'identifier': 'rs1801133', 'gene_symbol': 'MTHFR', 'population': 'Chinese (Han)', 'gender': 'male/female', 'pubmed': 10583447, 'doi': '10.1046/j.1365-2362.1999.00578.x', 'source': 'http://doi.org/10.1046/j.1365-2362.1999.00578.x'}\n",
      "ADD TEXT: CYP1A1 variant in  cytochrome P450 family 1 subfamily A member 1 (CYP1A1) with location 15q24.1 has non-significant association with longevity for male and femalein Jordanian populationin a study conducted/published in 2001. The study had the following design Polymorphisms were examined in 94 nonagenarians and centenarians and 418 control subjects of younger age. The study concludedNo association with longevity was foundThe study was published with pubmed id11162685 with DOI http://doi.org/10.1006/bbrc.2001.4280\n",
      "f ADD METADATA {'id': 'CYP1A1_in_10.1006/bbrc.2001.4280', 'identifier': 'CYP1A1', 'gene_symbol': 'CYP1A1', 'population': 'Jordanian', 'gender': 'male/female', 'pubmed': 11162685, 'doi': '10.1006/bbrc.2001.4280', 'source': 'http://doi.org/10.1006/bbrc.2001.4280'}\n",
      "ADD TEXT: GSTM1 variant in  glutathione S-transferase mu 1 (GSTM1) with location 1p13.3 has non-significant association with longevity for male and femalein Caucasians populationin a study conducted/published in 2001. The study had the following design GSTM1 deletion was examined in 94 nonagenarians and centenarians and in 418 control subjects of younger age. The study concludedNo association with longevity was foundThe study was published with pubmed id11162685 with DOI http://doi.org/10.1006/bbrc.2001.4280\n",
      "f ADD METADATA {'id': 'GSTM1_in_10.1006/bbrc.2001.4280', 'identifier': 'GSTM1', 'gene_symbol': 'GSTM1', 'population': 'Caucasians', 'gender': 'male/female', 'pubmed': 11162685, 'doi': '10.1006/bbrc.2001.4280', 'source': 'http://doi.org/10.1006/bbrc.2001.4280'}\n",
      "ADD TEXT: GSTT1 variant in  glutathione S-transferase theta 1 (GSTT1) with location 22q11.23 has significant association with longevity for male and femalein Italian (Palermo) populationin a study conducted/published in 2001. The study had the following design Deletion was examined in 94 nonagenarians and centenarians and 418 control subjects of younger age. The study concludedA significant difference in the proportion of nonagenarians and centenarians homozygotes for the deletion was observed in comparison to control subjectsThe study was published with pubmed id11162685 with DOI http://doi.org/10.1006/bbrc.2001.4280\n",
      "f ADD METADATA {'id': 'GSTT1_in_10.1006/bbrc.2001.4280', 'identifier': 'GSTT1', 'gene_symbol': 'GSTT1', 'population': 'Italian (Palermo)', 'gender': 'male/female', 'pubmed': 11162685, 'doi': '10.1006/bbrc.2001.4280', 'source': 'http://doi.org/10.1006/bbrc.2001.4280'}\n",
      "ADD TEXT: rs7412 variant in  apolipoprotein E (APOE) with location 19q13.32 has significant association with longevity for male and femalein American (Georgia and Louisiana populations from African and European origin) populationin a study conducted/published in 2001. The study had the following design Common polymorphism was examined in 179 persons (28 men and 151 women) aged 100 years and older. The study concludedThe percentages of E2-allele carriers increased with age, particularly in women. The percentage of carriers of the E4 allele was lower than expected.The study was published with pubmed id11213279 with DOI http://doi.org/10.1093/gerona/56.2.m75\n",
      "f ADD METADATA {'id': 'rs7412_in_10.1093/gerona/56.2.m75', 'identifier': 'rs7412', 'gene_symbol': 'APOE', 'population': 'American (Georgia and Louisiana populations from African and European origin)', 'gender': 'male/female', 'pubmed': 11213279, 'doi': '10.1093/gerona/56.2.m75', 'source': 'http://doi.org/10.1093/gerona/56.2.m75'}\n",
      "ADD TEXT: T-455C variant in  apolipoprotein C3 (APOC3) with location 11q23.3 has significant association with longevity for male and femalein Italian (Salerno) populationin a study conducted/published in 2001. The study had the following design 5'-untranslated region (T-455C) SNP was examined in a group of 137 elderly individuals (70-106 years old). The study concludedA greater frequency of the -455C allele was demonstrated with agingThe study was published with pubmed id11193221 with DOI http://doi.org/10.1093/gerona/56.1.b27\n",
      "f ADD METADATA {'id': 'T-455C_in_10.1093/gerona/56.1.b27', 'identifier': 'T-455C', 'gene_symbol': 'APOC3', 'population': 'Italian (Salerno)', 'gender': 'male/female', 'pubmed': 11193221, 'doi': '10.1093/gerona/56.1.b27', 'source': 'http://doi.org/10.1093/gerona/56.1.b27'}\n",
      "ADD TEXT: rs1799752 variant in  angiotensin I converting enzyme (ACE) with location 17q23.3 has non-significant association with longevity for male and femalein European populationin a study conducted/published in 2001. The study had the following design I/D polymorphism was examined in 560 centenarians and 560 adult controls. The study concludedNo association was observed between ACE allele frequencies or genotype and longevityThe study was published with pubmed id11280044 with DOI http://doi.org/10.1016/s0764-4469(00)01274-9\n",
      "f ADD METADATA {'id': 'rs1799752_in_10.1016/s0764-4469(00)01274-9', 'identifier': 'rs1799752', 'gene_symbol': 'ACE', 'population': 'European', 'gender': 'male/female', 'pubmed': 11280044, 'doi': '10.1016/s0764-4469(00)01274-9', 'source': 'http://doi.org/10.1016/s0764-4469(00)01274-9'}\n",
      "ADD TEXT: rs7412 variant in  apolipoprotein E (APOE) with location 19q13.32 has significant association with longevity for male and femalein Danish, German populationin a study conducted/published in 2001. The study had the following design Common polymorphism (E2, E3, and E4) was examined in 560 centenarians and 560 adult controls. The study concludedSignificant differences were observed between centenarians and controls for allelic and genotypic frequencies. The E4E4 genotype was under-represented in centenarians compared to controls. Centenarians carrying at least one E2 allele or homozygous for E3 were more frequent than controls.The study was published with pubmed id11280044 with DOI http://doi.org/10.1016/s0764-4469(00)01274-9\n",
      "f ADD METADATA {'id': 'rs7412_in_10.1016/s0764-4469(00)01274-9', 'identifier': 'rs7412', 'gene_symbol': 'APOE', 'population': 'Danish, German', 'gender': 'male/female', 'pubmed': 11280044, 'doi': '10.1016/s0764-4469(00)01274-9', 'source': 'http://doi.org/10.1016/s0764-4469(00)01274-9'}\n",
      "ADD TEXT: rs1799889 variant in  serpin family E member 1 (SERPINE1) with location 7q22.1 has non-significant association with longevity for male and femalein Italian (Central) populationin a study conducted/published in 2001. The study had the following design 205 donors (147 women, 58 men; aged 80-98 years, mean 86.1) were examined for the 1-bp guanine deletion/insertion (4G/5G) polymorphism in the promoter region. The study concludedThe 4G/5G polymorphism was not found to be associated with longevityThe study was published with pubmed id11485022 with DOI http://doi.org/10.1007/s001090100192\n",
      "f ADD METADATA {'id': 'rs1799889_in_10.1007/s001090100192', 'identifier': 'rs1799889', 'gene_symbol': 'SERPINE1', 'population': 'Italian (Central)', 'gender': 'male/female', 'pubmed': 11485022, 'doi': '10.1007/s001090100192', 'source': 'http://doi.org/10.1007/s001090100192'}\n",
      "ADD TEXT: G1691A variant in  coagulation factor V (F5) with location 1q24.2 has non-significant association with longevity for male and femalein Danish, German, Dutch populationin a study conducted/published in 2001. The study had the following design G1691A SNP was examined in 2689 healthy Caucasians aged 17-39 years (n = 979; 505 males and 474 females), 40-59 years (n = 900; 526 males and 374 females), and 60-85 years (n = 810; 530 males and 280 females). The study concludedNo statistically significant decrease in genotype or allele frequency was observed among carriers of F5The study was published with pubmed id11568114 with DOI http://doi.org/11568114\n",
      "f ADD METADATA {'id': 'G1691A_in_11568114', 'identifier': 'G1691A', 'gene_symbol': 'F5', 'population': 'Danish, German, Dutch', 'gender': 'male/female', 'pubmed': 11568114, 'doi': '11568114', 'source': 'http://doi.org/11568114'}\n",
      "ADD TEXT: C807T variant in  integrin subunit alpha 2 (ITGA2) with location 5q11.2 has non-significant association with longevity for male and femalein English (Newcastle) populationin a study conducted/published in 2001. The study had the following design GPIa C807T SNP was examined in 2689 healthy Caucasians aged 17-39 years (n = 979; 505 males and 474 females), 40-59 years (n = 900; 526 males and 374 females), and 60-85 years (n = 810; 530 males and 280 females). The study concludedNo statistically significant decrease in genotype or allele frequency was observedThe study was published with pubmed id11568114 with DOI http://doi.org/11568114\n",
      "f ADD METADATA {'id': 'C807T_in_11568114', 'identifier': 'C807T', 'gene_symbol': 'ITGA2', 'population': 'English (Newcastle)', 'gender': 'male/female', 'pubmed': 11568114, 'doi': '11568114', 'source': 'http://doi.org/11568114'}\n",
      "ADD TEXT: T1565C variant in  integrin subunit beta 3 (ITGB3) with location 17q21.32 has significant association with longevity for male and femalein Spanish and Italian populationin a study conducted/published in 2001. The study had the following design T1565C SNP was examined in 2689 healthy Caucasians aged 17-39 years (n = 979; 505 males and 474 females), 40-59 years (n = 900; 526 males and 374 females), and 60-85 years (n = 810; 530 males and 280 females). The study concludedThe Pl(A2) allele frequency significantly decreased with ageThe study was published with pubmed id11568114 with DOI http://doi.org/11568114\n",
      "f ADD METADATA {'id': 'T1565C_in_11568114', 'identifier': 'T1565C', 'gene_symbol': 'ITGB3', 'population': 'Spanish and Italian', 'gender': 'male/female', 'pubmed': 11568114, 'doi': '11568114', 'source': 'http://doi.org/11568114'}\n",
      "ADD TEXT: rs1801133 variant in  methylenetetrahydrofolate reductase (MTHFR) with location 1p36.22 has non-significant association with longevity for male and femalein American (Utah) populationin a study conducted/published in 2001. The study had the following design C677T SNP was examined in 2689 healthy Caucasians aged 17-39 years (n = 979; 505 males and 474 females), 40-59 years (n = 900; 526 males and 374 females), and 60-85 years (n = 810; 530 males and 280 females). The study concludedNo statistically significant decrease in genotype or allele frequency was observed among carriers of 677TThe study was published with pubmed id11568114 with DOI http://doi.org/11568114\n",
      "f ADD METADATA {'id': 'rs1801133_in_11568114', 'identifier': 'rs1801133', 'gene_symbol': 'MTHFR', 'population': 'American (Utah)', 'gender': 'male/female', 'pubmed': 11568114, 'doi': '11568114', 'source': 'http://doi.org/11568114'}\n",
      "ADD TEXT: rs1799963 variant in  coagulation factor II, thrombin (F2) with location 11p11.2 has non-significant association with longevity for male and femalein Chinese (Zhuang) populationin a study conducted/published in 2001. The study had the following design F2 20210 G/A SNP was examined in 2689 healthy Caucasians aged 17-39 years (n = 979; 505 males and 474 females), 40-59 years (n = 900; 526 males and 374 females), and 60-85 years (n = 810; 530 males and 280 females). The study concludedNo statistically significant decrease in genotype or allele frequency was observed among carriers of F2The study was published with pubmed id11568114 with DOI http://doi.org/11568114\n",
      "f ADD METADATA {'id': 'rs1799963_in_11568114', 'identifier': 'rs1799963', 'gene_symbol': 'F2', 'population': 'Chinese (Zhuang)', 'gender': 'male/female', 'pubmed': 11568114, 'doi': '11568114', 'source': 'http://doi.org/11568114'}\n",
      "ADD TEXT: rs1799752 variant in  angiotensin I converting enzyme (ACE) with location 17q23.3 has non-significant association with longevity for male and femalein Turkish populationin a study conducted/published in 2001. The study had the following design I/D polymorphism was examined in 2689 healthy Caucasians: 17-39 years (n = 979; 505 males and 474 females), 40-59 years (n = 900; 526 males and 374 females), and 60-85 years (n = 810; 530 males and 280 females). The study concludedNo statistically significant decrease in genotype or allele frequency was observed among carriers of ACE DThe study was published with pubmed id11568114 with DOI http://doi.org/11568114\n",
      "f ADD METADATA {'id': 'rs1799752_in_11568114', 'identifier': 'rs1799752', 'gene_symbol': 'ACE', 'population': 'Turkish', 'gender': 'male/female', 'pubmed': 11568114, 'doi': '11568114', 'source': 'http://doi.org/11568114'}\n",
      "ADD TEXT: rs1800795 variant in  interleukin 6 (IL6) with location 7p15.3 has significant association with longevity for male and femalein Chinese (Guangxi Bama) populationin a study conducted/published in 2001. The study had the following design 700 individuals (482 women and 218 men), ranging from 60 to 110 years of age including 323 centenarians were subdivided into three age-groups (60-80, 81-99 and over 99 years of age), and were assessed for -174 C/G locus variability. The study concludedThe proportion of homozygotes for the G allele decreases in centenarian males, but not in centenarian females. Among males, homozygotes for the G allele have higher IL-6 serum levels in comparison with carriers of the C allele.The study was published with pubmed id11500818 with DOI http://doi.org/10.1002/1521-4141(200108)31:8&#60;2357::aid-immu2357&#62;3.0.co;2-x\n",
      "f ADD METADATA {'id': 'rs1800795_in_10.1002/1521-4141(200108)31:8&#60;2357::aid-immu2357&#62;3.0.co;2-x', 'identifier': 'rs1800795', 'gene_symbol': 'IL6', 'population': 'Chinese (Guangxi Bama)', 'gender': 'male/female', 'pubmed': 11500818, 'doi': '10.1002/1521-4141(200108)31:8&#60;2357::aid-immu2357&#62;3.0.co;2-x', 'source': 'http://doi.org/10.1002/1521-4141(200108)31:8&#60;2357::aid-immu2357&#62;3.0.co;2-x'}\n",
      "ADD TEXT: rs1799752 variant in  angiotensin I converting enzyme (ACE) with location 17q23.3 has non-significant association with longevity for male and femalein Danish, American populationin a study conducted/published in 2001. The study had the following design The I/D polymorphism was examined in 187 centenarians (47 males and 140 females) and 201 controls (20-64 years). The study concludedNo significant differences relative to longevity were foundThe study was published with pubmed id11602206 with DOI http://doi.org/10.1016/s0531-5565(01)00102-4\n",
      "f ADD METADATA {'id': 'rs1799752_in_10.1016/s0531-5565(01)00102-4', 'identifier': 'rs1799752', 'gene_symbol': 'ACE', 'population': 'Danish, American', 'gender': 'male/female', 'pubmed': 11602206, 'doi': '10.1016/s0531-5565(01)00102-4', 'source': 'http://doi.org/10.1016/s0531-5565(01)00102-4'}\n",
      "ADD TEXT: M/T235 variant in  angiotensinogen (AGT) with location 1q42.2 has significant association with longevity for male and femalein American (Amish)  populationin a study conducted/published in 2001. The study had the following design M/T235 SNP was examined in 187 centenarians (47 males and 140 females) and 201 controls (20-64 years). The study concludedSignificant influences on survival in males were observed, with reduced hazards of death for carriers of the M235 alleleThe study was published with pubmed id11602206 with DOI http://doi.org/10.1016/s0531-5565(01)00102-4\n",
      "f ADD METADATA {'id': 'M/T235_in_10.1016/s0531-5565(01)00102-4', 'identifier': 'M/T235', 'gene_symbol': 'AGT', 'population': 'American (Amish) ', 'gender': 'male/female', 'pubmed': 11602206, 'doi': '10.1016/s0531-5565(01)00102-4', 'source': 'http://doi.org/10.1016/s0531-5565(01)00102-4'}\n",
      "ADD TEXT: rs1799963 variant in  coagulation factor II, thrombin (F2) with location 11p11.2 has non-significant association with longevity for male and femalein American, English, Irish populationin a study conducted/published in 2001. The study had the following design F2 20210 G/A SNP was examined in 187 centenarians (47 males and 140 females) and 201 controls (20-64 years). The study concludedNo association with longevity was foundThe study was published with pubmed id11602206 with DOI http://doi.org/10.1016/s0531-5565(01)00102-4\n",
      "f ADD METADATA {'id': 'rs1799963_in_10.1016/s0531-5565(01)00102-4', 'identifier': 'rs1799963', 'gene_symbol': 'F2', 'population': 'American, English, Irish', 'gender': 'male/female', 'pubmed': 11602206, 'doi': '10.1016/s0531-5565(01)00102-4', 'source': 'http://doi.org/10.1016/s0531-5565(01)00102-4'}\n",
      "ADD TEXT: F7 variant in  coagulation factor VII (F7) with location 13q34 has non-significant association with longevity for male and femalein Ashkenazi Jewish, Czechs (Bohemian) populationin a study conducted/published in 2001. The study had the following design Polymorphisms were examined in 187 centenarians (47 males and 140 females) and 201 controls (20-64 years). The study concludedNo association with longevity was foundThe study was published with pubmed id11602206 with DOI http://doi.org/10.1016/s0531-5565(01)00102-4\n",
      "f ADD METADATA {'id': 'F7_in_10.1016/s0531-5565(01)00102-4', 'identifier': 'F7', 'gene_symbol': 'F7', 'population': 'Ashkenazi Jewish, Czechs (Bohemian)', 'gender': 'male/female', 'pubmed': 11602206, 'doi': '10.1016/s0531-5565(01)00102-4', 'source': 'http://doi.org/10.1016/s0531-5565(01)00102-4'}\n",
      "ADD TEXT: rs1800790 variant in  fibrinogen beta chain (FGB) with location 4q31.3 has non-significant association with longevity for male and femalein European (Danish, Finnish, South Italian and Greek) populationin a study conducted/published in 2001. The study had the following design The G/A-455 SNP was examined in 187 centenarians (47 males and 140 females) and 201 controls (20-64 years). The study concludedNo association with longevity was foundThe study was published with pubmed id11602206 with DOI http://doi.org/10.1016/s0531-5565(01)00102-4\n",
      "f ADD METADATA {'id': 'rs1800790_in_10.1016/s0531-5565(01)00102-4', 'identifier': 'rs1800790', 'gene_symbol': 'FGB', 'population': 'European (Danish, Finnish, South Italian and Greek)', 'gender': 'male/female', 'pubmed': 11602206, 'doi': '10.1016/s0531-5565(01)00102-4', 'source': 'http://doi.org/10.1016/s0531-5565(01)00102-4'}\n",
      "ADD TEXT: rs7412 variant in  apolipoprotein E (APOE) with location 19q13.32 has significant association with longevity for male and femalein Caucasian populationin a study conducted/published in 2001. The study had the following design Common polymorphism (E2, E3, and E4) was studied in 164 subjects including 35 persons aged 90 years or older, 71 men aged 20-35 and 54 men with myocardial infarction. The study concludedThere was a statistically significant difference in the E4 allele frequencies among the three groups with the older group showing a lower E4 allele frequencyThe study was published with pubmed id11640949 with DOI http://doi.org/10.1016/s0047-6374(01)00338-4\n",
      "f ADD METADATA {'id': 'rs7412_in_10.1016/s0047-6374(01)00338-4', 'identifier': 'rs7412', 'gene_symbol': 'APOE', 'population': 'Caucasian', 'gender': 'male/female', 'pubmed': 11640949, 'doi': '10.1016/s0047-6374(01)00338-4', 'source': 'http://doi.org/10.1016/s0047-6374(01)00338-4'}\n",
      "ADD TEXT: IL10 variant in  interleukin 10 (IL10) with location 1q32.1 has non-significant association with longevity for male and femalein Japanese (Okinawa) populationin a study conducted/published in 2001. The study had the following design 250 (52 males and 198 females) nonagenarians and 400 healthy control group (18-60 years old) were examined for 1082 SNP. The study concludedNo significant differences relative to longevity were foundThe study was published with pubmed id11640949 with DOI http://doi.org/10.1016/s0047-6374(01)00338-4\n",
      "f ADD METADATA {'id': 'IL10_in_10.1016/s0047-6374(01)00338-4', 'identifier': 'IL10', 'gene_symbol': 'IL10', 'population': 'Japanese (Okinawa)', 'gender': 'male/female', 'pubmed': 11640949, 'doi': '10.1016/s0047-6374(01)00338-4', 'source': 'http://doi.org/10.1016/s0047-6374(01)00338-4'}\n",
      "ADD TEXT: IL1B variant in  interleukin 1 beta (IL1B) with location 2q14.1 has non-significant association with longevity for male and femalein Finnish and Mexican populationin a study conducted/published in 2001. The study had the following design 250 (52 males and 198 females) nonagenarians and 400 healthy control group blood donors (18-60 years old) were examined for +3953 and -511 SNPs. The study concludedNo significant differences relative to longevity were foundThe study was published with pubmed id11640949 with DOI http://doi.org/10.1016/s0047-6374(01)00338-4\n",
      "f ADD METADATA {'id': 'IL1B_in_10.1016/s0047-6374(01)00338-4', 'identifier': 'IL1B', 'gene_symbol': 'IL1B', 'population': 'Finnish and Mexican', 'gender': 'male/female', 'pubmed': 11640949, 'doi': '10.1016/s0047-6374(01)00338-4', 'source': 'http://doi.org/10.1016/s0047-6374(01)00338-4'}\n",
      "ADD TEXT: -889C/T variant in  interleukin 1 alpha (IL1A) with location 2q14.1 has non-significant association with longevity for male and femalein Czechs (Bohemian), Americans (Baltimore Caucasians and African-Americans) populationin a study conducted/published in 2001. The study had the following design 250 (52 males and 198 females) nonagenarians and 400 healthy control group (18-60 years old) were examined for -889 SNP. The study concludedNo significant differences relative to longevity were foundThe study was published with pubmed id11640949 with DOI http://doi.org/10.1016/s0047-6374(01)00338-4\n",
      "f ADD METADATA {'id': '-889C/T_in_10.1016/s0047-6374(01)00338-4', 'identifier': '-889C/T', 'gene_symbol': 'IL1A', 'population': 'Czechs (Bohemian), Americans (Baltimore Caucasians and African-Americans)', 'gender': 'male/female', 'pubmed': 11640949, 'doi': '10.1016/s0047-6374(01)00338-4', 'source': 'http://doi.org/10.1016/s0047-6374(01)00338-4'}\n",
      "ADD TEXT: IL1RN variant in  interleukin 1 receptor antagonist (IL1RN) with location 2q14.1 has non-significant association with longevity for male and femalein Italian, Ashkenazi Jewish and Japanese populationin a study conducted/published in 2001. The study had the following design 250 (52 males and 198 females) nonagenarians and 400 healthy control (18-60 years old) were examined for VNTR polymorphism in intron 2 (an 86 bp repeat sequence). The study concludedNo significant differences relative to longevity were foundThe study was published with pubmed id11640949 with DOI http://doi.org/10.1016/s0047-6374(01)00338-4\n",
      "f ADD METADATA {'id': 'IL1RN_in_10.1016/s0047-6374(01)00338-4', 'identifier': 'IL1RN', 'gene_symbol': 'IL1RN', 'population': 'Italian, Ashkenazi Jewish and Japanese', 'gender': 'male/female', 'pubmed': 11640949, 'doi': '10.1016/s0047-6374(01)00338-4', 'source': 'http://doi.org/10.1016/s0047-6374(01)00338-4'}\n",
      "ADD TEXT: IL6 variant in  interleukin 6 (IL6) with location 7p15.3 has non-significant association with longevity for male and femalein American of Japanese origin populationin a study conducted/published in 2001. The study had the following design 250 (52 males and 198 females) nonagenarians and 400 healthy control group (18-60 years old) were examined for -174, +3953 and -511 SNPs. The study concludedNo significant differences relative to longevity were foundThe study was published with pubmed id11640949 with DOI http://doi.org/10.1016/s0047-6374(01)00338-4\n",
      "f ADD METADATA {'id': 'IL6_in_10.1016/s0047-6374(01)00338-4', 'identifier': 'IL6', 'gene_symbol': 'IL6', 'population': 'American of Japanese origin', 'gender': 'male/female', 'pubmed': 11640949, 'doi': '10.1016/s0047-6374(01)00338-4', 'source': 'http://doi.org/10.1016/s0047-6374(01)00338-4'}\n",
      "ADD TEXT: rs1800629 variant in  tumor necrosis factor (TNF) with location 6p21.33 has non-significant association with longevity for male and femalein European and American (Caucasian) populationin a study conducted/published in 2001. The study had the following design 250 (52 males and 198 females) nonagenarians and 400 healthy control group (18-60 years old) were examined for -308 SNP. The study concludedNo significant differences relative to longevity were foundThe study was published with pubmed id11640949 with DOI http://doi.org/10.1016/s0047-6374(01)00338-4\n",
      "f ADD METADATA {'id': 'rs1800629_in_10.1016/s0047-6374(01)00338-4', 'identifier': 'rs1800629', 'gene_symbol': 'TNF', 'population': 'European and American (Caucasian)', 'gender': 'male/female', 'pubmed': 11640949, 'doi': '10.1016/s0047-6374(01)00338-4', 'source': 'http://doi.org/10.1016/s0047-6374(01)00338-4'}\n",
      "ADD TEXT: IGF2 variant in  insulin like growth factor 2 (IGF2) with location 11p15.5 has non-significant association with longevity for male and femalein American (Caucasians), Italian (Southern), French, Ashkenazi Jewish  populationin a study conducted/published in 2001. The study had the following design Exon 9 AvaII RFLP polymorphism was examined in 219 centenarians (72 males and 147 females) and 256 (controls 20-70 years, 119 males and 137 females). The study concludedNo significant difference between centenarians and controls was observedThe study was published with pubmed id11672987 with DOI http://doi.org/10.1016/s0531-5565(01)00146-2\n",
      "f ADD METADATA {'id': 'IGF2_in_10.1016/s0531-5565(01)00146-2', 'identifier': 'IGF2', 'gene_symbol': 'IGF2', 'population': 'American (Caucasians), Italian (Southern), French, Ashkenazi Jewish ', 'gender': 'male/female', 'pubmed': 11672987, 'doi': '10.1016/s0531-5565(01)00146-2', 'source': 'http://doi.org/10.1016/s0531-5565(01)00146-2'}\n",
      "ADD TEXT: FokI RFLP variant in  insulin (INS) with location 11p15.5 has non-significant association with longevity for male and femalein Germany, Italian, Chinese (Han) populationin a study conducted/published in 2001. The study had the following design FokI RFLP polymorphism was examined in 219 centenarians (72 males and 147 females) and 256 (controls 20-70 years, 119 males and 137 females). The study concludedNo significant difference between centenarians and controls was observedThe study was published with pubmed id11672987 with DOI http://doi.org/10.1016/s0531-5565(01)00146-2\n",
      "f ADD METADATA {'id': 'FokI RFLP_in_10.1016/s0531-5565(01)00146-2', 'identifier': 'FokI RFLP', 'gene_symbol': 'INS', 'population': 'Germany, Italian, Chinese (Han)', 'gender': 'male/female', 'pubmed': 11672987, 'doi': '10.1016/s0531-5565(01)00146-2', 'source': 'http://doi.org/10.1016/s0531-5565(01)00146-2'}\n",
      "ADD TEXT: BRCA1 variant in  BRCA1, DNA repair associated (BRCA1) with location 17q21.31 has non-significant association with longevity for male and femalein Italian (Northern) and Japanese populationin a study conducted/published in 2001. The study had the following design Polymorphisms were examined in 102 centenarians from the New England area and 84 centenarians from Italy. The control population consisted of 97 individuals from Italy.. The study concludedThe genotype a+a was more frequent in both centenarian groups compared to the control group whereas the genotype a+b was less frequent. The results however were not statistically significant.The study was published with pubmed id11795532 with DOI http://doi.org/10.1111/j.1749-6632.2001.tb05639.x\n",
      "f ADD METADATA {'id': 'BRCA1_in_10.1111/j.1749-6632.2001.tb05639.x', 'identifier': 'BRCA1', 'gene_symbol': 'BRCA1', 'population': 'Italian (Northern) and Japanese', 'gender': 'male/female', 'pubmed': 11795532, 'doi': '10.1111/j.1749-6632.2001.tb05639.x', 'source': 'http://doi.org/10.1111/j.1749-6632.2001.tb05639.x'}\n",
      "ADD TEXT: rs1799752 variant in  angiotensin I converting enzyme (ACE) with location 17q23.3 has significant association with longevity for male and femalein American (Caucasian), Ashkenazi Jewish populationin a study conducted/published in 2002. The study had the following design I/D polymorphism was examined in 424 subjects comprising 227 Uighur individuals, 108 Kazakh individuals, and 89 Han individuals. All subjects in the latter two groups ranged in age from 65 to 70 years, whereas the Uighur subjects comprised two different age groups: those ranging in age from 59 to 70 years and those ranging in age from 90 to 113 years.. The study concludedWithin the Uighur group, frequency of the D allele was significantly higher in the group aged >90 than in the group aged <70. The overall distributions of alleles in the three groups did not differ significantly.The study was published with pubmed id11773214 with DOI http://doi.org/10.1093/gerona/57.1.m57\n",
      "f ADD METADATA {'id': 'rs1799752_in_10.1093/gerona/57.1.m57', 'identifier': 'rs1799752', 'gene_symbol': 'ACE', 'population': 'American (Caucasian), Ashkenazi Jewish', 'gender': 'male/female', 'pubmed': 11773214, 'doi': '10.1093/gerona/57.1.m57', 'source': 'http://doi.org/10.1093/gerona/57.1.m57'}\n",
      "ADD TEXT: rs2430561 variant in  interferon gamma (IFNG) with location 12q15 has significant association with longevity for male and femalein American (Caucasian and African–American), Ashkenazi Jewish populationin a study conducted/published in 2002. The study had the following design The distribution of the 874T/A polymorphism was examined in 174 Italian centenarians (>99 years old, 142 women and 32 men) and 248 <60-year-old control subjects (90 women and 158 men). The study concludedThe +874T allele, known to be associated with low IFN-gamma production, was found less frequently in centenarian women than in centenarian men or in control women whereas no significant differences were observed in the distribution of the two alleles between male or female controls. Allele frequencies in centenarian men were not found significantly different from male controls.The study was published with pubmed id11857058 with DOI http://doi.org/10.1038/sj.gene.6363827\n",
      "f ADD METADATA {'id': 'rs2430561_in_10.1038/sj.gene.6363827', 'identifier': 'rs2430561', 'gene_symbol': 'IFNG', 'population': 'American (Caucasian and African–American), Ashkenazi Jewish', 'gender': 'male/female', 'pubmed': 11857058, 'doi': '10.1038/sj.gene.6363827', 'source': 'http://doi.org/10.1038/sj.gene.6363827'}\n",
      "ADD TEXT: rs1800896 variant in  interleukin 10 (IL10) with location 1q32.1 has significant association with longevity for male and femalein English (Oxford) populationin a study conducted/published in 2002. The study had the following design The -1082G/A, -819C/T and -592C/A proximal promoter SNPs were examined in 190 centenarians (>99 years old, 159 women and 31 men) and in 260 control subjects (99 women and 161 men less than 60 years old). The study concludedThe -1082G homozygous genotype, associated with high IL-10 production, was increased in centenarian men but not in centenarian women. No difference was found between centenarians and control subjects regarding the other two SNPs.The study was published with pubmed id11857058 with DOI http://doi.org/10.1038/sj.gene.6363827\n",
      "f ADD METADATA {'id': 'rs1800896_in_10.1038/sj.gene.6363827', 'identifier': 'rs1800896', 'gene_symbol': 'IL10', 'population': 'English (Oxford)', 'gender': 'male/female', 'pubmed': 11857058, 'doi': '10.1038/sj.gene.6363827', 'source': 'http://doi.org/10.1038/sj.gene.6363827'}\n",
      "ADD TEXT: C282Y variant in  hemochromatosis (HFE) with location 6p22.2 has significant association with longevity for male and femalein American (Caucasian), French populationin a study conducted/published in 2002. The study had the following design C282Y, H63D and S65C polymorphisms were studied in 106 young controls (age range from 22 to 55 years; 40 men and 66 women) and 35 elderly subjects (age range from 91 to 105 years; seven men and 28 women). The study concludedA significant difference was observed only in women in frequencies of C282Y alleles between the young and the elderly subjects. Concerning H63D polymorphisms, no significant differences were observed, between old and young people.The study was published with pubmed id11857058 with DOI http://doi.org/10.1038/sj.gene.6363827\n",
      "f ADD METADATA {'id': 'C282Y_in_10.1038/sj.gene.6363827', 'identifier': 'C282Y', 'gene_symbol': 'HFE', 'population': 'American (Caucasian), French', 'gender': 'male/female', 'pubmed': 11857058, 'doi': '10.1038/sj.gene.6363827', 'source': 'http://doi.org/10.1038/sj.gene.6363827'}\n",
      "ADD TEXT: FAS variant in  Fas cell surface death receptor (FAS) with location 10q23.31 has non-significant association with longevity for male and femalein American (Caucasian and African-American) populationin a study conducted/published in 2002. The study had the following design The -670 and -1377 position SNPs were examined in 50 centenarians and 86 young controls. The study concludedGenotype and allele distribution for both polymorphisms were similar in controls and centenariansThe study was published with pubmed id11965496 with DOI http://doi.org/10.1038/sj.cdd.4400964\n",
      "f ADD METADATA {'id': 'FAS_in_10.1038/sj.cdd.4400964', 'identifier': 'FAS', 'gene_symbol': 'FAS', 'population': 'American (Caucasian and African-American)', 'gender': 'male/female', 'pubmed': 11965496, 'doi': '10.1038/sj.cdd.4400964', 'source': 'http://doi.org/10.1038/sj.cdd.4400964'}\n"
     ]
    },
    {
     "data": {
      "text/plain": "<genes.indexing.Index at 0x7f7370392f80>"
     },
     "execution_count": 7,
     "metadata": {},
     "output_type": "execute_result"
    }
   ],
   "source": [
    "index.with_modules()"
   ],
   "metadata": {
    "collapsed": false
   }
  },
  {
   "cell_type": "code",
   "execution_count": 9,
   "outputs": [],
   "source": [
    "index.persist()"
   ],
   "metadata": {
    "collapsed": false
   }
  },
  {
   "cell_type": "code",
   "execution_count": 10,
   "outputs": [
    {
     "data": {
      "text/plain": "{'question': 'Is rs1800790 variant pro or anti-longevity?',\n 'answer': 'rs1800896 variant in interleukin 10 (IL10) is significantly associated with longevity for male and female in English (Oxford) population.\\n',\n 'sources': 'http://doi.org/10.1038/sj.gene.6363827'}"
     },
     "execution_count": 10,
     "metadata": {},
     "output_type": "execute_result"
    }
   ],
   "source": [
    "index.query_with_sources(\"Is rs1800790 variant pro or anti-longevity?\")"
   ],
   "metadata": {
    "collapsed": false
   }
  },
  {
   "cell_type": "code",
   "execution_count": 10,
   "outputs": [
    {
     "data": {
      "text/plain": "{'question': 'what do you know about R353Q substitution?',\n 'answer': 'The R353Q substitution is a variant in coagulation factor VII (F7) and has non-significant association with longevity in American (Caucasian) population and Italian (Sardinia) population. C1367R variant in Werner syndrome RecQ like helicase (WRN), and 401C/T variant in superoxide dismutase 2 (SOD2) also have non-significant association with longevity in American and Italian, French, and Danish population respectively. \\n',\n 'sources': 'DOI http://doi.org/10.1161/01.atv.17.4.755, DOI http://doi.org/10494771, DOI http://doi.org/10069711, and DOI http://doi.org/10.1038/sj.ejhg.5200222'}"
     },
     "execution_count": 10,
     "metadata": {},
     "output_type": "execute_result"
    }
   ],
   "source": [
    "index.query_with_sources(\"what do you know about R353Q substitution?\")"
   ],
   "metadata": {
    "collapsed": false
   }
  },
  {
   "cell_type": "code",
   "execution_count": null,
   "outputs": [],
   "source": [
    "pffin"
   ],
   "metadata": {
    "collapsed": false
   }
  }
 ],
 "metadata": {
  "kernelspec": {
   "display_name": "Python 3 (ipykernel)",
   "language": "python",
   "name": "python3"
  },
  "language_info": {
   "codemirror_mode": {
    "name": "ipython",
    "version": 3
   },
   "file_extension": ".py",
   "mimetype": "text/x-python",
   "name": "python",
   "nbconvert_exporter": "python",
   "pygments_lexer": "ipython3",
   "version": "3.10.10"
  }
 },
 "nbformat": 4,
 "nbformat_minor": 4
}
