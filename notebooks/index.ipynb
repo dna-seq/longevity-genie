{
 "cells": [
  {
   "cell_type": "markdown",
   "metadata": {},
   "source": [
    "## Indexing genes with ChatGPT ##"
   ]
  },
  {
   "cell_type": "code",
   "execution_count": 1,
   "outputs": [
    {
     "name": "stdout",
     "output_type": "stream",
     "text": [
      "[PosixPath('/home/antonkulaga/sources/genes-gpt/genes'), '/home/antonkulaga/sources/genes-gpt/notebooks/..', '/home/antonkulaga/sources/genes-gpt/notebooks', '/home/antonkulaga/sources/genes-gpt', '/home/antonkulaga/micromamba/envs/genes-gpt/lib/python310.zip', '/home/antonkulaga/micromamba/envs/genes-gpt/lib/python3.10', '/home/antonkulaga/micromamba/envs/genes-gpt/lib/python3.10/lib-dynload', '', '/home/antonkulaga/.local/lib/python3.10/site-packages', '/home/antonkulaga/micromamba/envs/genes-gpt/lib/python3.10/site-packages']\n"
     ]
    }
   ],
   "source": [
    "import sys\n",
    "from pathlib import Path\n",
    "from genes.config import Locations\n",
    "from pycomfort.files import *\n",
    "import polars as pl\n",
    "import pandas as pd\n",
    "\n",
    "base = Path(\"..\")\n",
    "local = (base / \"genes\").resolve()\n",
    "if local.exists():\n",
    "    sys.path.insert(0, Path(\"..\").absolute().as_posix())\n",
    "    sys.path.insert(0, local)\n",
    "    print(sys.path)\n",
    "else:\n",
    "    base = Path(\".\")\n",
    "%load_ext autoreload\n",
    "%autoreload 2"
   ],
   "metadata": {
    "collapsed": false
   }
  },
  {
   "cell_type": "code",
   "execution_count": 2,
   "outputs": [
    {
     "name": "stdout",
     "output_type": "stream",
     "text": [
      "papers\n",
      "\t.gitignore\n",
      "\ttest.pdf\n",
      "\t10.1073\n",
      "\t\tpnas.0705467105.pdf\n",
      "\t\tpnas.2628028100.pdf\n",
      "\t\tpnas.1003540107.pdf\n",
      "\t\tpnas.1936249100.pdf\n",
      "\t\tpnas.0801030105.pdf\n",
      "\t\tpnas.022484299.pdf\n",
      "\t\tpnas.0906191106.pdf\n",
      "\t\tpnas.0408670102.pdf\n",
      "\t\tpnas.0809594106.pdf\n",
      "\t\tpnas.181337598.pdf\n",
      "\t10.1186\n",
      "\t\t1742-4933-2-13.pdf\n",
      "\t\t1471-2350-8-S1-S13.pdf\n",
      "\t\t1471-2318-9-57.pdf\n",
      "\t\t1756-0500-3-55.pdf\n",
      "\t10.1006\n",
      "\t\tbbrc.2001.4280.pdf\n",
      "\t10.1007\n",
      "\t\ts10522-006-9021-2.pdf\n",
      "\t\ts10522-005-4909-9.pdf\n",
      "\t\tBF03324487.pdf\n",
      "\t\ts004390050364.pdf\n",
      "\t\ts00109-003-0485-0.pdf\n",
      "\t\ts10522-010-9273-8.pdf\n",
      "\t\ts001090100192.pdf\n",
      "\t\ts11357-012-9416-8.pdf\n",
      "\t\ts00439-006-0148-7.pdf\n",
      "\t\ts00439-002-0826-z.pdf\n",
      "\t\ts11357-012-9408-8.pdf\n",
      "\t\ts11357-013-9559-2.pdf\n",
      "\t\ts11357-012-9447-1.pdf\n",
      "\t\ts00439-002-0843-y.pdf\n",
      "\t\ts10522-011-9360-5.pdf\n",
      "\t\ts10522-009-9246-y.pdf\n",
      "\t\ts001090000132.pdf\n",
      "\t\tBF03327391.pdf\n",
      "\t\ts10522-013-9470-3.pdf\n",
      "\t\ts10072-012-1188-5.pdf\n",
      "\t\ts11033-010-0546-8.pdf\n",
      "\t\ts10522-010-9266-7.pdf\n",
      "\t\ts11357-013-9513-3.pdf\n",
      "\t\ts11033-012-1784-8.pdf\n",
      "\t\ts11357-013-9593-0.pdf\n",
      "\t\tBF03324333.pdf\n",
      "\t\ts12603-011-0123-4.pdf\n",
      "\t\ts00109-002-0407-6.pdf\n",
      "\t\ts11357-011-9373-7.pdf\n",
      "\t\ts10522-013-9421-z.pdf\n",
      "\t\ts10522-006-9041-y.pdf\n",
      "\t\ts10522-006-9050-x.pdf\n",
      "\t\ts004390050735.pdf\n",
      "\t\ts10522-005-6042-1.pdf\n",
      "\t\ts11357-011-9210-z.pdf\n",
      "\t\ts10522-009-9229-z.pdf\n",
      "\t\ts11357-011-9340-3.pdf\n",
      "\t10.3233\n",
      "\t\tJAD-2011-101791.pdf\n",
      "\t\tJAD-2011-110743.pdf\n",
      "\t10.1016\n",
      "\t\tj.exger.2008.08.004.pdf\n",
      "\t\ts0047-6374(03)00149-0.pdf\n",
      "\t\tj.mrfmmm.2010.08.006.pdf\n",
      "\t\tj.mad.2013.01.005.pdf\n",
      "\t\tj.mad.2005.01.009.pdf\n",
      "\t\ts0735-1097(99)00337-x.pdf\n",
      "\t\tj.mad.2010.08.009.pdf\n",
      "\t\tj.exger.2003.08.014.pdf\n",
      "\t\tj.exger.2014.04.003.pdf\n",
      "\t\tj.mad.2004.10.001.pdf\n",
      "\t\tj.exger.2005.09.008.pdf\n",
      "\t\tj.cca.2010.06.030.pdf\n",
      "\t\ts0047-6374(03)00033-2.pdf\n",
      "\t\tj.exger.2004.05.007.pdf\n",
      "\t\tj.mad.2004.03.004.pdf\n",
      "\t\tj.mad.2009.08.004.pdf\n",
      "\t\tj.archger.2011.01.001.pdf\n",
      "\t\tj.trsl.2009.08.002.pdf\n",
      "\t\tj.mad.2010.04.001.pdf\n",
      "\t\tj.mad.2005.11.005.pdf\n",
      "\t\tj.toxlet.2004.01.025.pdf\n",
      "\t\tj.cyto.2011.12.021.pdf\n",
      "\t\ts0531-5565(01)00198-x.pdf\n",
      "\t\ts0047-6374(03)00037-x.pdf\n",
      "\t\tj.mad.2007.04.001.pdf\n",
      "\t\tj.mad.2004.08.025.pdf\n",
      "\t\tj.trsl.2014.09.008.pdf\n",
      "\t\tj.exger.2011.09.001.pdf\n",
      "\t\tj.exger.2010.04.007.pdf\n",
      "\t\tj.mad.2005.06.006.pdf\n",
      "\t\tj.ygeno.2004.11.003.pdf\n",
      "\t\tj.mad.2011.06.008.pdf\n",
      "\t\tj.exger.2009.02.004.pdf\n",
      "\t\tj.mad.2006.08.007.pdf\n",
      "\t\ts0047-6374(03)00032-0.pdf\n",
      "\t\tj.amjmed.2004.01.027.pdf\n",
      "\t\ts0047-6374(02)00081-7.pdf\n",
      "\t\ts0764-4469(00)01274-9.pdf\n",
      "\t\tS0140-6736(05)78211-8.pdf\n",
      "\t\tj.exger.2004.03.017.pdf\n",
      "\t\ts0531-5565(03)00209-2.pdf\n",
      "\t\tj.neurobiolaging.2007.05.003.pdf\n",
      "\t\tj.exger.2011.07.011.pdf\n",
      "\t\tj.mad.2006.08.002.pdf\n",
      "\t\ts0531-5565(01)00102-4.pdf\n",
      "\t\tj.exger.2014.01.014.pdf\n",
      "\t\tj.mad.2009.01.005.pdf\n",
      "\t\tj.cyto.2011.07.023.pdf\n",
      "\t\ts0531-5565(03)00006-8.pdf\n",
      "\t\tj.exger.2003.10.001.pdf\n",
      "\t\ts0047-6374(98)00067-0.pdf\n",
      "\t\ts0021-9150(97)00290-6.pdf\n",
      "\t\tj.exger.2011.01.003.pdf\n",
      "\t\ts0047-6374(01)00278-0.pdf\n",
      "\t\tj.mad.2012.06.004.pdf\n",
      "\t\tj.cca.2010.12.006.pdf\n",
      "\t\ts0140-6736(87)91015-4.pdf\n",
      "\t\ts0304-3940(98)00025-1.pdf\n",
      "\t\tj.exger.2014.02.004.pdf\n",
      "\t\tj.mad.2015.08.003.pdf\n",
      "\t\ts1047-2797(02)00254-5.pdf\n",
      "\t\ts0047-6374(01)00338-4.pdf\n",
      "\t\tj.exger.2004.05.003.pdf\n",
      "\t\tj.exger.2003.11.019.pdf\n",
      "\t\tj.exger.2013.03.009.pdf\n",
      "\t\ts0531-5565(01)00146-2.pdf\n",
      "\t\tj.exger.2004.03.034.pdf\n",
      "\t\tj.neurobiolaging.2011.05.026.pdf\n",
      "\t\tj.exger.2004.02.001.pdf\n",
      "\t\tj.archger.2006.10.011.pdf\n",
      "\t\tj.neurobiolaging.2012.02.014.pdf\n",
      "\t\ts0531-5565(01)00094-8.pdf\n",
      "\t\tj.exger.2004.03.037.pdf\n",
      "\t\ts0047-6374(03)00036-8.pdf\n",
      "\t\tj.arcmed.2006.04.001.pdf\n",
      "\t\ts0531-5565(03)00154-2.pdf\n",
      "\t\tj.neurobiolaging.2012.08.019.pdf\n",
      "\t\tj.mad.2006.02.003.pdf\n",
      "\t\ts0021-9150(96)06027-3.pdf\n",
      "\t\tj.mad.2004.08.026.pdf\n",
      "\t\tj.exger.2012.02.010.pdf\n",
      "\t\t0021-9150(94)90011-6.pdf\n",
      "\t\tj.neurobiolaging.2013.04.001.pdf\n",
      "\t\tj.atherosclerosis.2005.01.028.pdf\n",
      "\t10.1111\n",
      "\t\tj.1474-9726.2010.00600.x.pdf\n",
      "\t\tj.1744-313X.2010.00925.x.pdf\n",
      "\t\tj.1744-313X.2006.00613.x.pdf\n",
      "\t\tj.1399-0039.1997.tb02904.x.pdf\n",
      "\t\tj.1474-9726.2009.00493.x.pdf\n",
      "\t\tj.1474-9726.2011.00775.x.pdf\n",
      "\t\tacel.12186.pdf\n",
      "\t\tacel.12011.pdf\n",
      "\t\tacel.12015.pdf\n",
      "\t\tj.1474-9728.2005.00148.x.pdf\n",
      "\t\tj.1749-6632.1991.tb16970.x.pdf\n",
      "\t\tj.1474-9726.2011.00698.x.pdf\n",
      "\t\tj.1474-9726.2011.00705.x.pdf\n",
      "\t\tj.1474-9726.2010.00627.x.pdf\n",
      "\t\tj.1474-9726.2012.00808.x.pdf\n",
      "\t\tj.1749-6632.2001.tb05639.x.pdf\n",
      "\t\tacel.12039.pdf\n",
      "\t\tj.1532-5415.2004.52369.x.pdf\n",
      "\t\tj.1474-9728.2004.00129.x.pdf\n",
      "\t10.1196\n",
      "\t\tannals.1354.040.pdf\n",
      "\t10.1177\n",
      "\t\t0003319712475075.pdf\n",
      "\t10.1503\n",
      "\t\tcmaj.120233.pdf\n",
      "\t10.1161\n",
      "\t\tATVBAHA.112.300421.pdf\n",
      "\t\t01.atv.17.4.755.pdf\n",
      "\t\t01.RES.0000157171.04054.30.pdf\n",
      "\t\t01.atv.14.7.1084.pdf\n",
      "\t\tATVBAHA.113.301273.pdf\n",
      "\t10.1093\n",
      "\t\tgerona\n",
      "\t\t\tglp154.pdf\n",
      "\t\t\t58.9.m851.pdf\n",
      "\t\t\tglt082.pdf\n",
      "\t\t\t62.2.202.pdf\n",
      "\t\t\t63.5.454.pdf\n",
      "\t\t\tgls223.pdf\n",
      "\t\t\t63.5.447.pdf\n",
      "\t\t\tgls067.pdf\n",
      "\t\t\t61.6.547.pdf\n",
      "\t\t\t61.4.355.pdf\n",
      "\t\t\t61.12.1228.pdf\n",
      "\t\t\t62.1.73.pdf\n",
      "\t\t\t60.12.1525.pdf\n",
      "\t\t\t61.9.918.pdf\n",
      "\t\t\t54.4.b150.pdf\n",
      "\t\t\tglq156.pdf\n",
      "\t\t\t56.1.b27.pdf\n",
      "\t\t\t58.3.m227.pdf\n",
      "\t\t\tglq160.pdf\n",
      "\t\t\t56.2.m75.pdf\n",
      "\t\t\tglr117.pdf\n",
      "\t\t\t57.1.m57.pdf\n",
      "\t\t\tglu021.pdf\n",
      "\t\t\tgls192.pdf\n",
      "\t\t\t63.11.1235.pdf\n",
      "\t\t\tgls103.pdf\n",
      "\t\t\tglq028.pdf\n",
      "\t\tageing\n",
      "\t\t\t26.2.147.pdf\n",
      "\t\taje\n",
      "\t\t\tkwr015.pdf\n",
      "\t\thmg\n",
      "\t\t\tddp459.pdf\n",
      "\t\t\t7.2.187.pdf\n",
      "\t\t\tddu139.pdf\n",
      "\t10.1136\n",
      "\t\tjmg.40.2.146.pdf\n",
      "\t\tjmg.40.4.296.pdf\n",
      "\t10.3390\n",
      "\t\tijms141123203.pdf\n",
      "\t10.1371\n",
      "\t\tjournal.pone.0058636.pdf\n",
      "\t\tjournal.pone.0006423.pdf\n",
      "\t\tjournal.pone.0017558.pdf\n",
      "\t\tjournal.pbio.0040113.pdf\n",
      "\t\tjournal.pone.0002421.pdf\n",
      "\t\tjournal.pone.0045232.pdf\n",
      "\t\tjournal.pone.0042877.pdf\n",
      "\t\tjournal.pone.0008210.pdf\n",
      "\t\tjournal.pone.0029650.pdf\n",
      "\t\tjournal.pone.0034746.pdf\n",
      "\t\tjournal.pone.0012432.pdf\n",
      "\t\tjournal.pone.0029848.pdf\n",
      "\t10.1210\n",
      "\t\tjc.2009-0808.pdf\n",
      "\t\tjc.2002-021810.pdf\n",
      "\t10.1002\n",
      "\t\t1521-4141(200108)31:8&#60;2357::aid-immu2357&#62;3.0.co;2-x.pdf\n",
      "\t\tpmic.201900408.pdf\n",
      "\t10.1189\n",
      "\t\tjlb.0705416.pdf\n",
      "\t10.1046\n",
      "\t\tj.1365-2362.1999.00578.x.pdf\n",
      "\t\tj.1469-1809.2003.00008.x.pdf\n",
      "\t10.1523\n",
      "\t\tJNEUROSCI.3515-12.2013.pdf\n",
      "\t10.1038\n",
      "\t\tjhg.2009.111.pdf\n",
      "\t\tsj.ejhg.5200222.pdf\n",
      "\t\tejhg.2012.196.pdf\n",
      "\t\tejhg.2011.43.pdf\n",
      "\t\tsj.ejhg.5201235.pdf\n",
      "\t\tejhg.2013.299.pdf\n",
      "\t\tejhg.2009.54.pdf\n",
      "\t\tng0194-29.pdf\n",
      "\t\tsj.ejhg.5201468.pdf\n",
      "\t\tsj.gene.6363823.pdf\n",
      "\t\tsj.gene.6363827.pdf\n",
      "\t\tsj.cdd.4400964.pdf\n",
      "\t\tsj.ejhg.5200806.pdf\n",
      "\t10.1080\n",
      "\t\t13547500310001627519.pdf\n",
      "\t10.1089\n",
      "\t\trej.2009.0984.pdf\n",
      "\t\trej.2006.9.157.pdf\n",
      "\t\trej.2008.0827.pdf\n",
      "\t\trej.2006.9.153.pdf\n",
      "\t\trej.2012.1382.pdf\n",
      "\t\trej.2012.1365.pdf\n",
      "\t\trej.2010.1114.pdf\n",
      "\t\trej.2009.0970.pdf\n",
      "\t\trej.2011.1257.pdf\n",
      "\t10.1096\n",
      "\t\tfasebj.13.12.1532.pdf\n",
      "\t10.4161\n",
      "\t\tcc.7.2.5249.pdf\n",
      "\t\tpri.23903.pdf\n",
      "\t10.1590\n",
      "\t\ts0066-782x2002000600004.pdf\n",
      "\t10.1023\n",
      "\t\ta:1025182615693.pdf\n",
      "\t\tB:BGEN.0000031154.57176.4f.pdf\n",
      "\t10.3109\n",
      "\t\t13685538.2011.607521.pdf\n",
      "\t\t13685531003657800.pdf\n",
      "\t10.3858\n",
      "\t\temm.2009.41.11.083.pdf\n",
      "\t10.2174\n",
      "\t\t138161210790883499.pdf\n",
      "\t10.1001\n",
      "\t\tjama.290.15.2030.pdf\n",
      "\t\tjama.292.19.2339.pdf\n"
     ]
    }
   ],
   "source": [
    "import sys\n",
    "from pathlib import Path\n",
    "from genes.config import Locations\n",
    "from pycomfort.files import *\n",
    "locations = Locations(base)\n",
    "tprint(locations.papers)"
   ],
   "metadata": {
    "collapsed": false
   }
  },
  {
   "cell_type": "code",
   "execution_count": 3,
   "outputs": [
    {
     "data": {
      "text/plain": "True"
     },
     "execution_count": 3,
     "metadata": {},
     "output_type": "execute_result"
    }
   ],
   "source": [
    "from dotenv import load_dotenv\n",
    "load_dotenv()"
   ],
   "metadata": {
    "collapsed": false
   }
  },
  {
   "cell_type": "markdown",
   "source": [
    "## LangChain ##"
   ],
   "metadata": {
    "collapsed": false
   }
  },
  {
   "cell_type": "code",
   "execution_count": 4,
   "outputs": [
    {
     "name": "stderr",
     "output_type": "stream",
     "text": [
      "Using embedded DuckDB with persistence: data will be stored in: /home/antonkulaga/sources/genes-gpt/data/index\n"
     ]
    },
    {
     "data": {
      "text/plain": "<genes.indexing.Index at 0x7f49680cb9a0>"
     },
     "execution_count": 4,
     "metadata": {},
     "output_type": "execute_result"
    }
   ],
   "source": [
    "from genes.indexing import *\n",
    "index = Index(locations)\n",
    "index"
   ],
   "metadata": {
    "collapsed": false
   }
  },
  {
   "cell_type": "code",
   "execution_count": 6,
   "outputs": [
    {
     "name": "stdout",
     "output_type": "stream",
     "text": [
      "indexing 1 modules\n"
     ]
    },
    {
     "data": {
      "text/plain": "<genes.indexing.Index at 0x7f8898346890>"
     },
     "execution_count": 6,
     "metadata": {},
     "output_type": "execute_result"
    }
   ],
   "source": [
    "index.with_modules(locations.modules_data)"
   ],
   "metadata": {
    "collapsed": false
   }
  },
  {
   "cell_type": "code",
   "execution_count": 5,
   "outputs": [
    {
     "data": {
      "text/plain": "{'question': 'what is APOE?',\n 'answer': ' APOE stands for apolipoprotein E.\\n',\n 'sources': '10.1016/j.arcmed.2006.04.001, 10.1111/j.1474-9726.2010.00600.x'}"
     },
     "execution_count": 5,
     "metadata": {},
     "output_type": "execute_result"
    }
   ],
   "source": [
    "index.query_with_sources(\"what is APOE?\")"
   ],
   "metadata": {
    "collapsed": false
   }
  },
  {
   "cell_type": "code",
   "execution_count": 6,
   "outputs": [
    {
     "name": "stdout",
     "output_type": "stream",
     "text": [
      "indexing 256 papers\n",
      "adding paper 1 out of 256\n",
      "adding paper 1 out of 256\n"
     ]
    },
    {
     "ename": "KeyboardInterrupt",
     "evalue": "",
     "output_type": "error",
     "traceback": [
      "\u001B[0;31m---------------------------------------------------------------------------\u001B[0m",
      "\u001B[0;31mKeyboardInterrupt\u001B[0m                         Traceback (most recent call last)",
      "Cell \u001B[0;32mIn[6], line 1\u001B[0m\n\u001B[0;32m----> 1\u001B[0m \u001B[43mindex\u001B[49m\u001B[38;5;241;43m.\u001B[39;49m\u001B[43mwith_papers_incremental\u001B[49m\u001B[43m(\u001B[49m\u001B[43m)\u001B[49m\n\u001B[1;32m      2\u001B[0m index\u001B[38;5;241m.\u001B[39mpersist()\n",
      "File \u001B[0;32m~/sources/genes-gpt/genes/indexing.py:98\u001B[0m, in \u001B[0;36mIndex.with_papers_incremental\u001B[0;34m(self, folder)\u001B[0m\n\u001B[1;32m     96\u001B[0m \u001B[38;5;28;01mfor\u001B[39;00m loader \u001B[38;5;129;01min\u001B[39;00m loaders:\n\u001B[1;32m     97\u001B[0m     \u001B[38;5;28mprint\u001B[39m(\u001B[38;5;124mf\u001B[39m\u001B[38;5;124m\"\u001B[39m\u001B[38;5;124madding paper \u001B[39m\u001B[38;5;132;01m{\u001B[39;00mi\u001B[38;5;132;01m}\u001B[39;00m\u001B[38;5;124m out of \u001B[39m\u001B[38;5;132;01m{\u001B[39;00m\u001B[38;5;28mlen\u001B[39m(loaders)\u001B[38;5;132;01m}\u001B[39;00m\u001B[38;5;124m\"\u001B[39m)\n\u001B[0;32m---> 98\u001B[0m     docs: \u001B[38;5;28mlist\u001B[39m[Document] \u001B[38;5;241m=\u001B[39m \u001B[43mloader\u001B[49m\u001B[38;5;241;43m.\u001B[39;49m\u001B[43mload\u001B[49m\u001B[43m(\u001B[49m\u001B[43m)\u001B[49m\n\u001B[1;32m     99\u001B[0m     \u001B[38;5;28mself\u001B[39m\u001B[38;5;241m.\u001B[39mwith_documents(docs)\n\u001B[1;32m    100\u001B[0m \u001B[38;5;28mprint\u001B[39m(\u001B[38;5;124m\"\u001B[39m\u001B[38;5;124mpapers loading finished\u001B[39m\u001B[38;5;124m\"\u001B[39m)\n",
      "File \u001B[0;32m~/micromamba/envs/genes-gpt/lib/python3.10/site-packages/langchain/document_loaders/unstructured.py:61\u001B[0m, in \u001B[0;36mUnstructuredBaseLoader.load\u001B[0;34m(self)\u001B[0m\n\u001B[1;32m     59\u001B[0m \u001B[38;5;28;01mdef\u001B[39;00m \u001B[38;5;21mload\u001B[39m(\u001B[38;5;28mself\u001B[39m) \u001B[38;5;241m-\u001B[39m\u001B[38;5;241m>\u001B[39m List[Document]:\n\u001B[1;32m     60\u001B[0m \u001B[38;5;250m    \u001B[39m\u001B[38;5;124;03m\"\"\"Load file.\"\"\"\u001B[39;00m\n\u001B[0;32m---> 61\u001B[0m     elements \u001B[38;5;241m=\u001B[39m \u001B[38;5;28;43mself\u001B[39;49m\u001B[38;5;241;43m.\u001B[39;49m\u001B[43m_get_elements\u001B[49m\u001B[43m(\u001B[49m\u001B[43m)\u001B[49m\n\u001B[1;32m     62\u001B[0m     \u001B[38;5;28;01mif\u001B[39;00m \u001B[38;5;28mself\u001B[39m\u001B[38;5;241m.\u001B[39mmode \u001B[38;5;241m==\u001B[39m \u001B[38;5;124m\"\u001B[39m\u001B[38;5;124melements\u001B[39m\u001B[38;5;124m\"\u001B[39m:\n\u001B[1;32m     63\u001B[0m         docs: List[Document] \u001B[38;5;241m=\u001B[39m \u001B[38;5;28mlist\u001B[39m()\n",
      "File \u001B[0;32m~/micromamba/envs/genes-gpt/lib/python3.10/site-packages/langchain/document_loaders/pdf.py:29\u001B[0m, in \u001B[0;36mUnstructuredPDFLoader._get_elements\u001B[0;34m(self)\u001B[0m\n\u001B[1;32m     26\u001B[0m \u001B[38;5;28;01mdef\u001B[39;00m \u001B[38;5;21m_get_elements\u001B[39m(\u001B[38;5;28mself\u001B[39m) \u001B[38;5;241m-\u001B[39m\u001B[38;5;241m>\u001B[39m List:\n\u001B[1;32m     27\u001B[0m     \u001B[38;5;28;01mfrom\u001B[39;00m \u001B[38;5;21;01munstructured\u001B[39;00m\u001B[38;5;21;01m.\u001B[39;00m\u001B[38;5;21;01mpartition\u001B[39;00m\u001B[38;5;21;01m.\u001B[39;00m\u001B[38;5;21;01mpdf\u001B[39;00m \u001B[38;5;28;01mimport\u001B[39;00m partition_pdf\n\u001B[0;32m---> 29\u001B[0m     \u001B[38;5;28;01mreturn\u001B[39;00m \u001B[43mpartition_pdf\u001B[49m\u001B[43m(\u001B[49m\u001B[43mfilename\u001B[49m\u001B[38;5;241;43m=\u001B[39;49m\u001B[38;5;28;43mself\u001B[39;49m\u001B[38;5;241;43m.\u001B[39;49m\u001B[43mfile_path\u001B[49m\u001B[43m,\u001B[49m\u001B[43m \u001B[49m\u001B[38;5;241;43m*\u001B[39;49m\u001B[38;5;241;43m*\u001B[39;49m\u001B[38;5;28;43mself\u001B[39;49m\u001B[38;5;241;43m.\u001B[39;49m\u001B[43munstructured_kwargs\u001B[49m\u001B[43m)\u001B[49m\n",
      "File \u001B[0;32m~/micromamba/envs/genes-gpt/lib/python3.10/site-packages/unstructured/partition/pdf.py:65\u001B[0m, in \u001B[0;36mpartition_pdf\u001B[0;34m(filename, file, url, template, token, include_page_breaks, strategy, infer_table_structure, encoding, ocr_languages)\u001B[0m\n\u001B[1;32m     32\u001B[0m \u001B[38;5;250m\u001B[39m\u001B[38;5;124;03m\"\"\"Parses a pdf document into a list of interpreted elements.\u001B[39;00m\n\u001B[1;32m     33\u001B[0m \u001B[38;5;124;03mParameters\u001B[39;00m\n\u001B[1;32m     34\u001B[0m \u001B[38;5;124;03m----------\u001B[39;00m\n\u001B[0;32m   (...)\u001B[0m\n\u001B[1;32m     62\u001B[0m \u001B[38;5;124;03m    to isntall the appropriate Tesseract language pack.\u001B[39;00m\n\u001B[1;32m     63\u001B[0m \u001B[38;5;124;03m\"\"\"\u001B[39;00m\n\u001B[1;32m     64\u001B[0m exactly_one(filename\u001B[38;5;241m=\u001B[39mfilename, file\u001B[38;5;241m=\u001B[39mfile)\n\u001B[0;32m---> 65\u001B[0m \u001B[38;5;28;01mreturn\u001B[39;00m \u001B[43mpartition_pdf_or_image\u001B[49m\u001B[43m(\u001B[49m\n\u001B[1;32m     66\u001B[0m \u001B[43m    \u001B[49m\u001B[43mfilename\u001B[49m\u001B[38;5;241;43m=\u001B[39;49m\u001B[43mfilename\u001B[49m\u001B[43m,\u001B[49m\n\u001B[1;32m     67\u001B[0m \u001B[43m    \u001B[49m\u001B[43mfile\u001B[49m\u001B[38;5;241;43m=\u001B[39;49m\u001B[43mfile\u001B[49m\u001B[43m,\u001B[49m\n\u001B[1;32m     68\u001B[0m \u001B[43m    \u001B[49m\u001B[43murl\u001B[49m\u001B[38;5;241;43m=\u001B[39;49m\u001B[43murl\u001B[49m\u001B[43m,\u001B[49m\n\u001B[1;32m     69\u001B[0m \u001B[43m    \u001B[49m\u001B[43mtemplate\u001B[49m\u001B[38;5;241;43m=\u001B[39;49m\u001B[43mtemplate\u001B[49m\u001B[43m,\u001B[49m\n\u001B[1;32m     70\u001B[0m \u001B[43m    \u001B[49m\u001B[43mtoken\u001B[49m\u001B[38;5;241;43m=\u001B[39;49m\u001B[43mtoken\u001B[49m\u001B[43m,\u001B[49m\n\u001B[1;32m     71\u001B[0m \u001B[43m    \u001B[49m\u001B[43minclude_page_breaks\u001B[49m\u001B[38;5;241;43m=\u001B[39;49m\u001B[43minclude_page_breaks\u001B[49m\u001B[43m,\u001B[49m\n\u001B[1;32m     72\u001B[0m \u001B[43m    \u001B[49m\u001B[43mstrategy\u001B[49m\u001B[38;5;241;43m=\u001B[39;49m\u001B[43mstrategy\u001B[49m\u001B[43m,\u001B[49m\n\u001B[1;32m     73\u001B[0m \u001B[43m    \u001B[49m\u001B[43minfer_table_structure\u001B[49m\u001B[38;5;241;43m=\u001B[39;49m\u001B[43minfer_table_structure\u001B[49m\u001B[43m,\u001B[49m\n\u001B[1;32m     74\u001B[0m \u001B[43m    \u001B[49m\u001B[43mencoding\u001B[49m\u001B[38;5;241;43m=\u001B[39;49m\u001B[43mencoding\u001B[49m\u001B[43m,\u001B[49m\n\u001B[1;32m     75\u001B[0m \u001B[43m    \u001B[49m\u001B[43mocr_languages\u001B[49m\u001B[38;5;241;43m=\u001B[39;49m\u001B[43mocr_languages\u001B[49m\u001B[43m,\u001B[49m\n\u001B[1;32m     76\u001B[0m \u001B[43m\u001B[49m\u001B[43m)\u001B[49m\n",
      "File \u001B[0;32m~/micromamba/envs/genes-gpt/lib/python3.10/site-packages/unstructured/partition/pdf.py:137\u001B[0m, in \u001B[0;36mpartition_pdf_or_image\u001B[0;34m(filename, file, url, template, token, is_image, include_page_breaks, strategy, infer_table_structure, encoding, ocr_languages)\u001B[0m\n\u001B[1;32m    135\u001B[0m     \u001B[38;5;28;01mwith\u001B[39;00m warnings\u001B[38;5;241m.\u001B[39mcatch_warnings():\n\u001B[1;32m    136\u001B[0m         warnings\u001B[38;5;241m.\u001B[39msimplefilter(\u001B[38;5;124m\"\u001B[39m\u001B[38;5;124mignore\u001B[39m\u001B[38;5;124m\"\u001B[39m)\n\u001B[0;32m--> 137\u001B[0m         layout_elements \u001B[38;5;241m=\u001B[39m \u001B[43m_partition_pdf_or_image_local\u001B[49m\u001B[43m(\u001B[49m\n\u001B[1;32m    138\u001B[0m \u001B[43m            \u001B[49m\u001B[43mfilename\u001B[49m\u001B[38;5;241;43m=\u001B[39;49m\u001B[43mfilename\u001B[49m\u001B[43m,\u001B[49m\n\u001B[1;32m    139\u001B[0m \u001B[43m            \u001B[49m\u001B[43mfile\u001B[49m\u001B[38;5;241;43m=\u001B[39;49m\u001B[43mfile\u001B[49m\u001B[43m,\u001B[49m\n\u001B[1;32m    140\u001B[0m \u001B[43m            \u001B[49m\u001B[43mtemplate\u001B[49m\u001B[38;5;241;43m=\u001B[39;49m\u001B[43mout_template\u001B[49m\u001B[43m,\u001B[49m\n\u001B[1;32m    141\u001B[0m \u001B[43m            \u001B[49m\u001B[43mis_image\u001B[49m\u001B[38;5;241;43m=\u001B[39;49m\u001B[43mis_image\u001B[49m\u001B[43m,\u001B[49m\n\u001B[1;32m    142\u001B[0m \u001B[43m            \u001B[49m\u001B[43minfer_table_structure\u001B[49m\u001B[38;5;241;43m=\u001B[39;49m\u001B[43minfer_table_structure\u001B[49m\u001B[43m,\u001B[49m\n\u001B[1;32m    143\u001B[0m \u001B[43m            \u001B[49m\u001B[43minclude_page_breaks\u001B[49m\u001B[38;5;241;43m=\u001B[39;49m\u001B[38;5;28;43;01mTrue\u001B[39;49;00m\u001B[43m,\u001B[49m\n\u001B[1;32m    144\u001B[0m \u001B[43m            \u001B[49m\u001B[43mocr_languages\u001B[49m\u001B[38;5;241;43m=\u001B[39;49m\u001B[43mocr_languages\u001B[49m\u001B[43m,\u001B[49m\n\u001B[1;32m    145\u001B[0m \u001B[43m        \u001B[49m\u001B[43m)\u001B[49m\n\u001B[1;32m    147\u001B[0m \u001B[38;5;28;01melif\u001B[39;00m (strategy \u001B[38;5;241m==\u001B[39m \u001B[38;5;124m\"\u001B[39m\u001B[38;5;124mfast\u001B[39m\u001B[38;5;124m\"\u001B[39m \u001B[38;5;129;01mor\u001B[39;00m fallback_to_fast) \u001B[38;5;129;01mand\u001B[39;00m \u001B[38;5;129;01mnot\u001B[39;00m fallback_to_hi_res:\n\u001B[1;32m    148\u001B[0m     \u001B[38;5;28;01mif\u001B[39;00m strategy \u001B[38;5;241m==\u001B[39m \u001B[38;5;124m\"\u001B[39m\u001B[38;5;124mhi_res\u001B[39m\u001B[38;5;124m\"\u001B[39m:\n",
      "File \u001B[0;32m~/micromamba/envs/genes-gpt/lib/python3.10/site-packages/unstructured/partition/pdf.py:224\u001B[0m, in \u001B[0;36m_partition_pdf_or_image_local\u001B[0;34m(filename, file, template, is_image, infer_table_structure, include_page_breaks, ocr_languages)\u001B[0m\n\u001B[1;32m    216\u001B[0m     \u001B[38;5;28;01mraise\u001B[39;00m \u001B[38;5;167;01mException\u001B[39;00m(\n\u001B[1;32m    217\u001B[0m         \u001B[38;5;124m\"\u001B[39m\u001B[38;5;124mThere was a problem importing unstructured_inference module - it may not be installed \u001B[39m\u001B[38;5;124m\"\u001B[39m\n\u001B[1;32m    218\u001B[0m         \u001B[38;5;124m\"\u001B[39m\u001B[38;5;124mcorrectly... try running pip install unstructured[local-inference] if you installed \u001B[39m\u001B[38;5;124m\"\u001B[39m\n\u001B[1;32m    219\u001B[0m         \u001B[38;5;124m\"\u001B[39m\u001B[38;5;124mthe unstructured library as a package. If you cloned the unstructured repository, try \u001B[39m\u001B[38;5;124m\"\u001B[39m\n\u001B[1;32m    220\u001B[0m         \u001B[38;5;124m\"\u001B[39m\u001B[38;5;124mrunning make install-local-inference from the root directory of the repository.\u001B[39m\u001B[38;5;124m\"\u001B[39m,\n\u001B[1;32m    221\u001B[0m     ) \u001B[38;5;28;01mfrom\u001B[39;00m \u001B[38;5;21;01me\u001B[39;00m\n\u001B[1;32m    223\u001B[0m \u001B[38;5;28;01mif\u001B[39;00m file \u001B[38;5;129;01mis\u001B[39;00m \u001B[38;5;28;01mNone\u001B[39;00m:\n\u001B[0;32m--> 224\u001B[0m     layout \u001B[38;5;241m=\u001B[39m \u001B[43mprocess_file_with_model\u001B[49m\u001B[43m(\u001B[49m\n\u001B[1;32m    225\u001B[0m \u001B[43m        \u001B[49m\u001B[43mfilename\u001B[49m\u001B[43m,\u001B[49m\n\u001B[1;32m    226\u001B[0m \u001B[43m        \u001B[49m\u001B[43mtemplate\u001B[49m\u001B[43m,\u001B[49m\n\u001B[1;32m    227\u001B[0m \u001B[43m        \u001B[49m\u001B[43mis_image\u001B[49m\u001B[38;5;241;43m=\u001B[39;49m\u001B[43mis_image\u001B[49m\u001B[43m,\u001B[49m\n\u001B[1;32m    228\u001B[0m \u001B[43m        \u001B[49m\u001B[43mocr_languages\u001B[49m\u001B[38;5;241;43m=\u001B[39;49m\u001B[43mocr_languages\u001B[49m\u001B[43m,\u001B[49m\n\u001B[1;32m    229\u001B[0m \u001B[43m        \u001B[49m\u001B[43mextract_tables\u001B[49m\u001B[38;5;241;43m=\u001B[39;49m\u001B[43minfer_table_structure\u001B[49m\u001B[43m,\u001B[49m\n\u001B[1;32m    230\u001B[0m \u001B[43m    \u001B[49m\u001B[43m)\u001B[49m\n\u001B[1;32m    231\u001B[0m \u001B[38;5;28;01melse\u001B[39;00m:\n\u001B[1;32m    232\u001B[0m     layout \u001B[38;5;241m=\u001B[39m process_data_with_model(\n\u001B[1;32m    233\u001B[0m         file,\n\u001B[1;32m    234\u001B[0m         template,\n\u001B[0;32m   (...)\u001B[0m\n\u001B[1;32m    237\u001B[0m         extract_tables\u001B[38;5;241m=\u001B[39minfer_table_structure,\n\u001B[1;32m    238\u001B[0m     )\n",
      "File \u001B[0;32m~/micromamba/envs/genes-gpt/lib/python3.10/site-packages/unstructured_inference/inference/layout.py:267\u001B[0m, in \u001B[0;36mprocess_file_with_model\u001B[0;34m(filename, model_name, is_image, ocr_strategy, ocr_languages, fixed_layouts, extract_tables)\u001B[0m\n\u001B[1;32m    255\u001B[0m \u001B[38;5;250m\u001B[39m\u001B[38;5;124;03m\"\"\"Processes pdf file with name filename into a DocumentLayout by using a model identified by\u001B[39;00m\n\u001B[1;32m    256\u001B[0m \u001B[38;5;124;03mmodel_name.\"\"\"\u001B[39;00m\n\u001B[1;32m    257\u001B[0m model \u001B[38;5;241m=\u001B[39m get_model(model_name)\n\u001B[1;32m    258\u001B[0m layout \u001B[38;5;241m=\u001B[39m (\n\u001B[1;32m    259\u001B[0m     DocumentLayout\u001B[38;5;241m.\u001B[39mfrom_image_file(\n\u001B[1;32m    260\u001B[0m         filename,\n\u001B[1;32m    261\u001B[0m         model\u001B[38;5;241m=\u001B[39mmodel,\n\u001B[1;32m    262\u001B[0m         ocr_strategy\u001B[38;5;241m=\u001B[39mocr_strategy,\n\u001B[1;32m    263\u001B[0m         ocr_languages\u001B[38;5;241m=\u001B[39mocr_languages,\n\u001B[1;32m    264\u001B[0m         extract_tables\u001B[38;5;241m=\u001B[39mextract_tables,\n\u001B[1;32m    265\u001B[0m     )\n\u001B[1;32m    266\u001B[0m     \u001B[38;5;28;01mif\u001B[39;00m is_image\n\u001B[0;32m--> 267\u001B[0m     \u001B[38;5;28;01melse\u001B[39;00m \u001B[43mDocumentLayout\u001B[49m\u001B[38;5;241;43m.\u001B[39;49m\u001B[43mfrom_file\u001B[49m\u001B[43m(\u001B[49m\n\u001B[1;32m    268\u001B[0m \u001B[43m        \u001B[49m\u001B[43mfilename\u001B[49m\u001B[43m,\u001B[49m\n\u001B[1;32m    269\u001B[0m \u001B[43m        \u001B[49m\u001B[43mmodel\u001B[49m\u001B[38;5;241;43m=\u001B[39;49m\u001B[43mmodel\u001B[49m\u001B[43m,\u001B[49m\n\u001B[1;32m    270\u001B[0m \u001B[43m        \u001B[49m\u001B[43mocr_strategy\u001B[49m\u001B[38;5;241;43m=\u001B[39;49m\u001B[43mocr_strategy\u001B[49m\u001B[43m,\u001B[49m\n\u001B[1;32m    271\u001B[0m \u001B[43m        \u001B[49m\u001B[43mocr_languages\u001B[49m\u001B[38;5;241;43m=\u001B[39;49m\u001B[43mocr_languages\u001B[49m\u001B[43m,\u001B[49m\n\u001B[1;32m    272\u001B[0m \u001B[43m        \u001B[49m\u001B[43mfixed_layouts\u001B[49m\u001B[38;5;241;43m=\u001B[39;49m\u001B[43mfixed_layouts\u001B[49m\u001B[43m,\u001B[49m\n\u001B[1;32m    273\u001B[0m \u001B[43m        \u001B[49m\u001B[43mextract_tables\u001B[49m\u001B[38;5;241;43m=\u001B[39;49m\u001B[43mextract_tables\u001B[49m\u001B[43m,\u001B[49m\n\u001B[1;32m    274\u001B[0m \u001B[43m    \u001B[49m\u001B[43m)\u001B[49m\n\u001B[1;32m    275\u001B[0m )\n\u001B[1;32m    276\u001B[0m \u001B[38;5;28;01mreturn\u001B[39;00m layout\n",
      "File \u001B[0;32m~/micromamba/envs/genes-gpt/lib/python3.10/site-packages/unstructured_inference/inference/layout.py:81\u001B[0m, in \u001B[0;36mDocumentLayout.from_file\u001B[0;34m(cls, filename, model, fixed_layouts, ocr_strategy, ocr_languages, extract_tables)\u001B[0m\n\u001B[1;32m     77\u001B[0m     fixed_layouts \u001B[38;5;241m=\u001B[39m [\u001B[38;5;28;01mNone\u001B[39;00m \u001B[38;5;28;01mfor\u001B[39;00m _ \u001B[38;5;129;01min\u001B[39;00m layouts]\n\u001B[1;32m     78\u001B[0m \u001B[38;5;28;01mfor\u001B[39;00m image, layout, fixed_layout \u001B[38;5;129;01min\u001B[39;00m \u001B[38;5;28mzip\u001B[39m(images, layouts, fixed_layouts):\n\u001B[1;32m     79\u001B[0m     \u001B[38;5;66;03m# NOTE(robinson) - In the future, maybe we detect the page number and default\u001B[39;00m\n\u001B[1;32m     80\u001B[0m     \u001B[38;5;66;03m# to the index if it is not detected\u001B[39;00m\n\u001B[0;32m---> 81\u001B[0m     page \u001B[38;5;241m=\u001B[39m \u001B[43mPageLayout\u001B[49m\u001B[38;5;241;43m.\u001B[39;49m\u001B[43mfrom_image\u001B[49m\u001B[43m(\u001B[49m\n\u001B[1;32m     82\u001B[0m \u001B[43m        \u001B[49m\u001B[43mimage\u001B[49m\u001B[43m,\u001B[49m\n\u001B[1;32m     83\u001B[0m \u001B[43m        \u001B[49m\u001B[43mmodel\u001B[49m\u001B[38;5;241;43m=\u001B[39;49m\u001B[43mmodel\u001B[49m\u001B[43m,\u001B[49m\n\u001B[1;32m     84\u001B[0m \u001B[43m        \u001B[49m\u001B[43mlayout\u001B[49m\u001B[38;5;241;43m=\u001B[39;49m\u001B[43mlayout\u001B[49m\u001B[43m,\u001B[49m\n\u001B[1;32m     85\u001B[0m \u001B[43m        \u001B[49m\u001B[43mocr_strategy\u001B[49m\u001B[38;5;241;43m=\u001B[39;49m\u001B[43mocr_strategy\u001B[49m\u001B[43m,\u001B[49m\n\u001B[1;32m     86\u001B[0m \u001B[43m        \u001B[49m\u001B[43mocr_languages\u001B[49m\u001B[38;5;241;43m=\u001B[39;49m\u001B[43mocr_languages\u001B[49m\u001B[43m,\u001B[49m\n\u001B[1;32m     87\u001B[0m \u001B[43m        \u001B[49m\u001B[43mfixed_layout\u001B[49m\u001B[38;5;241;43m=\u001B[39;49m\u001B[43mfixed_layout\u001B[49m\u001B[43m,\u001B[49m\n\u001B[1;32m     88\u001B[0m \u001B[43m        \u001B[49m\u001B[43mextract_tables\u001B[49m\u001B[38;5;241;43m=\u001B[39;49m\u001B[43mextract_tables\u001B[49m\u001B[43m,\u001B[49m\n\u001B[1;32m     89\u001B[0m \u001B[43m    \u001B[49m\u001B[43m)\u001B[49m\n\u001B[1;32m     90\u001B[0m     pages\u001B[38;5;241m.\u001B[39mappend(page)\n\u001B[1;32m     91\u001B[0m \u001B[38;5;28;01mreturn\u001B[39;00m \u001B[38;5;28mcls\u001B[39m\u001B[38;5;241m.\u001B[39mfrom_pages(pages)\n",
      "File \u001B[0;32m~/micromamba/envs/genes-gpt/lib/python3.10/site-packages/unstructured_inference/inference/layout.py:214\u001B[0m, in \u001B[0;36mPageLayout.from_image\u001B[0;34m(cls, image, model, layout, ocr_strategy, ocr_languages, extract_tables, fixed_layout)\u001B[0m\n\u001B[1;32m    204\u001B[0m page \u001B[38;5;241m=\u001B[39m \u001B[38;5;28mcls\u001B[39m(\n\u001B[1;32m    205\u001B[0m     number\u001B[38;5;241m=\u001B[39m\u001B[38;5;241m0\u001B[39m,\n\u001B[1;32m    206\u001B[0m     image\u001B[38;5;241m=\u001B[39mimage,\n\u001B[0;32m   (...)\u001B[0m\n\u001B[1;32m    211\u001B[0m     extract_tables\u001B[38;5;241m=\u001B[39mextract_tables,\n\u001B[1;32m    212\u001B[0m )\n\u001B[1;32m    213\u001B[0m \u001B[38;5;28;01mif\u001B[39;00m fixed_layout \u001B[38;5;129;01mis\u001B[39;00m \u001B[38;5;28;01mNone\u001B[39;00m:\n\u001B[0;32m--> 214\u001B[0m     \u001B[43mpage\u001B[49m\u001B[38;5;241;43m.\u001B[39;49m\u001B[43mget_elements_with_model\u001B[49m\u001B[43m(\u001B[49m\u001B[43m)\u001B[49m\n\u001B[1;32m    215\u001B[0m \u001B[38;5;28;01melse\u001B[39;00m:\n\u001B[1;32m    216\u001B[0m     page\u001B[38;5;241m.\u001B[39melements \u001B[38;5;241m=\u001B[39m page\u001B[38;5;241m.\u001B[39mget_elements_from_layout(fixed_layout)\n",
      "File \u001B[0;32m~/micromamba/envs/genes-gpt/lib/python3.10/site-packages/unstructured_inference/inference/layout.py:161\u001B[0m, in \u001B[0;36mPageLayout.get_elements_with_model\u001B[0;34m(self, inplace)\u001B[0m\n\u001B[1;32m    158\u001B[0m \u001B[38;5;66;03m# NOTE(mrobinson) - We'll want make this model inference step some kind of\u001B[39;00m\n\u001B[1;32m    159\u001B[0m \u001B[38;5;66;03m# remote call in the future.\u001B[39;00m\n\u001B[1;32m    160\u001B[0m inferred_layout \u001B[38;5;241m=\u001B[39m \u001B[38;5;28mself\u001B[39m\u001B[38;5;241m.\u001B[39mmodel(\u001B[38;5;28mself\u001B[39m\u001B[38;5;241m.\u001B[39mimage)\n\u001B[0;32m--> 161\u001B[0m elements \u001B[38;5;241m=\u001B[39m \u001B[38;5;28;43mself\u001B[39;49m\u001B[38;5;241;43m.\u001B[39;49m\u001B[43mget_elements_from_layout\u001B[49m\u001B[43m(\u001B[49m\u001B[43minferred_layout\u001B[49m\u001B[43m)\u001B[49m\n\u001B[1;32m    162\u001B[0m \u001B[38;5;28;01mif\u001B[39;00m inplace:\n\u001B[1;32m    163\u001B[0m     \u001B[38;5;28mself\u001B[39m\u001B[38;5;241m.\u001B[39melements \u001B[38;5;241m=\u001B[39m elements\n",
      "File \u001B[0;32m~/micromamba/envs/genes-gpt/lib/python3.10/site-packages/unstructured_inference/inference/layout.py:173\u001B[0m, in \u001B[0;36mPageLayout.get_elements_from_layout\u001B[0;34m(self, layout)\u001B[0m\n\u001B[1;32m    170\u001B[0m \u001B[38;5;66;03m# NOTE(robinson) - This orders the page from top to bottom. We'll need more\u001B[39;00m\n\u001B[1;32m    171\u001B[0m \u001B[38;5;66;03m# sophisticated ordering logic for more complicated layouts.\u001B[39;00m\n\u001B[1;32m    172\u001B[0m layout\u001B[38;5;241m.\u001B[39msort(key\u001B[38;5;241m=\u001B[39m\u001B[38;5;28;01mlambda\u001B[39;00m element: element\u001B[38;5;241m.\u001B[39my1)\n\u001B[0;32m--> 173\u001B[0m elements \u001B[38;5;241m=\u001B[39m [\n\u001B[1;32m    174\u001B[0m     get_element_from_block(\n\u001B[1;32m    175\u001B[0m         block\u001B[38;5;241m=\u001B[39me,\n\u001B[1;32m    176\u001B[0m         image\u001B[38;5;241m=\u001B[39m\u001B[38;5;28mself\u001B[39m\u001B[38;5;241m.\u001B[39mimage,\n\u001B[1;32m    177\u001B[0m         pdf_objects\u001B[38;5;241m=\u001B[39m\u001B[38;5;28mself\u001B[39m\u001B[38;5;241m.\u001B[39mlayout,\n\u001B[1;32m    178\u001B[0m         ocr_strategy\u001B[38;5;241m=\u001B[39m\u001B[38;5;28mself\u001B[39m\u001B[38;5;241m.\u001B[39mocr_strategy,\n\u001B[1;32m    179\u001B[0m         ocr_languages\u001B[38;5;241m=\u001B[39m\u001B[38;5;28mself\u001B[39m\u001B[38;5;241m.\u001B[39mocr_languages,\n\u001B[1;32m    180\u001B[0m         extract_tables\u001B[38;5;241m=\u001B[39m\u001B[38;5;28mself\u001B[39m\u001B[38;5;241m.\u001B[39mextract_tables,\n\u001B[1;32m    181\u001B[0m     )\n\u001B[1;32m    182\u001B[0m     \u001B[38;5;28;01mfor\u001B[39;00m e \u001B[38;5;129;01min\u001B[39;00m layout\n\u001B[1;32m    183\u001B[0m ]\n\u001B[1;32m    184\u001B[0m \u001B[38;5;28;01mreturn\u001B[39;00m elements\n",
      "File \u001B[0;32m~/micromamba/envs/genes-gpt/lib/python3.10/site-packages/unstructured_inference/inference/layout.py:174\u001B[0m, in \u001B[0;36m<listcomp>\u001B[0;34m(.0)\u001B[0m\n\u001B[1;32m    170\u001B[0m \u001B[38;5;66;03m# NOTE(robinson) - This orders the page from top to bottom. We'll need more\u001B[39;00m\n\u001B[1;32m    171\u001B[0m \u001B[38;5;66;03m# sophisticated ordering logic for more complicated layouts.\u001B[39;00m\n\u001B[1;32m    172\u001B[0m layout\u001B[38;5;241m.\u001B[39msort(key\u001B[38;5;241m=\u001B[39m\u001B[38;5;28;01mlambda\u001B[39;00m element: element\u001B[38;5;241m.\u001B[39my1)\n\u001B[1;32m    173\u001B[0m elements \u001B[38;5;241m=\u001B[39m [\n\u001B[0;32m--> 174\u001B[0m     \u001B[43mget_element_from_block\u001B[49m\u001B[43m(\u001B[49m\n\u001B[1;32m    175\u001B[0m \u001B[43m        \u001B[49m\u001B[43mblock\u001B[49m\u001B[38;5;241;43m=\u001B[39;49m\u001B[43me\u001B[49m\u001B[43m,\u001B[49m\n\u001B[1;32m    176\u001B[0m \u001B[43m        \u001B[49m\u001B[43mimage\u001B[49m\u001B[38;5;241;43m=\u001B[39;49m\u001B[38;5;28;43mself\u001B[39;49m\u001B[38;5;241;43m.\u001B[39;49m\u001B[43mimage\u001B[49m\u001B[43m,\u001B[49m\n\u001B[1;32m    177\u001B[0m \u001B[43m        \u001B[49m\u001B[43mpdf_objects\u001B[49m\u001B[38;5;241;43m=\u001B[39;49m\u001B[38;5;28;43mself\u001B[39;49m\u001B[38;5;241;43m.\u001B[39;49m\u001B[43mlayout\u001B[49m\u001B[43m,\u001B[49m\n\u001B[1;32m    178\u001B[0m \u001B[43m        \u001B[49m\u001B[43mocr_strategy\u001B[49m\u001B[38;5;241;43m=\u001B[39;49m\u001B[38;5;28;43mself\u001B[39;49m\u001B[38;5;241;43m.\u001B[39;49m\u001B[43mocr_strategy\u001B[49m\u001B[43m,\u001B[49m\n\u001B[1;32m    179\u001B[0m \u001B[43m        \u001B[49m\u001B[43mocr_languages\u001B[49m\u001B[38;5;241;43m=\u001B[39;49m\u001B[38;5;28;43mself\u001B[39;49m\u001B[38;5;241;43m.\u001B[39;49m\u001B[43mocr_languages\u001B[49m\u001B[43m,\u001B[49m\n\u001B[1;32m    180\u001B[0m \u001B[43m        \u001B[49m\u001B[43mextract_tables\u001B[49m\u001B[38;5;241;43m=\u001B[39;49m\u001B[38;5;28;43mself\u001B[39;49m\u001B[38;5;241;43m.\u001B[39;49m\u001B[43mextract_tables\u001B[49m\u001B[43m,\u001B[49m\n\u001B[1;32m    181\u001B[0m \u001B[43m    \u001B[49m\u001B[43m)\u001B[49m\n\u001B[1;32m    182\u001B[0m     \u001B[38;5;28;01mfor\u001B[39;00m e \u001B[38;5;129;01min\u001B[39;00m layout\n\u001B[1;32m    183\u001B[0m ]\n\u001B[1;32m    184\u001B[0m \u001B[38;5;28;01mreturn\u001B[39;00m elements\n",
      "File \u001B[0;32m~/micromamba/envs/genes-gpt/lib/python3.10/site-packages/unstructured_inference/inference/layout.py:293\u001B[0m, in \u001B[0;36mget_element_from_block\u001B[0;34m(block, image, pdf_objects, ocr_strategy, ocr_languages, extract_tables)\u001B[0m\n\u001B[1;32m    291\u001B[0m \u001B[38;5;28;01melse\u001B[39;00m:\n\u001B[1;32m    292\u001B[0m     element \u001B[38;5;241m=\u001B[39m LayoutElement\u001B[38;5;241m.\u001B[39mfrom_region(block)\n\u001B[0;32m--> 293\u001B[0m element\u001B[38;5;241m.\u001B[39mtext \u001B[38;5;241m=\u001B[39m \u001B[43melement\u001B[49m\u001B[38;5;241;43m.\u001B[39;49m\u001B[43mextract_text\u001B[49m\u001B[43m(\u001B[49m\n\u001B[1;32m    294\u001B[0m \u001B[43m    \u001B[49m\u001B[43mobjects\u001B[49m\u001B[38;5;241;43m=\u001B[39;49m\u001B[43mpdf_objects\u001B[49m\u001B[43m,\u001B[49m\n\u001B[1;32m    295\u001B[0m \u001B[43m    \u001B[49m\u001B[43mimage\u001B[49m\u001B[38;5;241;43m=\u001B[39;49m\u001B[43mimage\u001B[49m\u001B[43m,\u001B[49m\n\u001B[1;32m    296\u001B[0m \u001B[43m    \u001B[49m\u001B[43mextract_tables\u001B[49m\u001B[38;5;241;43m=\u001B[39;49m\u001B[43mextract_tables\u001B[49m\u001B[43m,\u001B[49m\n\u001B[1;32m    297\u001B[0m \u001B[43m    \u001B[49m\u001B[43mocr_strategy\u001B[49m\u001B[38;5;241;43m=\u001B[39;49m\u001B[43mocr_strategy\u001B[49m\u001B[43m,\u001B[49m\n\u001B[1;32m    298\u001B[0m \u001B[43m    \u001B[49m\u001B[43mocr_languages\u001B[49m\u001B[38;5;241;43m=\u001B[39;49m\u001B[43mocr_languages\u001B[49m\u001B[43m,\u001B[49m\n\u001B[1;32m    299\u001B[0m \u001B[43m\u001B[49m\u001B[43m)\u001B[49m\n\u001B[1;32m    300\u001B[0m \u001B[38;5;28;01mreturn\u001B[39;00m element\n",
      "File \u001B[0;32m~/micromamba/envs/genes-gpt/lib/python3.10/site-packages/unstructured_inference/inference/layoutelement.py:25\u001B[0m, in \u001B[0;36mLayoutElement.extract_text\u001B[0;34m(self, objects, image, extract_tables, ocr_strategy, ocr_languages)\u001B[0m\n\u001B[1;32m     16\u001B[0m \u001B[38;5;28;01mdef\u001B[39;00m \u001B[38;5;21mextract_text\u001B[39m(\n\u001B[1;32m     17\u001B[0m     \u001B[38;5;28mself\u001B[39m,\n\u001B[1;32m     18\u001B[0m     objects: Optional[List[TextRegion]],\n\u001B[0;32m   (...)\u001B[0m\n\u001B[1;32m     22\u001B[0m     ocr_languages: \u001B[38;5;28mstr\u001B[39m \u001B[38;5;241m=\u001B[39m \u001B[38;5;124m\"\u001B[39m\u001B[38;5;124meng\u001B[39m\u001B[38;5;124m\"\u001B[39m,\n\u001B[1;32m     23\u001B[0m ):\n\u001B[1;32m     24\u001B[0m \u001B[38;5;250m    \u001B[39m\u001B[38;5;124;03m\"\"\"Extracts text contained in region\"\"\"\u001B[39;00m\n\u001B[0;32m---> 25\u001B[0m     text \u001B[38;5;241m=\u001B[39m \u001B[38;5;28;43msuper\u001B[39;49m\u001B[43m(\u001B[49m\u001B[43m)\u001B[49m\u001B[38;5;241;43m.\u001B[39;49m\u001B[43mextract_text\u001B[49m\u001B[43m(\u001B[49m\n\u001B[1;32m     26\u001B[0m \u001B[43m        \u001B[49m\u001B[43mobjects\u001B[49m\u001B[38;5;241;43m=\u001B[39;49m\u001B[43mobjects\u001B[49m\u001B[43m,\u001B[49m\n\u001B[1;32m     27\u001B[0m \u001B[43m        \u001B[49m\u001B[43mimage\u001B[49m\u001B[38;5;241;43m=\u001B[39;49m\u001B[43mimage\u001B[49m\u001B[43m,\u001B[49m\n\u001B[1;32m     28\u001B[0m \u001B[43m        \u001B[49m\u001B[43mextract_tables\u001B[49m\u001B[38;5;241;43m=\u001B[39;49m\u001B[43mextract_tables\u001B[49m\u001B[43m,\u001B[49m\n\u001B[1;32m     29\u001B[0m \u001B[43m        \u001B[49m\u001B[43mocr_strategy\u001B[49m\u001B[38;5;241;43m=\u001B[39;49m\u001B[43mocr_strategy\u001B[49m\u001B[43m,\u001B[49m\n\u001B[1;32m     30\u001B[0m \u001B[43m        \u001B[49m\u001B[43mocr_languages\u001B[49m\u001B[38;5;241;43m=\u001B[39;49m\u001B[43mocr_languages\u001B[49m\u001B[43m,\u001B[49m\n\u001B[1;32m     31\u001B[0m \u001B[43m    \u001B[49m\u001B[43m)\u001B[49m\n\u001B[1;32m     32\u001B[0m     \u001B[38;5;28;01mif\u001B[39;00m extract_tables \u001B[38;5;129;01mand\u001B[39;00m \u001B[38;5;28mself\u001B[39m\u001B[38;5;241m.\u001B[39mtype \u001B[38;5;241m==\u001B[39m \u001B[38;5;124m\"\u001B[39m\u001B[38;5;124mTable\u001B[39m\u001B[38;5;124m\"\u001B[39m:\n\u001B[1;32m     33\u001B[0m         \u001B[38;5;28mself\u001B[39m\u001B[38;5;241m.\u001B[39mtext_as_html \u001B[38;5;241m=\u001B[39m interpret_table_block(\u001B[38;5;28mself\u001B[39m, image)\n",
      "File \u001B[0;32m~/micromamba/envs/genes-gpt/lib/python3.10/site-packages/unstructured_inference/inference/elements.py:172\u001B[0m, in \u001B[0;36mTextRegion.extract_text\u001B[0;34m(self, objects, image, extract_tables, ocr_strategy, ocr_languages)\u001B[0m\n\u001B[1;32m    170\u001B[0m     text \u001B[38;5;241m=\u001B[39m \u001B[38;5;28mself\u001B[39m\u001B[38;5;241m.\u001B[39mtext\n\u001B[1;32m    171\u001B[0m \u001B[38;5;28;01melif\u001B[39;00m objects \u001B[38;5;129;01mis\u001B[39;00m \u001B[38;5;129;01mnot\u001B[39;00m \u001B[38;5;28;01mNone\u001B[39;00m:\n\u001B[0;32m--> 172\u001B[0m     text \u001B[38;5;241m=\u001B[39m \u001B[43maggregate_by_block\u001B[49m\u001B[43m(\u001B[49m\u001B[38;5;28;43mself\u001B[39;49m\u001B[43m,\u001B[49m\u001B[43m \u001B[49m\u001B[43mimage\u001B[49m\u001B[43m,\u001B[49m\u001B[43m \u001B[49m\u001B[43mobjects\u001B[49m\u001B[43m,\u001B[49m\u001B[43m \u001B[49m\u001B[43mocr_strategy\u001B[49m\u001B[43m)\u001B[49m\n\u001B[1;32m    173\u001B[0m \u001B[38;5;28;01melif\u001B[39;00m image \u001B[38;5;129;01mis\u001B[39;00m \u001B[38;5;129;01mnot\u001B[39;00m \u001B[38;5;28;01mNone\u001B[39;00m:\n\u001B[1;32m    174\u001B[0m     \u001B[38;5;28;01mif\u001B[39;00m ocr_strategy \u001B[38;5;241m!=\u001B[39m \u001B[38;5;124m\"\u001B[39m\u001B[38;5;124mnever\u001B[39m\u001B[38;5;124m\"\u001B[39m:\n\u001B[1;32m    175\u001B[0m         \u001B[38;5;66;03m# We don't have anything to go on but the image itself, so we use OCR\u001B[39;00m\n",
      "File \u001B[0;32m~/micromamba/envs/genes-gpt/lib/python3.10/site-packages/unstructured_inference/inference/elements.py:282\u001B[0m, in \u001B[0;36maggregate_by_block\u001B[0;34m(text_region, image, pdf_objects, ocr_strategy, ocr_languages)\u001B[0m\n\u001B[1;32m    280\u001B[0m     \u001B[38;5;28;01mfor\u001B[39;00m little_block \u001B[38;5;129;01min\u001B[39;00m filtered_blocks:\n\u001B[1;32m    281\u001B[0m         \u001B[38;5;28;01mif\u001B[39;00m image \u001B[38;5;129;01mis\u001B[39;00m \u001B[38;5;129;01mnot\u001B[39;00m \u001B[38;5;28;01mNone\u001B[39;00m \u001B[38;5;129;01mand\u001B[39;00m needs_ocr(little_block, pdf_objects, ocr_strategy):\n\u001B[0;32m--> 282\u001B[0m             little_block\u001B[38;5;241m.\u001B[39mtext \u001B[38;5;241m=\u001B[39m \u001B[43mocr\u001B[49m\u001B[43m(\u001B[49m\u001B[43mlittle_block\u001B[49m\u001B[43m,\u001B[49m\u001B[43m \u001B[49m\u001B[43mimage\u001B[49m\u001B[43m,\u001B[49m\u001B[43m \u001B[49m\u001B[43mlanguages\u001B[49m\u001B[38;5;241;43m=\u001B[39;49m\u001B[43mocr_languages\u001B[49m\u001B[43m)\u001B[49m\n\u001B[1;32m    283\u001B[0m     text \u001B[38;5;241m=\u001B[39m \u001B[38;5;124m\"\u001B[39m\u001B[38;5;124m \u001B[39m\u001B[38;5;124m\"\u001B[39m\u001B[38;5;241m.\u001B[39mjoin([x\u001B[38;5;241m.\u001B[39mtext \u001B[38;5;28;01mfor\u001B[39;00m x \u001B[38;5;129;01min\u001B[39;00m filtered_blocks \u001B[38;5;28;01mif\u001B[39;00m x\u001B[38;5;241m.\u001B[39mtext])\n\u001B[1;32m    284\u001B[0m text \u001B[38;5;241m=\u001B[39m remove_control_characters(text)\n",
      "File \u001B[0;32m~/micromamba/envs/genes-gpt/lib/python3.10/site-packages/unstructured_inference/inference/elements.py:231\u001B[0m, in \u001B[0;36mocr\u001B[0;34m(text_block, image, languages)\u001B[0m\n\u001B[1;32m    229\u001B[0m \u001B[38;5;28;01mif\u001B[39;00m agent \u001B[38;5;129;01mis\u001B[39;00m \u001B[38;5;28;01mNone\u001B[39;00m:\n\u001B[1;32m    230\u001B[0m     \u001B[38;5;28;01mraise\u001B[39;00m \u001B[38;5;167;01mRuntimeError\u001B[39;00m(\u001B[38;5;124m\"\u001B[39m\u001B[38;5;124mOCR agent is not loaded for \u001B[39m\u001B[38;5;132;01m{languages}\u001B[39;00m\u001B[38;5;124m.\u001B[39m\u001B[38;5;124m\"\u001B[39m)\n\u001B[0;32m--> 231\u001B[0m \u001B[38;5;28;01mreturn\u001B[39;00m \u001B[43magent\u001B[49m\u001B[38;5;241;43m.\u001B[39;49m\u001B[43mdetect\u001B[49m\u001B[43m(\u001B[49m\u001B[43mcropped_image\u001B[49m\u001B[43m)\u001B[49m\n",
      "File \u001B[0;32m~/micromamba/envs/genes-gpt/lib/python3.10/site-packages/layoutparser/ocr/tesseract_agent.py:122\u001B[0m, in \u001B[0;36mTesseractAgent.detect\u001B[0;34m(self, image, return_response, return_only_text, agg_output_level)\u001B[0m\n\u001B[1;32m    102\u001B[0m \u001B[38;5;28;01mdef\u001B[39;00m \u001B[38;5;21mdetect\u001B[39m(\n\u001B[1;32m    103\u001B[0m     \u001B[38;5;28mself\u001B[39m, image, return_response\u001B[38;5;241m=\u001B[39m\u001B[38;5;28;01mFalse\u001B[39;00m, return_only_text\u001B[38;5;241m=\u001B[39m\u001B[38;5;28;01mTrue\u001B[39;00m, agg_output_level\u001B[38;5;241m=\u001B[39m\u001B[38;5;28;01mNone\u001B[39;00m\n\u001B[1;32m    104\u001B[0m ):\n\u001B[1;32m    105\u001B[0m \u001B[38;5;250m    \u001B[39m\u001B[38;5;124;03m\"\"\"Send the input image for OCR.\u001B[39;00m\n\u001B[1;32m    106\u001B[0m \n\u001B[1;32m    107\u001B[0m \u001B[38;5;124;03m    Args:\u001B[39;00m\n\u001B[0;32m   (...)\u001B[0m\n\u001B[1;32m    119\u001B[0m \u001B[38;5;124;03m            specified aggregation level. Defaults to `None`.\u001B[39;00m\n\u001B[1;32m    120\u001B[0m \u001B[38;5;124;03m    \"\"\"\u001B[39;00m\n\u001B[0;32m--> 122\u001B[0m     res \u001B[38;5;241m=\u001B[39m \u001B[38;5;28;43mself\u001B[39;49m\u001B[38;5;241;43m.\u001B[39;49m\u001B[43m_detect\u001B[49m\u001B[43m(\u001B[49m\u001B[43mimage\u001B[49m\u001B[43m)\u001B[49m\n\u001B[1;32m    124\u001B[0m     \u001B[38;5;28;01mif\u001B[39;00m return_response:\n\u001B[1;32m    125\u001B[0m         \u001B[38;5;28;01mreturn\u001B[39;00m res\n",
      "File \u001B[0;32m~/micromamba/envs/genes-gpt/lib/python3.10/site-packages/layoutparser/ocr/tesseract_agent.py:92\u001B[0m, in \u001B[0;36mTesseractAgent._detect\u001B[0;34m(self, img_content)\u001B[0m\n\u001B[1;32m     88\u001B[0m res \u001B[38;5;241m=\u001B[39m {}\n\u001B[1;32m     89\u001B[0m res[\u001B[38;5;124m\"\u001B[39m\u001B[38;5;124mtext\u001B[39m\u001B[38;5;124m\"\u001B[39m] \u001B[38;5;241m=\u001B[39m pytesseract\u001B[38;5;241m.\u001B[39mimage_to_string(\n\u001B[1;32m     90\u001B[0m     img_content, lang\u001B[38;5;241m=\u001B[39m\u001B[38;5;28mself\u001B[39m\u001B[38;5;241m.\u001B[39mlang, \u001B[38;5;241m*\u001B[39m\u001B[38;5;241m*\u001B[39m\u001B[38;5;28mself\u001B[39m\u001B[38;5;241m.\u001B[39mconfigs\n\u001B[1;32m     91\u001B[0m )\n\u001B[0;32m---> 92\u001B[0m _data \u001B[38;5;241m=\u001B[39m \u001B[43mpytesseract\u001B[49m\u001B[38;5;241;43m.\u001B[39;49m\u001B[43mimage_to_data\u001B[49m\u001B[43m(\u001B[49m\u001B[43mimg_content\u001B[49m\u001B[43m,\u001B[49m\u001B[43m \u001B[49m\u001B[43mlang\u001B[49m\u001B[38;5;241;43m=\u001B[39;49m\u001B[38;5;28;43mself\u001B[39;49m\u001B[38;5;241;43m.\u001B[39;49m\u001B[43mlang\u001B[49m\u001B[43m,\u001B[49m\u001B[43m \u001B[49m\u001B[38;5;241;43m*\u001B[39;49m\u001B[38;5;241;43m*\u001B[39;49m\u001B[38;5;28;43mself\u001B[39;49m\u001B[38;5;241;43m.\u001B[39;49m\u001B[43mconfigs\u001B[49m\u001B[43m)\u001B[49m\n\u001B[1;32m     93\u001B[0m res[\u001B[38;5;124m\"\u001B[39m\u001B[38;5;124mdata\u001B[39m\u001B[38;5;124m\"\u001B[39m] \u001B[38;5;241m=\u001B[39m pd\u001B[38;5;241m.\u001B[39mread_csv(\n\u001B[1;32m     94\u001B[0m     io\u001B[38;5;241m.\u001B[39mStringIO(_data),\n\u001B[1;32m     95\u001B[0m     quoting\u001B[38;5;241m=\u001B[39mcsv\u001B[38;5;241m.\u001B[39mQUOTE_NONE,\n\u001B[0;32m   (...)\u001B[0m\n\u001B[1;32m     98\u001B[0m     converters\u001B[38;5;241m=\u001B[39m{\u001B[38;5;124m\"\u001B[39m\u001B[38;5;124mtext\u001B[39m\u001B[38;5;124m\"\u001B[39m: \u001B[38;5;28mstr\u001B[39m},\n\u001B[1;32m     99\u001B[0m )\n\u001B[1;32m    100\u001B[0m \u001B[38;5;28;01mreturn\u001B[39;00m res\n",
      "File \u001B[0;32m~/micromamba/envs/genes-gpt/lib/python3.10/site-packages/pytesseract/pytesseract.py:527\u001B[0m, in \u001B[0;36mimage_to_data\u001B[0;34m(image, lang, config, nice, output_type, timeout, pandas_config)\u001B[0m\n\u001B[1;32m    524\u001B[0m config \u001B[38;5;241m=\u001B[39m \u001B[38;5;124mf\u001B[39m\u001B[38;5;124m'\u001B[39m\u001B[38;5;124m-c tessedit_create_tsv=1 \u001B[39m\u001B[38;5;132;01m{\u001B[39;00mconfig\u001B[38;5;241m.\u001B[39mstrip()\u001B[38;5;132;01m}\u001B[39;00m\u001B[38;5;124m'\u001B[39m\n\u001B[1;32m    525\u001B[0m args \u001B[38;5;241m=\u001B[39m [image, \u001B[38;5;124m'\u001B[39m\u001B[38;5;124mtsv\u001B[39m\u001B[38;5;124m'\u001B[39m, lang, config, nice, timeout]\n\u001B[0;32m--> 527\u001B[0m \u001B[38;5;28;01mreturn\u001B[39;00m \u001B[43m{\u001B[49m\n\u001B[1;32m    528\u001B[0m \u001B[43m    \u001B[49m\u001B[43mOutput\u001B[49m\u001B[38;5;241;43m.\u001B[39;49m\u001B[43mBYTES\u001B[49m\u001B[43m:\u001B[49m\u001B[43m \u001B[49m\u001B[38;5;28;43;01mlambda\u001B[39;49;00m\u001B[43m:\u001B[49m\u001B[43m \u001B[49m\u001B[43mrun_and_get_output\u001B[49m\u001B[43m(\u001B[49m\u001B[38;5;241;43m*\u001B[39;49m\u001B[43m(\u001B[49m\u001B[43margs\u001B[49m\u001B[43m \u001B[49m\u001B[38;5;241;43m+\u001B[39;49m\u001B[43m \u001B[49m\u001B[43m[\u001B[49m\u001B[38;5;28;43;01mTrue\u001B[39;49;00m\u001B[43m]\u001B[49m\u001B[43m)\u001B[49m\u001B[43m)\u001B[49m\u001B[43m,\u001B[49m\n\u001B[1;32m    529\u001B[0m \u001B[43m    \u001B[49m\u001B[43mOutput\u001B[49m\u001B[38;5;241;43m.\u001B[39;49m\u001B[43mDATAFRAME\u001B[49m\u001B[43m:\u001B[49m\u001B[43m \u001B[49m\u001B[38;5;28;43;01mlambda\u001B[39;49;00m\u001B[43m:\u001B[49m\u001B[43m \u001B[49m\u001B[43mget_pandas_output\u001B[49m\u001B[43m(\u001B[49m\n\u001B[1;32m    530\u001B[0m \u001B[43m        \u001B[49m\u001B[43margs\u001B[49m\u001B[43m \u001B[49m\u001B[38;5;241;43m+\u001B[39;49m\u001B[43m \u001B[49m\u001B[43m[\u001B[49m\u001B[38;5;28;43;01mTrue\u001B[39;49;00m\u001B[43m]\u001B[49m\u001B[43m,\u001B[49m\n\u001B[1;32m    531\u001B[0m \u001B[43m        \u001B[49m\u001B[43mpandas_config\u001B[49m\u001B[43m,\u001B[49m\n\u001B[1;32m    532\u001B[0m \u001B[43m    \u001B[49m\u001B[43m)\u001B[49m\u001B[43m,\u001B[49m\n\u001B[1;32m    533\u001B[0m \u001B[43m    \u001B[49m\u001B[43mOutput\u001B[49m\u001B[38;5;241;43m.\u001B[39;49m\u001B[43mDICT\u001B[49m\u001B[43m:\u001B[49m\u001B[43m \u001B[49m\u001B[38;5;28;43;01mlambda\u001B[39;49;00m\u001B[43m:\u001B[49m\u001B[43m \u001B[49m\u001B[43mfile_to_dict\u001B[49m\u001B[43m(\u001B[49m\u001B[43mrun_and_get_output\u001B[49m\u001B[43m(\u001B[49m\u001B[38;5;241;43m*\u001B[39;49m\u001B[43margs\u001B[49m\u001B[43m)\u001B[49m\u001B[43m,\u001B[49m\u001B[43m \u001B[49m\u001B[38;5;124;43m'\u001B[39;49m\u001B[38;5;130;43;01m\\t\u001B[39;49;00m\u001B[38;5;124;43m'\u001B[39;49m\u001B[43m,\u001B[49m\u001B[43m \u001B[49m\u001B[38;5;241;43m-\u001B[39;49m\u001B[38;5;241;43m1\u001B[39;49m\u001B[43m)\u001B[49m\u001B[43m,\u001B[49m\n\u001B[1;32m    534\u001B[0m \u001B[43m    \u001B[49m\u001B[43mOutput\u001B[49m\u001B[38;5;241;43m.\u001B[39;49m\u001B[43mSTRING\u001B[49m\u001B[43m:\u001B[49m\u001B[43m \u001B[49m\u001B[38;5;28;43;01mlambda\u001B[39;49;00m\u001B[43m:\u001B[49m\u001B[43m \u001B[49m\u001B[43mrun_and_get_output\u001B[49m\u001B[43m(\u001B[49m\u001B[38;5;241;43m*\u001B[39;49m\u001B[43margs\u001B[49m\u001B[43m)\u001B[49m\u001B[43m,\u001B[49m\n\u001B[1;32m    535\u001B[0m \u001B[43m\u001B[49m\u001B[43m}\u001B[49m\u001B[43m[\u001B[49m\u001B[43moutput_type\u001B[49m\u001B[43m]\u001B[49m\u001B[43m(\u001B[49m\u001B[43m)\u001B[49m\n",
      "File \u001B[0;32m~/micromamba/envs/genes-gpt/lib/python3.10/site-packages/pytesseract/pytesseract.py:534\u001B[0m, in \u001B[0;36mimage_to_data.<locals>.<lambda>\u001B[0;34m()\u001B[0m\n\u001B[1;32m    524\u001B[0m config \u001B[38;5;241m=\u001B[39m \u001B[38;5;124mf\u001B[39m\u001B[38;5;124m'\u001B[39m\u001B[38;5;124m-c tessedit_create_tsv=1 \u001B[39m\u001B[38;5;132;01m{\u001B[39;00mconfig\u001B[38;5;241m.\u001B[39mstrip()\u001B[38;5;132;01m}\u001B[39;00m\u001B[38;5;124m'\u001B[39m\n\u001B[1;32m    525\u001B[0m args \u001B[38;5;241m=\u001B[39m [image, \u001B[38;5;124m'\u001B[39m\u001B[38;5;124mtsv\u001B[39m\u001B[38;5;124m'\u001B[39m, lang, config, nice, timeout]\n\u001B[1;32m    527\u001B[0m \u001B[38;5;28;01mreturn\u001B[39;00m {\n\u001B[1;32m    528\u001B[0m     Output\u001B[38;5;241m.\u001B[39mBYTES: \u001B[38;5;28;01mlambda\u001B[39;00m: run_and_get_output(\u001B[38;5;241m*\u001B[39m(args \u001B[38;5;241m+\u001B[39m [\u001B[38;5;28;01mTrue\u001B[39;00m])),\n\u001B[1;32m    529\u001B[0m     Output\u001B[38;5;241m.\u001B[39mDATAFRAME: \u001B[38;5;28;01mlambda\u001B[39;00m: get_pandas_output(\n\u001B[1;32m    530\u001B[0m         args \u001B[38;5;241m+\u001B[39m [\u001B[38;5;28;01mTrue\u001B[39;00m],\n\u001B[1;32m    531\u001B[0m         pandas_config,\n\u001B[1;32m    532\u001B[0m     ),\n\u001B[1;32m    533\u001B[0m     Output\u001B[38;5;241m.\u001B[39mDICT: \u001B[38;5;28;01mlambda\u001B[39;00m: file_to_dict(run_and_get_output(\u001B[38;5;241m*\u001B[39margs), \u001B[38;5;124m'\u001B[39m\u001B[38;5;130;01m\\t\u001B[39;00m\u001B[38;5;124m'\u001B[39m, \u001B[38;5;241m-\u001B[39m\u001B[38;5;241m1\u001B[39m),\n\u001B[0;32m--> 534\u001B[0m     Output\u001B[38;5;241m.\u001B[39mSTRING: \u001B[38;5;28;01mlambda\u001B[39;00m: \u001B[43mrun_and_get_output\u001B[49m\u001B[43m(\u001B[49m\u001B[38;5;241;43m*\u001B[39;49m\u001B[43margs\u001B[49m\u001B[43m)\u001B[49m,\n\u001B[1;32m    535\u001B[0m }[output_type]()\n",
      "File \u001B[0;32m~/micromamba/envs/genes-gpt/lib/python3.10/site-packages/pytesseract/pytesseract.py:288\u001B[0m, in \u001B[0;36mrun_and_get_output\u001B[0;34m(image, extension, lang, config, nice, timeout, return_bytes)\u001B[0m\n\u001B[1;32m    277\u001B[0m \u001B[38;5;28;01mwith\u001B[39;00m save(image) \u001B[38;5;28;01mas\u001B[39;00m (temp_name, input_filename):\n\u001B[1;32m    278\u001B[0m     kwargs \u001B[38;5;241m=\u001B[39m {\n\u001B[1;32m    279\u001B[0m         \u001B[38;5;124m'\u001B[39m\u001B[38;5;124minput_filename\u001B[39m\u001B[38;5;124m'\u001B[39m: input_filename,\n\u001B[1;32m    280\u001B[0m         \u001B[38;5;124m'\u001B[39m\u001B[38;5;124moutput_filename_base\u001B[39m\u001B[38;5;124m'\u001B[39m: temp_name,\n\u001B[0;32m   (...)\u001B[0m\n\u001B[1;32m    285\u001B[0m         \u001B[38;5;124m'\u001B[39m\u001B[38;5;124mtimeout\u001B[39m\u001B[38;5;124m'\u001B[39m: timeout,\n\u001B[1;32m    286\u001B[0m     }\n\u001B[0;32m--> 288\u001B[0m     \u001B[43mrun_tesseract\u001B[49m\u001B[43m(\u001B[49m\u001B[38;5;241;43m*\u001B[39;49m\u001B[38;5;241;43m*\u001B[39;49m\u001B[43mkwargs\u001B[49m\u001B[43m)\u001B[49m\n\u001B[1;32m    289\u001B[0m     filename \u001B[38;5;241m=\u001B[39m \u001B[38;5;124mf\u001B[39m\u001B[38;5;124m\"\u001B[39m\u001B[38;5;132;01m{\u001B[39;00mkwargs[\u001B[38;5;124m'\u001B[39m\u001B[38;5;124moutput_filename_base\u001B[39m\u001B[38;5;124m'\u001B[39m]\u001B[38;5;132;01m}\u001B[39;00m\u001B[38;5;132;01m{\u001B[39;00mextsep\u001B[38;5;132;01m}\u001B[39;00m\u001B[38;5;132;01m{\u001B[39;00mextension\u001B[38;5;132;01m}\u001B[39;00m\u001B[38;5;124m\"\u001B[39m\n\u001B[1;32m    290\u001B[0m     \u001B[38;5;28;01mwith\u001B[39;00m \u001B[38;5;28mopen\u001B[39m(filename, \u001B[38;5;124m'\u001B[39m\u001B[38;5;124mrb\u001B[39m\u001B[38;5;124m'\u001B[39m) \u001B[38;5;28;01mas\u001B[39;00m output_file:\n",
      "File \u001B[0;32m~/micromamba/envs/genes-gpt/lib/python3.10/site-packages/pytesseract/pytesseract.py:262\u001B[0m, in \u001B[0;36mrun_tesseract\u001B[0;34m(input_filename, output_filename_base, extension, lang, config, nice, timeout)\u001B[0m\n\u001B[1;32m    259\u001B[0m     \u001B[38;5;28;01melse\u001B[39;00m:\n\u001B[1;32m    260\u001B[0m         \u001B[38;5;28;01mraise\u001B[39;00m TesseractNotFoundError()\n\u001B[0;32m--> 262\u001B[0m \u001B[38;5;28;01mwith\u001B[39;00m timeout_manager(proc, timeout) \u001B[38;5;28;01mas\u001B[39;00m error_string:\n\u001B[1;32m    263\u001B[0m     \u001B[38;5;28;01mif\u001B[39;00m proc\u001B[38;5;241m.\u001B[39mreturncode:\n\u001B[1;32m    264\u001B[0m         \u001B[38;5;28;01mraise\u001B[39;00m TesseractError(proc\u001B[38;5;241m.\u001B[39mreturncode, get_errors(error_string))\n",
      "File \u001B[0;32m~/micromamba/envs/genes-gpt/lib/python3.10/contextlib.py:135\u001B[0m, in \u001B[0;36m_GeneratorContextManager.__enter__\u001B[0;34m(self)\u001B[0m\n\u001B[1;32m    133\u001B[0m \u001B[38;5;28;01mdel\u001B[39;00m \u001B[38;5;28mself\u001B[39m\u001B[38;5;241m.\u001B[39margs, \u001B[38;5;28mself\u001B[39m\u001B[38;5;241m.\u001B[39mkwds, \u001B[38;5;28mself\u001B[39m\u001B[38;5;241m.\u001B[39mfunc\n\u001B[1;32m    134\u001B[0m \u001B[38;5;28;01mtry\u001B[39;00m:\n\u001B[0;32m--> 135\u001B[0m     \u001B[38;5;28;01mreturn\u001B[39;00m \u001B[38;5;28;43mnext\u001B[39;49m\u001B[43m(\u001B[49m\u001B[38;5;28;43mself\u001B[39;49m\u001B[38;5;241;43m.\u001B[39;49m\u001B[43mgen\u001B[49m\u001B[43m)\u001B[49m\n\u001B[1;32m    136\u001B[0m \u001B[38;5;28;01mexcept\u001B[39;00m \u001B[38;5;167;01mStopIteration\u001B[39;00m:\n\u001B[1;32m    137\u001B[0m     \u001B[38;5;28;01mraise\u001B[39;00m \u001B[38;5;167;01mRuntimeError\u001B[39;00m(\u001B[38;5;124m\"\u001B[39m\u001B[38;5;124mgenerator didn\u001B[39m\u001B[38;5;124m'\u001B[39m\u001B[38;5;124mt yield\u001B[39m\u001B[38;5;124m\"\u001B[39m) \u001B[38;5;28;01mfrom\u001B[39;00m \u001B[38;5;28;01mNone\u001B[39;00m\n",
      "File \u001B[0;32m~/micromamba/envs/genes-gpt/lib/python3.10/site-packages/pytesseract/pytesseract.py:127\u001B[0m, in \u001B[0;36mtimeout_manager\u001B[0;34m(proc, seconds)\u001B[0m\n\u001B[1;32m    125\u001B[0m \u001B[38;5;28;01mtry\u001B[39;00m:\n\u001B[1;32m    126\u001B[0m     \u001B[38;5;28;01mif\u001B[39;00m \u001B[38;5;129;01mnot\u001B[39;00m seconds:\n\u001B[0;32m--> 127\u001B[0m         \u001B[38;5;28;01myield\u001B[39;00m \u001B[43mproc\u001B[49m\u001B[38;5;241;43m.\u001B[39;49m\u001B[43mcommunicate\u001B[49m\u001B[43m(\u001B[49m\u001B[43m)\u001B[49m[\u001B[38;5;241m1\u001B[39m]\n\u001B[1;32m    128\u001B[0m         \u001B[38;5;28;01mreturn\u001B[39;00m\n\u001B[1;32m    130\u001B[0m     \u001B[38;5;28;01mtry\u001B[39;00m:\n",
      "File \u001B[0;32m~/micromamba/envs/genes-gpt/lib/python3.10/subprocess.py:1154\u001B[0m, in \u001B[0;36mPopen.communicate\u001B[0;34m(self, input, timeout)\u001B[0m\n\u001B[1;32m   1151\u001B[0m     endtime \u001B[38;5;241m=\u001B[39m \u001B[38;5;28;01mNone\u001B[39;00m\n\u001B[1;32m   1153\u001B[0m \u001B[38;5;28;01mtry\u001B[39;00m:\n\u001B[0;32m-> 1154\u001B[0m     stdout, stderr \u001B[38;5;241m=\u001B[39m \u001B[38;5;28;43mself\u001B[39;49m\u001B[38;5;241;43m.\u001B[39;49m\u001B[43m_communicate\u001B[49m\u001B[43m(\u001B[49m\u001B[38;5;28;43minput\u001B[39;49m\u001B[43m,\u001B[49m\u001B[43m \u001B[49m\u001B[43mendtime\u001B[49m\u001B[43m,\u001B[49m\u001B[43m \u001B[49m\u001B[43mtimeout\u001B[49m\u001B[43m)\u001B[49m\n\u001B[1;32m   1155\u001B[0m \u001B[38;5;28;01mexcept\u001B[39;00m \u001B[38;5;167;01mKeyboardInterrupt\u001B[39;00m:\n\u001B[1;32m   1156\u001B[0m     \u001B[38;5;66;03m# https://bugs.python.org/issue25942\u001B[39;00m\n\u001B[1;32m   1157\u001B[0m     \u001B[38;5;66;03m# See the detailed comment in .wait().\u001B[39;00m\n\u001B[1;32m   1158\u001B[0m     \u001B[38;5;28;01mif\u001B[39;00m timeout \u001B[38;5;129;01mis\u001B[39;00m \u001B[38;5;129;01mnot\u001B[39;00m \u001B[38;5;28;01mNone\u001B[39;00m:\n",
      "File \u001B[0;32m~/micromamba/envs/genes-gpt/lib/python3.10/subprocess.py:2005\u001B[0m, in \u001B[0;36mPopen._communicate\u001B[0;34m(self, input, endtime, orig_timeout)\u001B[0m\n\u001B[1;32m   1998\u001B[0m     \u001B[38;5;28mself\u001B[39m\u001B[38;5;241m.\u001B[39m_check_timeout(endtime, orig_timeout,\n\u001B[1;32m   1999\u001B[0m                         stdout, stderr,\n\u001B[1;32m   2000\u001B[0m                         skip_check_and_raise\u001B[38;5;241m=\u001B[39m\u001B[38;5;28;01mTrue\u001B[39;00m)\n\u001B[1;32m   2001\u001B[0m     \u001B[38;5;28;01mraise\u001B[39;00m \u001B[38;5;167;01mRuntimeError\u001B[39;00m(  \u001B[38;5;66;03m# Impossible :)\u001B[39;00m\n\u001B[1;32m   2002\u001B[0m         \u001B[38;5;124m'\u001B[39m\u001B[38;5;124m_check_timeout(..., skip_check_and_raise=True) \u001B[39m\u001B[38;5;124m'\u001B[39m\n\u001B[1;32m   2003\u001B[0m         \u001B[38;5;124m'\u001B[39m\u001B[38;5;124mfailed to raise TimeoutExpired.\u001B[39m\u001B[38;5;124m'\u001B[39m)\n\u001B[0;32m-> 2005\u001B[0m ready \u001B[38;5;241m=\u001B[39m \u001B[43mselector\u001B[49m\u001B[38;5;241;43m.\u001B[39;49m\u001B[43mselect\u001B[49m\u001B[43m(\u001B[49m\u001B[43mtimeout\u001B[49m\u001B[43m)\u001B[49m\n\u001B[1;32m   2006\u001B[0m \u001B[38;5;28mself\u001B[39m\u001B[38;5;241m.\u001B[39m_check_timeout(endtime, orig_timeout, stdout, stderr)\n\u001B[1;32m   2008\u001B[0m \u001B[38;5;66;03m# XXX Rewrite these to use non-blocking I/O on the file\u001B[39;00m\n\u001B[1;32m   2009\u001B[0m \u001B[38;5;66;03m# objects; they are no longer using C stdio!\u001B[39;00m\n",
      "File \u001B[0;32m~/micromamba/envs/genes-gpt/lib/python3.10/selectors.py:416\u001B[0m, in \u001B[0;36m_PollLikeSelector.select\u001B[0;34m(self, timeout)\u001B[0m\n\u001B[1;32m    414\u001B[0m ready \u001B[38;5;241m=\u001B[39m []\n\u001B[1;32m    415\u001B[0m \u001B[38;5;28;01mtry\u001B[39;00m:\n\u001B[0;32m--> 416\u001B[0m     fd_event_list \u001B[38;5;241m=\u001B[39m \u001B[38;5;28;43mself\u001B[39;49m\u001B[38;5;241;43m.\u001B[39;49m\u001B[43m_selector\u001B[49m\u001B[38;5;241;43m.\u001B[39;49m\u001B[43mpoll\u001B[49m\u001B[43m(\u001B[49m\u001B[43mtimeout\u001B[49m\u001B[43m)\u001B[49m\n\u001B[1;32m    417\u001B[0m \u001B[38;5;28;01mexcept\u001B[39;00m \u001B[38;5;167;01mInterruptedError\u001B[39;00m:\n\u001B[1;32m    418\u001B[0m     \u001B[38;5;28;01mreturn\u001B[39;00m ready\n",
      "\u001B[0;31mKeyboardInterrupt\u001B[0m: "
     ]
    }
   ],
   "source": [
    "index.with_papers_incremental()\n",
    "index.persist()"
   ],
   "metadata": {
    "collapsed": false
   }
  }
 ],
 "metadata": {
  "kernelspec": {
   "display_name": "Python 3 (ipykernel)",
   "language": "python",
   "name": "python3"
  },
  "language_info": {
   "codemirror_mode": {
    "name": "ipython",
    "version": 3
   },
   "file_extension": ".py",
   "mimetype": "text/x-python",
   "name": "python",
   "nbconvert_exporter": "python",
   "pygments_lexer": "ipython3",
   "version": "3.10.10"
  }
 },
 "nbformat": 4,
 "nbformat_minor": 4
}
