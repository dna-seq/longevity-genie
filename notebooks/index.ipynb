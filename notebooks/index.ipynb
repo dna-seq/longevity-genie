{
 "cells": [
  {
   "cell_type": "markdown",
   "metadata": {},
   "source": [
    "## Indexing genes with ChatGPT ##"
   ]
  },
  {
   "cell_type": "code",
   "execution_count": 2,
   "outputs": [
    {
     "name": "stdout",
     "output_type": "stream",
     "text": [
      "[PosixPath('/home/antonkulaga/sources/genes-gpt/genes'), '/home/antonkulaga/sources/genes-gpt/notebooks/..', '/home/antonkulaga/.local/share/JetBrains/Toolbox/apps/IDEA-U/ch-0/231.8770.65.plugins/python/helpers-pro/jupyter_debug', '/home/antonkulaga/.local/share/JetBrains/Toolbox/apps/IDEA-U/ch-0/231.8770.65.plugins/python/helpers/pydev', '/home/antonkulaga/sources/genes-gpt/notebooks', '/home/antonkulaga/sources/genes-gpt', '/home/antonkulaga/micromamba/envs/genes-gpt/lib/python310.zip', '/home/antonkulaga/micromamba/envs/genes-gpt/lib/python3.10', '/home/antonkulaga/micromamba/envs/genes-gpt/lib/python3.10/lib-dynload', '', '/home/antonkulaga/.local/lib/python3.10/site-packages', '/home/antonkulaga/micromamba/envs/genes-gpt/lib/python3.10/site-packages']\n"
     ]
    }
   ],
   "source": [
    "import sys\n",
    "from pathlib import Path\n",
    "from genes.config import Locations\n",
    "from pycomfort.files import *\n",
    "import polars as pl\n",
    "import pandas as pd\n",
    "\n",
    "base = Path(\"..\")\n",
    "local = (base / \"genes\").resolve()\n",
    "if local.exists():\n",
    "    sys.path.insert(0, Path(\"..\").absolute().as_posix())\n",
    "    sys.path.insert(0, local)\n",
    "    print(sys.path)\n",
    "else:\n",
    "    base = Path(\".\")\n",
    "%load_ext autoreload\n",
    "%autoreload 2"
   ],
   "metadata": {
    "collapsed": false
   }
  },
  {
   "cell_type": "code",
   "execution_count": 3,
   "outputs": [
    {
     "name": "stdout",
     "output_type": "stream",
     "text": [
      "papers\n",
      "\t.gitignore\n",
      "\ttest.pdf\n",
      "\t10.1073\n",
      "\t\tpnas.0705467105.pdf\n",
      "\t\tpnas.2628028100.pdf\n",
      "\t\tpnas.1003540107.pdf\n",
      "\t\tpnas.1936249100.pdf\n",
      "\t\tpnas.0801030105.pdf\n",
      "\t\tpnas.022484299.pdf\n",
      "\t\tpnas.0906191106.pdf\n",
      "\t\tpnas.0408670102.pdf\n",
      "\t\tpnas.0809594106.pdf\n",
      "\t\tpnas.181337598.pdf\n",
      "\t10.1186\n",
      "\t\t1742-4933-2-13.pdf\n",
      "\t\t1471-2350-8-S1-S13.pdf\n",
      "\t\t1471-2318-9-57.pdf\n",
      "\t\t1756-0500-3-55.pdf\n",
      "\t10.1006\n",
      "\t\tbbrc.2001.4280.pdf\n",
      "\t10.1007\n",
      "\t\ts10522-006-9021-2.pdf\n",
      "\t\ts10522-005-4909-9.pdf\n",
      "\t\tBF03324487.pdf\n",
      "\t\ts004390050364.pdf\n",
      "\t\ts00109-003-0485-0.pdf\n",
      "\t\ts10522-010-9273-8.pdf\n",
      "\t\ts001090100192.pdf\n",
      "\t\ts11357-012-9416-8.pdf\n",
      "\t\ts00439-006-0148-7.pdf\n",
      "\t\ts00439-002-0826-z.pdf\n",
      "\t\ts11357-012-9408-8.pdf\n",
      "\t\ts11357-013-9559-2.pdf\n",
      "\t\ts11357-012-9447-1.pdf\n",
      "\t\ts00439-002-0843-y.pdf\n",
      "\t\ts10522-011-9360-5.pdf\n",
      "\t\ts10522-009-9246-y.pdf\n",
      "\t\ts001090000132.pdf\n",
      "\t\tBF03327391.pdf\n",
      "\t\ts10522-013-9470-3.pdf\n",
      "\t\ts10072-012-1188-5.pdf\n",
      "\t\ts11033-010-0546-8.pdf\n",
      "\t\ts10522-010-9266-7.pdf\n",
      "\t\ts11357-013-9513-3.pdf\n",
      "\t\ts11033-012-1784-8.pdf\n",
      "\t\ts11357-013-9593-0.pdf\n",
      "\t\tBF03324333.pdf\n",
      "\t\ts12603-011-0123-4.pdf\n",
      "\t\ts00109-002-0407-6.pdf\n",
      "\t\ts11357-011-9373-7.pdf\n",
      "\t\ts10522-013-9421-z.pdf\n",
      "\t\ts10522-006-9041-y.pdf\n",
      "\t\ts10522-006-9050-x.pdf\n",
      "\t\ts004390050735.pdf\n",
      "\t\ts10522-005-6042-1.pdf\n",
      "\t\ts11357-011-9210-z.pdf\n",
      "\t\ts10522-009-9229-z.pdf\n",
      "\t\ts11357-011-9340-3.pdf\n",
      "\t10.3233\n",
      "\t\tJAD-2011-101791.pdf\n",
      "\t\tJAD-2011-110743.pdf\n",
      "\t10.1016\n",
      "\t\tj.exger.2008.08.004.pdf\n",
      "\t\ts0047-6374(03)00149-0.pdf\n",
      "\t\tj.mrfmmm.2010.08.006.pdf\n",
      "\t\tj.mad.2013.01.005.pdf\n",
      "\t\tj.mad.2005.01.009.pdf\n",
      "\t\ts0735-1097(99)00337-x.pdf\n",
      "\t\tj.mad.2010.08.009.pdf\n",
      "\t\tj.exger.2003.08.014.pdf\n",
      "\t\tj.exger.2014.04.003.pdf\n",
      "\t\tj.mad.2004.10.001.pdf\n",
      "\t\tj.exger.2005.09.008.pdf\n",
      "\t\tj.cca.2010.06.030.pdf\n",
      "\t\ts0047-6374(03)00033-2.pdf\n",
      "\t\tj.exger.2004.05.007.pdf\n",
      "\t\tj.mad.2004.03.004.pdf\n",
      "\t\tj.mad.2009.08.004.pdf\n",
      "\t\tj.archger.2011.01.001.pdf\n",
      "\t\tj.trsl.2009.08.002.pdf\n",
      "\t\tj.mad.2010.04.001.pdf\n",
      "\t\tj.mad.2005.11.005.pdf\n",
      "\t\tj.toxlet.2004.01.025.pdf\n",
      "\t\tj.cyto.2011.12.021.pdf\n",
      "\t\ts0531-5565(01)00198-x.pdf\n",
      "\t\ts0047-6374(03)00037-x.pdf\n",
      "\t\tj.mad.2007.04.001.pdf\n",
      "\t\tj.mad.2004.08.025.pdf\n",
      "\t\tj.trsl.2014.09.008.pdf\n",
      "\t\tj.exger.2011.09.001.pdf\n",
      "\t\tj.exger.2010.04.007.pdf\n",
      "\t\tj.mad.2005.06.006.pdf\n",
      "\t\tj.ygeno.2004.11.003.pdf\n",
      "\t\tj.mad.2011.06.008.pdf\n",
      "\t\tj.exger.2009.02.004.pdf\n",
      "\t\tj.mad.2006.08.007.pdf\n",
      "\t\ts0047-6374(03)00032-0.pdf\n",
      "\t\tj.amjmed.2004.01.027.pdf\n",
      "\t\ts0047-6374(02)00081-7.pdf\n",
      "\t\ts0764-4469(00)01274-9.pdf\n",
      "\t\tS0140-6736(05)78211-8.pdf\n",
      "\t\tj.exger.2004.03.017.pdf\n",
      "\t\ts0531-5565(03)00209-2.pdf\n",
      "\t\tj.neurobiolaging.2007.05.003.pdf\n",
      "\t\tj.exger.2011.07.011.pdf\n",
      "\t\tj.mad.2006.08.002.pdf\n",
      "\t\ts0531-5565(01)00102-4.pdf\n",
      "\t\tj.exger.2014.01.014.pdf\n",
      "\t\tj.mad.2009.01.005.pdf\n",
      "\t\tj.cyto.2011.07.023.pdf\n",
      "\t\ts0531-5565(03)00006-8.pdf\n",
      "\t\tj.exger.2003.10.001.pdf\n",
      "\t\ts0047-6374(98)00067-0.pdf\n",
      "\t\ts0021-9150(97)00290-6.pdf\n",
      "\t\tj.exger.2011.01.003.pdf\n",
      "\t\ts0047-6374(01)00278-0.pdf\n",
      "\t\tj.mad.2012.06.004.pdf\n",
      "\t\tj.cca.2010.12.006.pdf\n",
      "\t\ts0140-6736(87)91015-4.pdf\n",
      "\t\ts0304-3940(98)00025-1.pdf\n",
      "\t\tj.exger.2014.02.004.pdf\n",
      "\t\tj.mad.2015.08.003.pdf\n",
      "\t\ts1047-2797(02)00254-5.pdf\n",
      "\t\ts0047-6374(01)00338-4.pdf\n",
      "\t\tj.exger.2004.05.003.pdf\n",
      "\t\tj.exger.2003.11.019.pdf\n",
      "\t\tj.exger.2013.03.009.pdf\n",
      "\t\ts0531-5565(01)00146-2.pdf\n",
      "\t\tj.exger.2004.03.034.pdf\n",
      "\t\tj.neurobiolaging.2011.05.026.pdf\n",
      "\t\tj.exger.2004.02.001.pdf\n",
      "\t\tj.archger.2006.10.011.pdf\n",
      "\t\tj.neurobiolaging.2012.02.014.pdf\n",
      "\t\ts0531-5565(01)00094-8.pdf\n",
      "\t\tj.exger.2004.03.037.pdf\n",
      "\t\ts0047-6374(03)00036-8.pdf\n",
      "\t\tj.arcmed.2006.04.001.pdf\n",
      "\t\ts0531-5565(03)00154-2.pdf\n",
      "\t\tj.neurobiolaging.2012.08.019.pdf\n",
      "\t\tj.mad.2006.02.003.pdf\n",
      "\t\ts0021-9150(96)06027-3.pdf\n",
      "\t\tj.mad.2004.08.026.pdf\n",
      "\t\tj.exger.2012.02.010.pdf\n",
      "\t\t0021-9150(94)90011-6.pdf\n",
      "\t\tj.neurobiolaging.2013.04.001.pdf\n",
      "\t\tj.atherosclerosis.2005.01.028.pdf\n",
      "\t10.1111\n",
      "\t\tj.1474-9726.2010.00600.x.pdf\n",
      "\t\tj.1744-313X.2010.00925.x.pdf\n",
      "\t\tj.1744-313X.2006.00613.x.pdf\n",
      "\t\tj.1399-0039.1997.tb02904.x.pdf\n",
      "\t\tj.1474-9726.2009.00493.x.pdf\n",
      "\t\tj.1474-9726.2011.00775.x.pdf\n",
      "\t\tacel.12186.pdf\n",
      "\t\tacel.12011.pdf\n",
      "\t\tacel.12015.pdf\n",
      "\t\tj.1474-9728.2005.00148.x.pdf\n",
      "\t\tj.1749-6632.1991.tb16970.x.pdf\n",
      "\t\tj.1474-9726.2011.00698.x.pdf\n",
      "\t\tj.1474-9726.2011.00705.x.pdf\n",
      "\t\tj.1474-9726.2010.00627.x.pdf\n",
      "\t\tj.1474-9726.2012.00808.x.pdf\n",
      "\t\tj.1749-6632.2001.tb05639.x.pdf\n",
      "\t\tacel.12039.pdf\n",
      "\t\tj.1532-5415.2004.52369.x.pdf\n",
      "\t\tj.1474-9728.2004.00129.x.pdf\n",
      "\t10.1196\n",
      "\t\tannals.1354.040.pdf\n",
      "\t10.1177\n",
      "\t\t0003319712475075.pdf\n",
      "\t10.1503\n",
      "\t\tcmaj.120233.pdf\n",
      "\t10.1161\n",
      "\t\tATVBAHA.112.300421.pdf\n",
      "\t\t01.atv.17.4.755.pdf\n",
      "\t\t01.RES.0000157171.04054.30.pdf\n",
      "\t\t01.atv.14.7.1084.pdf\n",
      "\t\tATVBAHA.113.301273.pdf\n",
      "\t10.1093\n",
      "\t\tgerona\n",
      "\t\t\tglp154.pdf\n",
      "\t\t\t58.9.m851.pdf\n",
      "\t\t\tglt082.pdf\n",
      "\t\t\t62.2.202.pdf\n",
      "\t\t\t63.5.454.pdf\n",
      "\t\t\tgls223.pdf\n",
      "\t\t\t63.5.447.pdf\n",
      "\t\t\tgls067.pdf\n",
      "\t\t\t61.6.547.pdf\n",
      "\t\t\t61.4.355.pdf\n",
      "\t\t\t61.12.1228.pdf\n",
      "\t\t\t62.1.73.pdf\n",
      "\t\t\t60.12.1525.pdf\n",
      "\t\t\t61.9.918.pdf\n",
      "\t\t\t54.4.b150.pdf\n",
      "\t\t\tglq156.pdf\n",
      "\t\t\t56.1.b27.pdf\n",
      "\t\t\t58.3.m227.pdf\n",
      "\t\t\tglq160.pdf\n",
      "\t\t\t56.2.m75.pdf\n",
      "\t\t\tglr117.pdf\n",
      "\t\t\t57.1.m57.pdf\n",
      "\t\t\tglu021.pdf\n",
      "\t\t\tgls192.pdf\n",
      "\t\t\t63.11.1235.pdf\n",
      "\t\t\tgls103.pdf\n",
      "\t\t\tglq028.pdf\n",
      "\t\tageing\n",
      "\t\t\t26.2.147.pdf\n",
      "\t\taje\n",
      "\t\t\tkwr015.pdf\n",
      "\t\thmg\n",
      "\t\t\tddp459.pdf\n",
      "\t\t\t7.2.187.pdf\n",
      "\t\t\tddu139.pdf\n",
      "\t10.1136\n",
      "\t\tjmg.40.2.146.pdf\n",
      "\t\tjmg.40.4.296.pdf\n",
      "\t10.3390\n",
      "\t\tijms141123203.pdf\n",
      "\t10.1371\n",
      "\t\tjournal.pone.0058636.pdf\n",
      "\t\tjournal.pone.0006423.pdf\n",
      "\t\tjournal.pone.0017558.pdf\n",
      "\t\tjournal.pbio.0040113.pdf\n",
      "\t\tjournal.pone.0002421.pdf\n",
      "\t\tjournal.pone.0045232.pdf\n",
      "\t\tjournal.pone.0042877.pdf\n",
      "\t\tjournal.pone.0008210.pdf\n",
      "\t\tjournal.pone.0029650.pdf\n",
      "\t\tjournal.pone.0034746.pdf\n",
      "\t\tjournal.pone.0012432.pdf\n",
      "\t\tjournal.pone.0029848.pdf\n",
      "\t10.1210\n",
      "\t\tjc.2009-0808.pdf\n",
      "\t\tjc.2002-021810.pdf\n",
      "\t10.1002\n",
      "\t\t1521-4141(200108)31:8&#60;2357::aid-immu2357&#62;3.0.co;2-x.pdf\n",
      "\t\tpmic.201900408.pdf\n",
      "\t10.1189\n",
      "\t\tjlb.0705416.pdf\n",
      "\t10.1046\n",
      "\t\tj.1365-2362.1999.00578.x.pdf\n",
      "\t\tj.1469-1809.2003.00008.x.pdf\n",
      "\t10.1523\n",
      "\t\tJNEUROSCI.3515-12.2013.pdf\n",
      "\t10.1038\n",
      "\t\tjhg.2009.111.pdf\n",
      "\t\tsj.ejhg.5200222.pdf\n",
      "\t\tejhg.2012.196.pdf\n",
      "\t\tejhg.2011.43.pdf\n",
      "\t\tsj.ejhg.5201235.pdf\n",
      "\t\tejhg.2013.299.pdf\n",
      "\t\tejhg.2009.54.pdf\n",
      "\t\tng0194-29.pdf\n",
      "\t\tsj.ejhg.5201468.pdf\n",
      "\t\tsj.gene.6363823.pdf\n",
      "\t\tsj.gene.6363827.pdf\n",
      "\t\tsj.cdd.4400964.pdf\n",
      "\t\tsj.ejhg.5200806.pdf\n",
      "\t10.1080\n",
      "\t\t13547500310001627519.pdf\n",
      "\t10.1089\n",
      "\t\trej.2009.0984.pdf\n",
      "\t\trej.2006.9.157.pdf\n",
      "\t\trej.2008.0827.pdf\n",
      "\t\trej.2006.9.153.pdf\n",
      "\t\trej.2012.1382.pdf\n",
      "\t\trej.2012.1365.pdf\n",
      "\t\trej.2010.1114.pdf\n",
      "\t\trej.2009.0970.pdf\n",
      "\t\trej.2011.1257.pdf\n",
      "\t10.1096\n",
      "\t\tfasebj.13.12.1532.pdf\n",
      "\t10.4161\n",
      "\t\tcc.7.2.5249.pdf\n",
      "\t\tpri.23903.pdf\n",
      "\t10.1590\n",
      "\t\ts0066-782x2002000600004.pdf\n",
      "\t10.1023\n",
      "\t\ta:1025182615693.pdf\n",
      "\t\tB:BGEN.0000031154.57176.4f.pdf\n",
      "\t10.3109\n",
      "\t\t13685538.2011.607521.pdf\n",
      "\t\t13685531003657800.pdf\n",
      "\t10.3858\n",
      "\t\temm.2009.41.11.083.pdf\n",
      "\t10.2174\n",
      "\t\t138161210790883499.pdf\n",
      "\t10.1001\n",
      "\t\tjama.290.15.2030.pdf\n",
      "\t\tjama.292.19.2339.pdf\n"
     ]
    }
   ],
   "source": [
    "import sys\n",
    "from pathlib import Path\n",
    "from genes.config import Locations\n",
    "from pycomfort.files import *\n",
    "locations = Locations(base)\n",
    "tprint(locations.papers)"
   ],
   "metadata": {
    "collapsed": false
   }
  },
  {
   "cell_type": "code",
   "execution_count": 4,
   "outputs": [
    {
     "data": {
      "text/plain": "True"
     },
     "execution_count": 4,
     "metadata": {},
     "output_type": "execute_result"
    }
   ],
   "source": [
    "from dotenv import load_dotenv\n",
    "load_dotenv()"
   ],
   "metadata": {
    "collapsed": false
   }
  },
  {
   "cell_type": "markdown",
   "source": [
    "## LangChain ##"
   ],
   "metadata": {
    "collapsed": false
   }
  },
  {
   "cell_type": "code",
   "execution_count": null,
   "outputs": [
    {
     "name": "stdout",
     "output_type": "stream",
     "text": [
      "loading papers from /home/antonkulaga/sources/genes-gpt/data/papers\n"
     ]
    }
   ],
   "source": [
    "from genes.indexing import *\n",
    "ind = index(locations)\n",
    "ind"
   ],
   "metadata": {
    "collapsed": false,
    "pycharm": {
     "is_executing": true
    }
   }
  },
  {
   "cell_type": "code",
   "execution_count": null,
   "outputs": [],
   "source": [
    "print(\"Hello\")"
   ],
   "metadata": {
    "collapsed": false,
    "pycharm": {
     "is_executing": true
    }
   }
  },
  {
   "cell_type": "code",
   "execution_count": 40,
   "outputs": [
    {
     "name": "stdout",
     "output_type": "stream",
     "text": [
      "hello world\n"
     ]
    }
   ],
   "source": [
    "print(\"hello world\")"
   ],
   "metadata": {
    "collapsed": false
   }
  },
  {
   "cell_type": "code",
   "execution_count": 67,
   "outputs": [
    {
     "data": {
      "text/plain": "{'question': 'What do you know about APOB?',\n 'answer': \" I don't know.\\n\",\n 'sources': 'N/A'}"
     },
     "execution_count": 67,
     "metadata": {},
     "output_type": "execute_result"
    }
   ],
   "source": [
    "index.query_with_sources(\"What do you know about APOB?\")"
   ],
   "metadata": {
    "collapsed": false
   }
  },
  {
   "cell_type": "code",
   "execution_count": 69,
   "outputs": [
    {
     "name": "stdout",
     "output_type": "stream",
     "text": [
      "TEST?\n",
      "TEST?\n"
     ]
    }
   ],
   "source": [
    "print(\"TEST!?!!!\")"
   ],
   "metadata": {
    "collapsed": false
   }
  }
 ],
 "metadata": {
  "kernelspec": {
   "display_name": "Python 3 (ipykernel)",
   "language": "python",
   "name": "python3"
  },
  "language_info": {
   "codemirror_mode": {
    "name": "ipython",
    "version": 3
   },
   "file_extension": ".py",
   "mimetype": "text/x-python",
   "name": "python",
   "nbconvert_exporter": "python",
   "pygments_lexer": "ipython3",
   "version": "3.10.10"
  }
 },
 "nbformat": 4,
 "nbformat_minor": 4
}
